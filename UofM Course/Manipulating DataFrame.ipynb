{
 "cells": [
  {
   "cell_type": "code",
   "execution_count": 32,
   "id": "initial_id",
   "metadata": {
    "collapsed": true,
    "ExecuteTime": {
     "end_time": "2023-08-22T01:28:24.969412300Z",
     "start_time": "2023-08-22T01:28:24.934191Z"
    }
   },
   "outputs": [
    {
     "data": {
      "text/plain": "    #            President             Born      Age atstart of presidency  \\\n0   1    George Washington  Feb 22, 1732[a]  57 years, 67 daysApr 30, 1789   \n1   2           John Adams  Oct 30, 1735[a]  61 years, 125 daysMar 4, 1797   \n2   3     Thomas Jefferson  Apr 13, 1743[a]  57 years, 325 daysMar 4, 1801   \n3   4        James Madison  Mar 16, 1751[a]  57 years, 353 daysMar 4, 1809   \n4   5         James Monroe     Apr 28, 1758  58 years, 310 daysMar 4, 1817   \n5   6    John Quincy Adams     Jul 11, 1767  57 years, 236 daysMar 4, 1825   \n6   7       Andrew Jackson     Mar 15, 1767  61 years, 354 daysMar 4, 1829   \n7   8     Martin Van Buren      Dec 5, 1782   54 years, 89 daysMar 4, 1837   \n8   9  William H. Harrison      Feb 9, 1773   68 years, 23 daysMar 4, 1841   \n9  10           John Tyler     Mar 29, 1790    51 years, 6 daysApr 4, 1841   \n\n            Age atend of presidency Post-presidencytimespan          Died  \\\n0      65 years, 10 daysMar 4, 1797       2 years, 285 days  Dec 14, 1799   \n1     65 years, 125 daysMar 4, 1801      25 years, 122 days   Jul 4, 1826   \n2     65 years, 325 daysMar 4, 1809      17 years, 122 days   Jul 4, 1826   \n3     65 years, 353 daysMar 4, 1817      19 years, 116 days  Jun 28, 1836   \n4     66 years, 310 daysMar 4, 1825       6 years, 122 days   Jul 4, 1831   \n5     61 years, 236 daysMar 4, 1829      18 years, 356 days  Feb 23, 1848   \n6     69 years, 354 daysMar 4, 1837        8 years, 96 days   Jun 8, 1845   \n7      58 years, 89 daysMar 4, 1841      21 years, 142 days  Jul 24, 1862   \n8  68 years, 54 days Apr 4, 1841[b]                     NaN   Apr 4, 1841   \n9     54 years, 340 daysMar 4, 1845      16 years, 320 days  Jan 18, 1862   \n\n                  Age  \n0  67 years, 295 days  \n1  90 years, 247 days  \n2   83 years, 82 days  \n3  85 years, 104 days  \n4   73 years, 67 days  \n5  80 years, 227 days  \n6   78 years, 85 days  \n7  79 years, 231 days  \n8   68 years, 54 days  \n9  71 years, 295 days  ",
      "text/html": "<div>\n<style scoped>\n    .dataframe tbody tr th:only-of-type {\n        vertical-align: middle;\n    }\n\n    .dataframe tbody tr th {\n        vertical-align: top;\n    }\n\n    .dataframe thead th {\n        text-align: right;\n    }\n</style>\n<table border=\"1\" class=\"dataframe\">\n  <thead>\n    <tr style=\"text-align: right;\">\n      <th></th>\n      <th>#</th>\n      <th>President</th>\n      <th>Born</th>\n      <th>Age atstart of presidency</th>\n      <th>Age atend of presidency</th>\n      <th>Post-presidencytimespan</th>\n      <th>Died</th>\n      <th>Age</th>\n    </tr>\n  </thead>\n  <tbody>\n    <tr>\n      <th>0</th>\n      <td>1</td>\n      <td>George Washington</td>\n      <td>Feb 22, 1732[a]</td>\n      <td>57 years, 67 daysApr 30, 1789</td>\n      <td>65 years, 10 daysMar 4, 1797</td>\n      <td>2 years, 285 days</td>\n      <td>Dec 14, 1799</td>\n      <td>67 years, 295 days</td>\n    </tr>\n    <tr>\n      <th>1</th>\n      <td>2</td>\n      <td>John Adams</td>\n      <td>Oct 30, 1735[a]</td>\n      <td>61 years, 125 daysMar 4, 1797</td>\n      <td>65 years, 125 daysMar 4, 1801</td>\n      <td>25 years, 122 days</td>\n      <td>Jul 4, 1826</td>\n      <td>90 years, 247 days</td>\n    </tr>\n    <tr>\n      <th>2</th>\n      <td>3</td>\n      <td>Thomas Jefferson</td>\n      <td>Apr 13, 1743[a]</td>\n      <td>57 years, 325 daysMar 4, 1801</td>\n      <td>65 years, 325 daysMar 4, 1809</td>\n      <td>17 years, 122 days</td>\n      <td>Jul 4, 1826</td>\n      <td>83 years, 82 days</td>\n    </tr>\n    <tr>\n      <th>3</th>\n      <td>4</td>\n      <td>James Madison</td>\n      <td>Mar 16, 1751[a]</td>\n      <td>57 years, 353 daysMar 4, 1809</td>\n      <td>65 years, 353 daysMar 4, 1817</td>\n      <td>19 years, 116 days</td>\n      <td>Jun 28, 1836</td>\n      <td>85 years, 104 days</td>\n    </tr>\n    <tr>\n      <th>4</th>\n      <td>5</td>\n      <td>James Monroe</td>\n      <td>Apr 28, 1758</td>\n      <td>58 years, 310 daysMar 4, 1817</td>\n      <td>66 years, 310 daysMar 4, 1825</td>\n      <td>6 years, 122 days</td>\n      <td>Jul 4, 1831</td>\n      <td>73 years, 67 days</td>\n    </tr>\n    <tr>\n      <th>5</th>\n      <td>6</td>\n      <td>John Quincy Adams</td>\n      <td>Jul 11, 1767</td>\n      <td>57 years, 236 daysMar 4, 1825</td>\n      <td>61 years, 236 daysMar 4, 1829</td>\n      <td>18 years, 356 days</td>\n      <td>Feb 23, 1848</td>\n      <td>80 years, 227 days</td>\n    </tr>\n    <tr>\n      <th>6</th>\n      <td>7</td>\n      <td>Andrew Jackson</td>\n      <td>Mar 15, 1767</td>\n      <td>61 years, 354 daysMar 4, 1829</td>\n      <td>69 years, 354 daysMar 4, 1837</td>\n      <td>8 years, 96 days</td>\n      <td>Jun 8, 1845</td>\n      <td>78 years, 85 days</td>\n    </tr>\n    <tr>\n      <th>7</th>\n      <td>8</td>\n      <td>Martin Van Buren</td>\n      <td>Dec 5, 1782</td>\n      <td>54 years, 89 daysMar 4, 1837</td>\n      <td>58 years, 89 daysMar 4, 1841</td>\n      <td>21 years, 142 days</td>\n      <td>Jul 24, 1862</td>\n      <td>79 years, 231 days</td>\n    </tr>\n    <tr>\n      <th>8</th>\n      <td>9</td>\n      <td>William H. Harrison</td>\n      <td>Feb 9, 1773</td>\n      <td>68 years, 23 daysMar 4, 1841</td>\n      <td>68 years, 54 days Apr 4, 1841[b]</td>\n      <td>NaN</td>\n      <td>Apr 4, 1841</td>\n      <td>68 years, 54 days</td>\n    </tr>\n    <tr>\n      <th>9</th>\n      <td>10</td>\n      <td>John Tyler</td>\n      <td>Mar 29, 1790</td>\n      <td>51 years, 6 daysApr 4, 1841</td>\n      <td>54 years, 340 daysMar 4, 1845</td>\n      <td>16 years, 320 days</td>\n      <td>Jan 18, 1862</td>\n      <td>71 years, 295 days</td>\n    </tr>\n  </tbody>\n</table>\n</div>"
     },
     "execution_count": 32,
     "metadata": {},
     "output_type": "execute_result"
    }
   ],
   "source": [
    "import pandas as pd \n",
    "\n",
    "df = pd.read_csv('presidents.csv')\n",
    "\n",
    "df.head(10)"
   ]
  },
  {
   "cell_type": "code",
   "execution_count": 33,
   "outputs": [
    {
     "data": {
      "text/plain": "   #          President             Born      Age atstart of presidency  \\\n0  1  George Washington  Feb 22, 1732[a]  57 years, 67 daysApr 30, 1789   \n1  2         John Adams  Oct 30, 1735[a]  61 years, 125 daysMar 4, 1797   \n2  3   Thomas Jefferson  Apr 13, 1743[a]  57 years, 325 daysMar 4, 1801   \n3  4      James Madison  Mar 16, 1751[a]  57 years, 353 daysMar 4, 1809   \n4  5       James Monroe     Apr 28, 1758  58 years, 310 daysMar 4, 1817   \n\n         Age atend of presidency Post-presidencytimespan          Died  \\\n0   65 years, 10 daysMar 4, 1797       2 years, 285 days  Dec 14, 1799   \n1  65 years, 125 daysMar 4, 1801      25 years, 122 days   Jul 4, 1826   \n2  65 years, 325 daysMar 4, 1809      17 years, 122 days   Jul 4, 1826   \n3  65 years, 353 daysMar 4, 1817      19 years, 116 days  Jun 28, 1836   \n4  66 years, 310 daysMar 4, 1825       6 years, 122 days   Jul 4, 1831   \n\n                  Age   First  \n0  67 years, 295 days  George  \n1  90 years, 247 days    John  \n2   83 years, 82 days  Thomas  \n3  85 years, 104 days   James  \n4   73 years, 67 days   James  ",
      "text/html": "<div>\n<style scoped>\n    .dataframe tbody tr th:only-of-type {\n        vertical-align: middle;\n    }\n\n    .dataframe tbody tr th {\n        vertical-align: top;\n    }\n\n    .dataframe thead th {\n        text-align: right;\n    }\n</style>\n<table border=\"1\" class=\"dataframe\">\n  <thead>\n    <tr style=\"text-align: right;\">\n      <th></th>\n      <th>#</th>\n      <th>President</th>\n      <th>Born</th>\n      <th>Age atstart of presidency</th>\n      <th>Age atend of presidency</th>\n      <th>Post-presidencytimespan</th>\n      <th>Died</th>\n      <th>Age</th>\n      <th>First</th>\n    </tr>\n  </thead>\n  <tbody>\n    <tr>\n      <th>0</th>\n      <td>1</td>\n      <td>George Washington</td>\n      <td>Feb 22, 1732[a]</td>\n      <td>57 years, 67 daysApr 30, 1789</td>\n      <td>65 years, 10 daysMar 4, 1797</td>\n      <td>2 years, 285 days</td>\n      <td>Dec 14, 1799</td>\n      <td>67 years, 295 days</td>\n      <td>George</td>\n    </tr>\n    <tr>\n      <th>1</th>\n      <td>2</td>\n      <td>John Adams</td>\n      <td>Oct 30, 1735[a]</td>\n      <td>61 years, 125 daysMar 4, 1797</td>\n      <td>65 years, 125 daysMar 4, 1801</td>\n      <td>25 years, 122 days</td>\n      <td>Jul 4, 1826</td>\n      <td>90 years, 247 days</td>\n      <td>John</td>\n    </tr>\n    <tr>\n      <th>2</th>\n      <td>3</td>\n      <td>Thomas Jefferson</td>\n      <td>Apr 13, 1743[a]</td>\n      <td>57 years, 325 daysMar 4, 1801</td>\n      <td>65 years, 325 daysMar 4, 1809</td>\n      <td>17 years, 122 days</td>\n      <td>Jul 4, 1826</td>\n      <td>83 years, 82 days</td>\n      <td>Thomas</td>\n    </tr>\n    <tr>\n      <th>3</th>\n      <td>4</td>\n      <td>James Madison</td>\n      <td>Mar 16, 1751[a]</td>\n      <td>57 years, 353 daysMar 4, 1809</td>\n      <td>65 years, 353 daysMar 4, 1817</td>\n      <td>19 years, 116 days</td>\n      <td>Jun 28, 1836</td>\n      <td>85 years, 104 days</td>\n      <td>James</td>\n    </tr>\n    <tr>\n      <th>4</th>\n      <td>5</td>\n      <td>James Monroe</td>\n      <td>Apr 28, 1758</td>\n      <td>58 years, 310 daysMar 4, 1817</td>\n      <td>66 years, 310 daysMar 4, 1825</td>\n      <td>6 years, 122 days</td>\n      <td>Jul 4, 1831</td>\n      <td>73 years, 67 days</td>\n      <td>James</td>\n    </tr>\n  </tbody>\n</table>\n</div>"
     },
     "execution_count": 33,
     "metadata": {},
     "output_type": "execute_result"
    }
   ],
   "source": [
    "df['First']=df['President']\n",
    "df['First']=df['First'].replace('[ ].*','', regex=True)\n",
    "df.head()"
   ],
   "metadata": {
    "collapsed": false,
    "ExecuteTime": {
     "end_time": "2023-08-22T01:28:26.960843300Z",
     "start_time": "2023-08-22T01:28:26.935529900Z"
    }
   },
   "id": "2a873f57822b2b69"
  },
  {
   "cell_type": "code",
   "execution_count": 34,
   "outputs": [
    {
     "data": {
      "text/plain": "   #          President             Born      Age atstart of presidency  \\\n0  1  George Washington  Feb 22, 1732[a]  57 years, 67 daysApr 30, 1789   \n1  2         John Adams  Oct 30, 1735[a]  61 years, 125 daysMar 4, 1797   \n2  3   Thomas Jefferson  Apr 13, 1743[a]  57 years, 325 daysMar 4, 1801   \n3  4      James Madison  Mar 16, 1751[a]  57 years, 353 daysMar 4, 1809   \n4  5       James Monroe     Apr 28, 1758  58 years, 310 daysMar 4, 1817   \n\n         Age atend of presidency Post-presidencytimespan          Died  \\\n0   65 years, 10 daysMar 4, 1797       2 years, 285 days  Dec 14, 1799   \n1  65 years, 125 daysMar 4, 1801      25 years, 122 days   Jul 4, 1826   \n2  65 years, 325 daysMar 4, 1809      17 years, 122 days   Jul 4, 1826   \n3  65 years, 353 daysMar 4, 1817      19 years, 116 days  Jun 28, 1836   \n4  66 years, 310 daysMar 4, 1825       6 years, 122 days   Jul 4, 1831   \n\n                  Age   First        Last  \n0  67 years, 295 days  George  Washington  \n1  90 years, 247 days    John       Adams  \n2   83 years, 82 days  Thomas   Jefferson  \n3  85 years, 104 days   James     Madison  \n4   73 years, 67 days   James      Monroe  ",
      "text/html": "<div>\n<style scoped>\n    .dataframe tbody tr th:only-of-type {\n        vertical-align: middle;\n    }\n\n    .dataframe tbody tr th {\n        vertical-align: top;\n    }\n\n    .dataframe thead th {\n        text-align: right;\n    }\n</style>\n<table border=\"1\" class=\"dataframe\">\n  <thead>\n    <tr style=\"text-align: right;\">\n      <th></th>\n      <th>#</th>\n      <th>President</th>\n      <th>Born</th>\n      <th>Age atstart of presidency</th>\n      <th>Age atend of presidency</th>\n      <th>Post-presidencytimespan</th>\n      <th>Died</th>\n      <th>Age</th>\n      <th>First</th>\n      <th>Last</th>\n    </tr>\n  </thead>\n  <tbody>\n    <tr>\n      <th>0</th>\n      <td>1</td>\n      <td>George Washington</td>\n      <td>Feb 22, 1732[a]</td>\n      <td>57 years, 67 daysApr 30, 1789</td>\n      <td>65 years, 10 daysMar 4, 1797</td>\n      <td>2 years, 285 days</td>\n      <td>Dec 14, 1799</td>\n      <td>67 years, 295 days</td>\n      <td>George</td>\n      <td>Washington</td>\n    </tr>\n    <tr>\n      <th>1</th>\n      <td>2</td>\n      <td>John Adams</td>\n      <td>Oct 30, 1735[a]</td>\n      <td>61 years, 125 daysMar 4, 1797</td>\n      <td>65 years, 125 daysMar 4, 1801</td>\n      <td>25 years, 122 days</td>\n      <td>Jul 4, 1826</td>\n      <td>90 years, 247 days</td>\n      <td>John</td>\n      <td>Adams</td>\n    </tr>\n    <tr>\n      <th>2</th>\n      <td>3</td>\n      <td>Thomas Jefferson</td>\n      <td>Apr 13, 1743[a]</td>\n      <td>57 years, 325 daysMar 4, 1801</td>\n      <td>65 years, 325 daysMar 4, 1809</td>\n      <td>17 years, 122 days</td>\n      <td>Jul 4, 1826</td>\n      <td>83 years, 82 days</td>\n      <td>Thomas</td>\n      <td>Jefferson</td>\n    </tr>\n    <tr>\n      <th>3</th>\n      <td>4</td>\n      <td>James Madison</td>\n      <td>Mar 16, 1751[a]</td>\n      <td>57 years, 353 daysMar 4, 1809</td>\n      <td>65 years, 353 daysMar 4, 1817</td>\n      <td>19 years, 116 days</td>\n      <td>Jun 28, 1836</td>\n      <td>85 years, 104 days</td>\n      <td>James</td>\n      <td>Madison</td>\n    </tr>\n    <tr>\n      <th>4</th>\n      <td>5</td>\n      <td>James Monroe</td>\n      <td>Apr 28, 1758</td>\n      <td>58 years, 310 daysMar 4, 1817</td>\n      <td>66 years, 310 daysMar 4, 1825</td>\n      <td>6 years, 122 days</td>\n      <td>Jul 4, 1831</td>\n      <td>73 years, 67 days</td>\n      <td>James</td>\n      <td>Monroe</td>\n    </tr>\n  </tbody>\n</table>\n</div>"
     },
     "execution_count": 34,
     "metadata": {},
     "output_type": "execute_result"
    }
   ],
   "source": [
    "del(df['First'])\n",
    "\n",
    "def splitname(row):\n",
    "    row['First']=row['President'].split(' ')[0]\n",
    "    row['Last']=row['President'].split(' ')[-1]\n",
    "    return row  \n",
    "\n",
    "df=df.apply(splitname, axis='columns')\n",
    "df.head()"
   ],
   "metadata": {
    "collapsed": false,
    "ExecuteTime": {
     "end_time": "2023-08-22T01:28:27.442114400Z",
     "start_time": "2023-08-22T01:28:27.363206600Z"
    }
   },
   "id": "4a53fc699d5b1c2d"
  },
  {
   "cell_type": "code",
   "execution_count": 35,
   "outputs": [
    {
     "data": {
      "text/plain": "                   0\n0  George Washington\n1         John Adams\n2   Thomas Jefferson\n3      James Madison\n4       James Monroe",
      "text/html": "<div>\n<style scoped>\n    .dataframe tbody tr th:only-of-type {\n        vertical-align: middle;\n    }\n\n    .dataframe tbody tr th {\n        vertical-align: top;\n    }\n\n    .dataframe thead th {\n        text-align: right;\n    }\n</style>\n<table border=\"1\" class=\"dataframe\">\n  <thead>\n    <tr style=\"text-align: right;\">\n      <th></th>\n      <th>0</th>\n    </tr>\n  </thead>\n  <tbody>\n    <tr>\n      <th>0</th>\n      <td>George Washington</td>\n    </tr>\n    <tr>\n      <th>1</th>\n      <td>John Adams</td>\n    </tr>\n    <tr>\n      <th>2</th>\n      <td>Thomas Jefferson</td>\n    </tr>\n    <tr>\n      <th>3</th>\n      <td>James Madison</td>\n    </tr>\n    <tr>\n      <th>4</th>\n      <td>James Monroe</td>\n    </tr>\n  </tbody>\n</table>\n</div>"
     },
     "execution_count": 35,
     "metadata": {},
     "output_type": "execute_result"
    }
   ],
   "source": [
    "del(df['First'])\n",
    "del(df['Last'])\n",
    "\n",
    "\n",
    "pattern='(^[\\w)(?:.* )([\\w]*$)'\n",
    "\n",
    "df['President'].str.extract(pattern).head()"
   ],
   "metadata": {
    "collapsed": false,
    "ExecuteTime": {
     "end_time": "2023-08-22T01:28:28.402362900Z",
     "start_time": "2023-08-22T01:28:28.378865900Z"
    }
   },
   "id": "f861ab7d9194d7eb"
  },
  {
   "cell_type": "code",
   "execution_count": 36,
   "outputs": [
    {
     "data": {
      "text/plain": "    First        Last\n0  George  Washington\n1    John       Adams\n2  Thomas   Jefferson\n3   James     Madison\n4   James      Monroe",
      "text/html": "<div>\n<style scoped>\n    .dataframe tbody tr th:only-of-type {\n        vertical-align: middle;\n    }\n\n    .dataframe tbody tr th {\n        vertical-align: top;\n    }\n\n    .dataframe thead th {\n        text-align: right;\n    }\n</style>\n<table border=\"1\" class=\"dataframe\">\n  <thead>\n    <tr style=\"text-align: right;\">\n      <th></th>\n      <th>First</th>\n      <th>Last</th>\n    </tr>\n  </thead>\n  <tbody>\n    <tr>\n      <th>0</th>\n      <td>George</td>\n      <td>Washington</td>\n    </tr>\n    <tr>\n      <th>1</th>\n      <td>John</td>\n      <td>Adams</td>\n    </tr>\n    <tr>\n      <th>2</th>\n      <td>Thomas</td>\n      <td>Jefferson</td>\n    </tr>\n    <tr>\n      <th>3</th>\n      <td>James</td>\n      <td>Madison</td>\n    </tr>\n    <tr>\n      <th>4</th>\n      <td>James</td>\n      <td>Monroe</td>\n    </tr>\n  </tbody>\n</table>\n</div>"
     },
     "execution_count": 36,
     "metadata": {},
     "output_type": "execute_result"
    }
   ],
   "source": [
    "pattern = '(?P<First>^[\\w]*)(?:.* )(?P<Last>[\\w]*$)'\n",
    "\n",
    "names = df['President'].str.extract(pattern).head()\n",
    "names\n"
   ],
   "metadata": {
    "collapsed": false,
    "ExecuteTime": {
     "end_time": "2023-08-22T01:28:28.815697800Z",
     "start_time": "2023-08-22T01:28:28.792521900Z"
    }
   },
   "id": "e8926a99000bde73"
  },
  {
   "cell_type": "code",
   "execution_count": 37,
   "outputs": [
    {
     "data": {
      "text/plain": "   #          President             Born      Age atstart of presidency  \\\n0  1  George Washington  Feb 22, 1732[a]  57 years, 67 daysApr 30, 1789   \n1  2         John Adams  Oct 30, 1735[a]  61 years, 125 daysMar 4, 1797   \n2  3   Thomas Jefferson  Apr 13, 1743[a]  57 years, 325 daysMar 4, 1801   \n3  4      James Madison  Mar 16, 1751[a]  57 years, 353 daysMar 4, 1809   \n4  5       James Monroe     Apr 28, 1758  58 years, 310 daysMar 4, 1817   \n\n         Age atend of presidency Post-presidencytimespan          Died  \\\n0   65 years, 10 daysMar 4, 1797       2 years, 285 days  Dec 14, 1799   \n1  65 years, 125 daysMar 4, 1801      25 years, 122 days   Jul 4, 1826   \n2  65 years, 325 daysMar 4, 1809      17 years, 122 days   Jul 4, 1826   \n3  65 years, 353 daysMar 4, 1817      19 years, 116 days  Jun 28, 1836   \n4  66 years, 310 daysMar 4, 1825       6 years, 122 days   Jul 4, 1831   \n\n                  Age   First        Last  \n0  67 years, 295 days  George  Washington  \n1  90 years, 247 days    John       Adams  \n2   83 years, 82 days  Thomas   Jefferson  \n3  85 years, 104 days   James     Madison  \n4   73 years, 67 days   James      Monroe  ",
      "text/html": "<div>\n<style scoped>\n    .dataframe tbody tr th:only-of-type {\n        vertical-align: middle;\n    }\n\n    .dataframe tbody tr th {\n        vertical-align: top;\n    }\n\n    .dataframe thead th {\n        text-align: right;\n    }\n</style>\n<table border=\"1\" class=\"dataframe\">\n  <thead>\n    <tr style=\"text-align: right;\">\n      <th></th>\n      <th>#</th>\n      <th>President</th>\n      <th>Born</th>\n      <th>Age atstart of presidency</th>\n      <th>Age atend of presidency</th>\n      <th>Post-presidencytimespan</th>\n      <th>Died</th>\n      <th>Age</th>\n      <th>First</th>\n      <th>Last</th>\n    </tr>\n  </thead>\n  <tbody>\n    <tr>\n      <th>0</th>\n      <td>1</td>\n      <td>George Washington</td>\n      <td>Feb 22, 1732[a]</td>\n      <td>57 years, 67 daysApr 30, 1789</td>\n      <td>65 years, 10 daysMar 4, 1797</td>\n      <td>2 years, 285 days</td>\n      <td>Dec 14, 1799</td>\n      <td>67 years, 295 days</td>\n      <td>George</td>\n      <td>Washington</td>\n    </tr>\n    <tr>\n      <th>1</th>\n      <td>2</td>\n      <td>John Adams</td>\n      <td>Oct 30, 1735[a]</td>\n      <td>61 years, 125 daysMar 4, 1797</td>\n      <td>65 years, 125 daysMar 4, 1801</td>\n      <td>25 years, 122 days</td>\n      <td>Jul 4, 1826</td>\n      <td>90 years, 247 days</td>\n      <td>John</td>\n      <td>Adams</td>\n    </tr>\n    <tr>\n      <th>2</th>\n      <td>3</td>\n      <td>Thomas Jefferson</td>\n      <td>Apr 13, 1743[a]</td>\n      <td>57 years, 325 daysMar 4, 1801</td>\n      <td>65 years, 325 daysMar 4, 1809</td>\n      <td>17 years, 122 days</td>\n      <td>Jul 4, 1826</td>\n      <td>83 years, 82 days</td>\n      <td>Thomas</td>\n      <td>Jefferson</td>\n    </tr>\n    <tr>\n      <th>3</th>\n      <td>4</td>\n      <td>James Madison</td>\n      <td>Mar 16, 1751[a]</td>\n      <td>57 years, 353 daysMar 4, 1809</td>\n      <td>65 years, 353 daysMar 4, 1817</td>\n      <td>19 years, 116 days</td>\n      <td>Jun 28, 1836</td>\n      <td>85 years, 104 days</td>\n      <td>James</td>\n      <td>Madison</td>\n    </tr>\n    <tr>\n      <th>4</th>\n      <td>5</td>\n      <td>James Monroe</td>\n      <td>Apr 28, 1758</td>\n      <td>58 years, 310 daysMar 4, 1817</td>\n      <td>66 years, 310 daysMar 4, 1825</td>\n      <td>6 years, 122 days</td>\n      <td>Jul 4, 1831</td>\n      <td>73 years, 67 days</td>\n      <td>James</td>\n      <td>Monroe</td>\n    </tr>\n  </tbody>\n</table>\n</div>"
     },
     "execution_count": 37,
     "metadata": {},
     "output_type": "execute_result"
    }
   ],
   "source": [
    "df['First']=names['First']\n",
    "df['Last']=names['Last']\n",
    "df.head()"
   ],
   "metadata": {
    "collapsed": false,
    "ExecuteTime": {
     "end_time": "2023-08-22T01:28:30.324461900Z",
     "start_time": "2023-08-22T01:28:30.304439400Z"
    }
   },
   "id": "ffec5636b3acda8e"
  },
  {
   "cell_type": "code",
   "execution_count": 38,
   "outputs": [
    {
     "data": {
      "text/plain": "0    NaN\n1    NaN\n2    NaN\n3    NaN\n4    NaN\nName: Born, dtype: object"
     },
     "execution_count": 38,
     "metadata": {},
     "output_type": "execute_result"
    }
   ],
   "source": [
    "df['Born']=df['Born'].str.extract('([\\w]{3} [\\w]{1,2},[\\w]{4})')\n",
    "df['Born'].head()"
   ],
   "metadata": {
    "collapsed": false,
    "ExecuteTime": {
     "end_time": "2023-08-22T01:28:30.545797600Z",
     "start_time": "2023-08-22T01:28:30.512322800Z"
    }
   },
   "id": "76a8231a26ea6959"
  },
  {
   "cell_type": "code",
   "execution_count": 39,
   "outputs": [
    {
     "data": {
      "text/plain": "0   NaT\n1   NaT\n2   NaT\n3   NaT\n4   NaT\nName: Born, dtype: datetime64[ns]"
     },
     "execution_count": 39,
     "metadata": {},
     "output_type": "execute_result"
    }
   ],
   "source": [
    "df['Born']=pd.to_datetime(df['Born'])\n",
    "df['Born'].head()"
   ],
   "metadata": {
    "collapsed": false,
    "ExecuteTime": {
     "end_time": "2023-08-22T01:28:31.473052700Z",
     "start_time": "2023-08-22T01:28:31.431086300Z"
    }
   },
   "id": "f8bdf3f432fca3f0"
  },
  {
   "cell_type": "code",
   "execution_count": 39,
   "outputs": [],
   "source": [],
   "metadata": {
    "collapsed": false,
    "ExecuteTime": {
     "end_time": "2023-08-22T01:28:32.480284600Z",
     "start_time": "2023-08-22T01:28:32.439725400Z"
    }
   },
   "id": "c2fb1925033084c5"
  },
  {
   "cell_type": "code",
   "execution_count": null,
   "outputs": [],
   "source": [],
   "metadata": {
    "collapsed": false
   },
   "id": "e2cbe12412f0c75e"
  }
 ],
 "metadata": {
  "kernelspec": {
   "display_name": "Python 3",
   "language": "python",
   "name": "python3"
  },
  "language_info": {
   "codemirror_mode": {
    "name": "ipython",
    "version": 2
   },
   "file_extension": ".py",
   "mimetype": "text/x-python",
   "name": "python",
   "nbconvert_exporter": "python",
   "pygments_lexer": "ipython2",
   "version": "2.7.6"
  }
 },
 "nbformat": 4,
 "nbformat_minor": 5
}

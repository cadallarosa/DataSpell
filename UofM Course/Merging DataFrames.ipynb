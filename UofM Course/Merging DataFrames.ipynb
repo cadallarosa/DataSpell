{
 "cells": [
  {
   "cell_type": "code",
   "execution_count": 5,
   "id": "initial_id",
   "metadata": {
    "collapsed": true,
    "ExecuteTime": {
     "end_time": "2023-08-22T18:53:48.077966300Z",
     "start_time": "2023-08-22T18:53:48.048944900Z"
    }
   },
   "outputs": [
    {
     "name": "stdout",
     "output_type": "stream",
     "text": [
      "                 Role\n",
      "Name                 \n",
      "Kelly  Director of HR\n",
      "Sally   Course Liason\n",
      "James          Grader\n",
      "            School\n",
      "Name              \n",
      "James     Business\n",
      "Mike           Law\n",
      "Sally  Engineering\n"
     ]
    }
   ],
   "source": [
    "import pandas as pd     \n",
    "\n",
    "staff_df = pd.DataFrame([{'Name': 'Kelly','Role':'Director of HR'},\n",
    "                         {'Name': 'Sally','Role':'Course Liason'},\n",
    "                         {'Name': 'James','Role':'Grader'}])\n",
    "\n",
    "staff_df = staff_df.set_index('Name')\n",
    "\n",
    "student_df = pd.DataFrame([{'Name': 'James','School':'Business'},\n",
    "                           {'Name': 'Mike','School':'Law'},\n",
    "                           {'Name': 'Sally','School':'Engineering'}])\n",
    "student_df = student_df.set_index('Name')\n",
    "print(staff_df)\n",
    "print(student_df)\n"
   ]
  },
  {
   "cell_type": "code",
   "execution_count": 6,
   "outputs": [
    {
     "data": {
      "text/plain": "                 Role       School\nName                              \nJames          Grader     Business\nKelly  Director of HR          NaN\nMike              NaN          Law\nSally   Course Liason  Engineering",
      "text/html": "<div>\n<style scoped>\n    .dataframe tbody tr th:only-of-type {\n        vertical-align: middle;\n    }\n\n    .dataframe tbody tr th {\n        vertical-align: top;\n    }\n\n    .dataframe thead th {\n        text-align: right;\n    }\n</style>\n<table border=\"1\" class=\"dataframe\">\n  <thead>\n    <tr style=\"text-align: right;\">\n      <th></th>\n      <th>Role</th>\n      <th>School</th>\n    </tr>\n    <tr>\n      <th>Name</th>\n      <th></th>\n      <th></th>\n    </tr>\n  </thead>\n  <tbody>\n    <tr>\n      <th>James</th>\n      <td>Grader</td>\n      <td>Business</td>\n    </tr>\n    <tr>\n      <th>Kelly</th>\n      <td>Director of HR</td>\n      <td>NaN</td>\n    </tr>\n    <tr>\n      <th>Mike</th>\n      <td>NaN</td>\n      <td>Law</td>\n    </tr>\n    <tr>\n      <th>Sally</th>\n      <td>Course Liason</td>\n      <td>Engineering</td>\n    </tr>\n  </tbody>\n</table>\n</div>"
     },
     "execution_count": 6,
     "metadata": {},
     "output_type": "execute_result"
    }
   ],
   "source": [
    "pd.merge(staff_df, student_df, how='outer',left_index=True,right_index=True)"
   ],
   "metadata": {
    "collapsed": false,
    "ExecuteTime": {
     "end_time": "2023-08-22T18:54:52.457277500Z",
     "start_time": "2023-08-22T18:54:52.429568300Z"
    }
   },
   "id": "6dcafd3161d50df5"
  },
  {
   "cell_type": "code",
   "execution_count": 7,
   "outputs": [
    {
     "data": {
      "text/plain": "                Role       School\nName                             \nSally  Course Liason  Engineering\nJames         Grader     Business",
      "text/html": "<div>\n<style scoped>\n    .dataframe tbody tr th:only-of-type {\n        vertical-align: middle;\n    }\n\n    .dataframe tbody tr th {\n        vertical-align: top;\n    }\n\n    .dataframe thead th {\n        text-align: right;\n    }\n</style>\n<table border=\"1\" class=\"dataframe\">\n  <thead>\n    <tr style=\"text-align: right;\">\n      <th></th>\n      <th>Role</th>\n      <th>School</th>\n    </tr>\n    <tr>\n      <th>Name</th>\n      <th></th>\n      <th></th>\n    </tr>\n  </thead>\n  <tbody>\n    <tr>\n      <th>Sally</th>\n      <td>Course Liason</td>\n      <td>Engineering</td>\n    </tr>\n    <tr>\n      <th>James</th>\n      <td>Grader</td>\n      <td>Business</td>\n    </tr>\n  </tbody>\n</table>\n</div>"
     },
     "execution_count": 7,
     "metadata": {},
     "output_type": "execute_result"
    }
   ],
   "source": [
    "pd.merge(staff_df,student_df,how='inner',left_index=True,right_index=True)"
   ],
   "metadata": {
    "collapsed": false,
    "ExecuteTime": {
     "end_time": "2023-08-22T18:56:04.344722700Z",
     "start_time": "2023-08-22T18:56:04.327856900Z"
    }
   },
   "id": "7dc129e426bd22ef"
  },
  {
   "cell_type": "code",
   "execution_count": 8,
   "outputs": [
    {
     "data": {
      "text/plain": "                 Role       School\nName                              \nKelly  Director of HR          NaN\nSally   Course Liason  Engineering\nJames          Grader     Business",
      "text/html": "<div>\n<style scoped>\n    .dataframe tbody tr th:only-of-type {\n        vertical-align: middle;\n    }\n\n    .dataframe tbody tr th {\n        vertical-align: top;\n    }\n\n    .dataframe thead th {\n        text-align: right;\n    }\n</style>\n<table border=\"1\" class=\"dataframe\">\n  <thead>\n    <tr style=\"text-align: right;\">\n      <th></th>\n      <th>Role</th>\n      <th>School</th>\n    </tr>\n    <tr>\n      <th>Name</th>\n      <th></th>\n      <th></th>\n    </tr>\n  </thead>\n  <tbody>\n    <tr>\n      <th>Kelly</th>\n      <td>Director of HR</td>\n      <td>NaN</td>\n    </tr>\n    <tr>\n      <th>Sally</th>\n      <td>Course Liason</td>\n      <td>Engineering</td>\n    </tr>\n    <tr>\n      <th>James</th>\n      <td>Grader</td>\n      <td>Business</td>\n    </tr>\n  </tbody>\n</table>\n</div>"
     },
     "execution_count": 8,
     "metadata": {},
     "output_type": "execute_result"
    }
   ],
   "source": [
    "pd.merge(staff_df,student_df,how='left',left_index=True,right_index=True)"
   ],
   "metadata": {
    "collapsed": false,
    "ExecuteTime": {
     "end_time": "2023-08-22T18:57:28.913056200Z",
     "start_time": "2023-08-22T18:57:28.863756500Z"
    }
   },
   "id": "2be91992114bc781"
  },
  {
   "cell_type": "code",
   "execution_count": 9,
   "outputs": [
    {
     "data": {
      "text/plain": "                Role       School\nName                             \nJames         Grader     Business\nMike             NaN          Law\nSally  Course Liason  Engineering",
      "text/html": "<div>\n<style scoped>\n    .dataframe tbody tr th:only-of-type {\n        vertical-align: middle;\n    }\n\n    .dataframe tbody tr th {\n        vertical-align: top;\n    }\n\n    .dataframe thead th {\n        text-align: right;\n    }\n</style>\n<table border=\"1\" class=\"dataframe\">\n  <thead>\n    <tr style=\"text-align: right;\">\n      <th></th>\n      <th>Role</th>\n      <th>School</th>\n    </tr>\n    <tr>\n      <th>Name</th>\n      <th></th>\n      <th></th>\n    </tr>\n  </thead>\n  <tbody>\n    <tr>\n      <th>James</th>\n      <td>Grader</td>\n      <td>Business</td>\n    </tr>\n    <tr>\n      <th>Mike</th>\n      <td>NaN</td>\n      <td>Law</td>\n    </tr>\n    <tr>\n      <th>Sally</th>\n      <td>Course Liason</td>\n      <td>Engineering</td>\n    </tr>\n  </tbody>\n</table>\n</div>"
     },
     "execution_count": 9,
     "metadata": {},
     "output_type": "execute_result"
    }
   ],
   "source": [
    "pd.merge(staff_df,student_df,how='right',left_index=True,right_index=True)"
   ],
   "metadata": {
    "collapsed": false,
    "ExecuteTime": {
     "end_time": "2023-08-22T18:57:36.982915700Z",
     "start_time": "2023-08-22T18:57:36.937402600Z"
    }
   },
   "id": "945676894d4c2d9c"
  },
  {
   "cell_type": "code",
   "execution_count": 10,
   "outputs": [
    {
     "data": {
      "text/plain": "    Name           Role       School\n0  James         Grader     Business\n1   Mike            NaN          Law\n2  Sally  Course Liason  Engineering",
      "text/html": "<div>\n<style scoped>\n    .dataframe tbody tr th:only-of-type {\n        vertical-align: middle;\n    }\n\n    .dataframe tbody tr th {\n        vertical-align: top;\n    }\n\n    .dataframe thead th {\n        text-align: right;\n    }\n</style>\n<table border=\"1\" class=\"dataframe\">\n  <thead>\n    <tr style=\"text-align: right;\">\n      <th></th>\n      <th>Name</th>\n      <th>Role</th>\n      <th>School</th>\n    </tr>\n  </thead>\n  <tbody>\n    <tr>\n      <th>0</th>\n      <td>James</td>\n      <td>Grader</td>\n      <td>Business</td>\n    </tr>\n    <tr>\n      <th>1</th>\n      <td>Mike</td>\n      <td>NaN</td>\n      <td>Law</td>\n    </tr>\n    <tr>\n      <th>2</th>\n      <td>Sally</td>\n      <td>Course Liason</td>\n      <td>Engineering</td>\n    </tr>\n  </tbody>\n</table>\n</div>"
     },
     "execution_count": 10,
     "metadata": {},
     "output_type": "execute_result"
    }
   ],
   "source": [
    "staff_df = staff_df.reset_index()\n",
    "student_df = student_df.reset_index()\n",
    "\n",
    "pd.merge(staff_df,student_df, how='right', on='Name')"
   ],
   "metadata": {
    "collapsed": false,
    "ExecuteTime": {
     "end_time": "2023-08-22T18:59:50.973356300Z",
     "start_time": "2023-08-22T18:59:50.931821200Z"
    }
   },
   "id": "3588e4ac5815f65c"
  },
  {
   "cell_type": "code",
   "execution_count": 13,
   "outputs": [
    {
     "data": {
      "text/plain": "    Name            Role         Location_x       School            Location_y\n0  Kelly  Director of HR       State Street          NaN                   NaN\n1  Sally   Course Liason  Washington Avenue  Engineering   512 Wilson Crescent\n2  James          Grader  Washington Avenue     Business  1024 Billiard Avenue",
      "text/html": "<div>\n<style scoped>\n    .dataframe tbody tr th:only-of-type {\n        vertical-align: middle;\n    }\n\n    .dataframe tbody tr th {\n        vertical-align: top;\n    }\n\n    .dataframe thead th {\n        text-align: right;\n    }\n</style>\n<table border=\"1\" class=\"dataframe\">\n  <thead>\n    <tr style=\"text-align: right;\">\n      <th></th>\n      <th>Name</th>\n      <th>Role</th>\n      <th>Location_x</th>\n      <th>School</th>\n      <th>Location_y</th>\n    </tr>\n  </thead>\n  <tbody>\n    <tr>\n      <th>0</th>\n      <td>Kelly</td>\n      <td>Director of HR</td>\n      <td>State Street</td>\n      <td>NaN</td>\n      <td>NaN</td>\n    </tr>\n    <tr>\n      <th>1</th>\n      <td>Sally</td>\n      <td>Course Liason</td>\n      <td>Washington Avenue</td>\n      <td>Engineering</td>\n      <td>512 Wilson Crescent</td>\n    </tr>\n    <tr>\n      <th>2</th>\n      <td>James</td>\n      <td>Grader</td>\n      <td>Washington Avenue</td>\n      <td>Business</td>\n      <td>1024 Billiard Avenue</td>\n    </tr>\n  </tbody>\n</table>\n</div>"
     },
     "execution_count": 13,
     "metadata": {},
     "output_type": "execute_result"
    }
   ],
   "source": [
    "staff_df = pd.DataFrame([{'Name': 'Kelly','Role':'Director of HR',\n",
    "                          'Location': 'State Street'},\n",
    "                         {'Name': 'Sally','Role':'Course Liason',\n",
    "                          'Location': 'Washington Avenue'},\n",
    "                         {'Name': 'James','Role':'Grader',\n",
    "                          'Location':'Washington Avenue'}])\n",
    "\n",
    "\n",
    "\n",
    "student_df = pd.DataFrame([{'Name': 'James','School':'Business',\n",
    "                            'Location':'1024 Billiard Avenue'},\n",
    "                           {'Name': 'Mike','School':'Law',\n",
    "                            'Location':'Fraternity House #22'},\n",
    "                           {'Name': 'Sally','School':'Engineering',\n",
    "                            'Location':'512 Wilson Crescent'}])\n",
    "\n",
    "pd.merge(staff_df,student_df, how='left', on='Name')"
   ],
   "metadata": {
    "collapsed": false,
    "ExecuteTime": {
     "end_time": "2023-08-22T19:09:07.884088600Z",
     "start_time": "2023-08-22T19:09:07.866982700Z"
    }
   },
   "id": "66a95171203cf0e0"
  },
  {
   "cell_type": "code",
   "execution_count": 18,
   "outputs": [
    {
     "data": {
      "text/plain": "  First Name Last Name           Role         Location_x       School  \\\n0      Sally    Brooks  Course Liason  Washington Avenue  Engineering   \n\n            Location_y  \n0  512 Wilson Crescent  ",
      "text/html": "<div>\n<style scoped>\n    .dataframe tbody tr th:only-of-type {\n        vertical-align: middle;\n    }\n\n    .dataframe tbody tr th {\n        vertical-align: top;\n    }\n\n    .dataframe thead th {\n        text-align: right;\n    }\n</style>\n<table border=\"1\" class=\"dataframe\">\n  <thead>\n    <tr style=\"text-align: right;\">\n      <th></th>\n      <th>First Name</th>\n      <th>Last Name</th>\n      <th>Role</th>\n      <th>Location_x</th>\n      <th>School</th>\n      <th>Location_y</th>\n    </tr>\n  </thead>\n  <tbody>\n    <tr>\n      <th>0</th>\n      <td>Sally</td>\n      <td>Brooks</td>\n      <td>Course Liason</td>\n      <td>Washington Avenue</td>\n      <td>Engineering</td>\n      <td>512 Wilson Crescent</td>\n    </tr>\n  </tbody>\n</table>\n</div>"
     },
     "execution_count": 18,
     "metadata": {},
     "output_type": "execute_result"
    }
   ],
   "source": [
    "staff_df = pd.DataFrame([{'First Name': 'Kelly','Last Name': 'Desjardins','Role':'Director of HR',\n",
    "                          'Location': 'State Street'},\n",
    "                         {'First Name': 'Sally','Last Name': 'Brooks','Role':'Course Liason',\n",
    "                          'Location': 'Washington Avenue'},\n",
    "                         {'First Name': 'James','Last Name': 'Wilde','Role':'Grader',\n",
    "                          'Location':'Washington Avenue'}])\n",
    "\n",
    "\n",
    "\n",
    "student_df = pd.DataFrame([{'First Name': 'James','Last Name': 'Hammond','School':'Business',\n",
    "                            'Location':'1024 Billiard Avenue'},\n",
    "                           {'First Name': 'Mike','Last Name': 'Smith','School':'Law',\n",
    "                            'Location':'Fraternity House #22'},\n",
    "                           {'First Name': 'Sally','Last Name': 'Brooks','School':'Engineering',\n",
    "                            'Location':'512 Wilson Crescent'}])\n",
    "\n",
    "pd_merge = pd.merge(staff_df,student_df, how='inner',on=['First Name','Last Name'])\n",
    "\n",
    "pd_merge.head(10)"
   ],
   "metadata": {
    "collapsed": false,
    "ExecuteTime": {
     "end_time": "2023-08-22T19:26:16.106747400Z",
     "start_time": "2023-08-22T19:26:16.083061400Z"
    }
   },
   "id": "bfb7dc21855603ba"
  },
  {
   "cell_type": "code",
   "execution_count": 24,
   "outputs": [],
   "source": [
    "%%capture\n",
    "\n",
    "df_2004 = pd.read_csv('MERGED2004_05_PP.csv')\n",
    "df_2005 = pd.read_csv('MERGED2005_06_PP.csv')\n",
    "df_2006 = pd.read_csv('MERGED2006_07_PP.csv')   "
   ],
   "metadata": {
    "collapsed": false,
    "ExecuteTime": {
     "end_time": "2023-08-22T19:35:51.353472500Z",
     "start_time": "2023-08-22T19:35:41.447316500Z"
    }
   },
   "id": "2410ca61afbfa552"
  },
  {
   "cell_type": "code",
   "execution_count": 25,
   "outputs": [
    {
     "data": {
      "text/plain": "   UNITID     OPEID  OPEID6                               INSTNM        CITY  \\\n0  100654  00100200    1002             Alabama A & M University      Normal   \n1  100663  00105200    1052  University of Alabama at Birmingham  Birmingham   \n2  100690  02503400   25034                   Amridge University  Montgomery   \n\n  STABBR         ZIP  ACCREDAGENCY  INSTURL  NPCURL  ...  \\\n0     AL       35762           NaN      NaN     NaN  ...   \n1     AL  35294-0110           NaN      NaN     NaN  ...   \n2     AL  36117-3553           NaN      NaN     NaN  ...   \n\n   OMAWDP8_NOTFIRSTTIME_POOLED_SUPP  OMENRUP_NOTFIRSTTIME_POOLED_SUPP  \\\n0                               NaN                               NaN   \n1                               NaN                               NaN   \n2                               NaN                               NaN   \n\n   OMENRYP_FULLTIME_POOLED_SUPP  OMENRAP_FULLTIME_POOLED_SUPP  \\\n0                           NaN                           NaN   \n1                           NaN                           NaN   \n2                           NaN                           NaN   \n\n   OMAWDP8_FULLTIME_POOLED_SUPP  OMENRUP_FULLTIME_POOLED_SUPP  \\\n0                           NaN                           NaN   \n1                           NaN                           NaN   \n2                           NaN                           NaN   \n\n   OMENRYP_PARTTIME_POOLED_SUPP  OMENRAP_PARTTIME_POOLED_SUPP  \\\n0                           NaN                           NaN   \n1                           NaN                           NaN   \n2                           NaN                           NaN   \n\n   OMAWDP8_PARTTIME_POOLED_SUPP  OMENRUP_PARTTIME_POOLED_SUPP  \n0                           NaN                           NaN  \n1                           NaN                           NaN  \n2                           NaN                           NaN  \n\n[3 rows x 1977 columns]",
      "text/html": "<div>\n<style scoped>\n    .dataframe tbody tr th:only-of-type {\n        vertical-align: middle;\n    }\n\n    .dataframe tbody tr th {\n        vertical-align: top;\n    }\n\n    .dataframe thead th {\n        text-align: right;\n    }\n</style>\n<table border=\"1\" class=\"dataframe\">\n  <thead>\n    <tr style=\"text-align: right;\">\n      <th></th>\n      <th>UNITID</th>\n      <th>OPEID</th>\n      <th>OPEID6</th>\n      <th>INSTNM</th>\n      <th>CITY</th>\n      <th>STABBR</th>\n      <th>ZIP</th>\n      <th>ACCREDAGENCY</th>\n      <th>INSTURL</th>\n      <th>NPCURL</th>\n      <th>...</th>\n      <th>OMAWDP8_NOTFIRSTTIME_POOLED_SUPP</th>\n      <th>OMENRUP_NOTFIRSTTIME_POOLED_SUPP</th>\n      <th>OMENRYP_FULLTIME_POOLED_SUPP</th>\n      <th>OMENRAP_FULLTIME_POOLED_SUPP</th>\n      <th>OMAWDP8_FULLTIME_POOLED_SUPP</th>\n      <th>OMENRUP_FULLTIME_POOLED_SUPP</th>\n      <th>OMENRYP_PARTTIME_POOLED_SUPP</th>\n      <th>OMENRAP_PARTTIME_POOLED_SUPP</th>\n      <th>OMAWDP8_PARTTIME_POOLED_SUPP</th>\n      <th>OMENRUP_PARTTIME_POOLED_SUPP</th>\n    </tr>\n  </thead>\n  <tbody>\n    <tr>\n      <th>0</th>\n      <td>100654</td>\n      <td>00100200</td>\n      <td>1002</td>\n      <td>Alabama A &amp; M University</td>\n      <td>Normal</td>\n      <td>AL</td>\n      <td>35762</td>\n      <td>NaN</td>\n      <td>NaN</td>\n      <td>NaN</td>\n      <td>...</td>\n      <td>NaN</td>\n      <td>NaN</td>\n      <td>NaN</td>\n      <td>NaN</td>\n      <td>NaN</td>\n      <td>NaN</td>\n      <td>NaN</td>\n      <td>NaN</td>\n      <td>NaN</td>\n      <td>NaN</td>\n    </tr>\n    <tr>\n      <th>1</th>\n      <td>100663</td>\n      <td>00105200</td>\n      <td>1052</td>\n      <td>University of Alabama at Birmingham</td>\n      <td>Birmingham</td>\n      <td>AL</td>\n      <td>35294-0110</td>\n      <td>NaN</td>\n      <td>NaN</td>\n      <td>NaN</td>\n      <td>...</td>\n      <td>NaN</td>\n      <td>NaN</td>\n      <td>NaN</td>\n      <td>NaN</td>\n      <td>NaN</td>\n      <td>NaN</td>\n      <td>NaN</td>\n      <td>NaN</td>\n      <td>NaN</td>\n      <td>NaN</td>\n    </tr>\n    <tr>\n      <th>2</th>\n      <td>100690</td>\n      <td>02503400</td>\n      <td>25034</td>\n      <td>Amridge University</td>\n      <td>Montgomery</td>\n      <td>AL</td>\n      <td>36117-3553</td>\n      <td>NaN</td>\n      <td>NaN</td>\n      <td>NaN</td>\n      <td>...</td>\n      <td>NaN</td>\n      <td>NaN</td>\n      <td>NaN</td>\n      <td>NaN</td>\n      <td>NaN</td>\n      <td>NaN</td>\n      <td>NaN</td>\n      <td>NaN</td>\n      <td>NaN</td>\n      <td>NaN</td>\n    </tr>\n  </tbody>\n</table>\n<p>3 rows × 1977 columns</p>\n</div>"
     },
     "execution_count": 25,
     "metadata": {},
     "output_type": "execute_result"
    }
   ],
   "source": [
    "df_2004.head(3)"
   ],
   "metadata": {
    "collapsed": false,
    "ExecuteTime": {
     "end_time": "2023-08-22T19:35:51.390141500Z",
     "start_time": "2023-08-22T19:35:51.355471300Z"
    }
   },
   "id": "30d2bd7e31e606b6"
  },
  {
   "cell_type": "code",
   "execution_count": 26,
   "outputs": [
    {
     "name": "stdout",
     "output_type": "stream",
     "text": [
      "6660\n",
      "6824\n",
      "6848\n"
     ]
    }
   ],
   "source": [
    "print(len(df_2004))\n",
    "print(len(df_2005))\n",
    "print(len(df_2006))"
   ],
   "metadata": {
    "collapsed": false,
    "ExecuteTime": {
     "end_time": "2023-08-22T19:36:56.373681200Z",
     "start_time": "2023-08-22T19:36:56.349684600Z"
    }
   },
   "id": "ba3d75e31011b723"
  },
  {
   "cell_type": "code",
   "execution_count": 27,
   "outputs": [
    {
     "data": {
      "text/plain": "        UNITID     OPEID  OPEID6  \\\n0       100654  00100200    1002   \n1       100663  00105200    1052   \n2       100690  02503400   25034   \n3       100706  00105500    1055   \n4       100724  00100500    1005   \n...        ...       ...     ...   \n6843  44098901  02568108   25681   \n6844  44098902  02568101   25681   \n6845  44098903  02568106   25681   \n6846  44098904  02568107   25681   \n6847  44098905  02568109   25681   \n\n                                                 INSTNM        CITY STABBR  \\\n0                              Alabama A & M University      Normal     AL   \n1                   University of Alabama at Birmingham  Birmingham     AL   \n2                                    Amridge University  Montgomery     AL   \n3                   University of Alabama in Huntsville  Huntsville     AL   \n4                              Alabama State University  Montgomery     AL   \n...                                                 ...         ...    ...   \n6843            Texas Barber College - Branch Campus #1      Dallas     TX   \n6844            Texas Barber College - Branch Campus #2      Dallas     TX   \n6845  Texas Barber Colleges and Hairstyling Schools ...     Houston     TX   \n6846            Texas Barber College - Branch Campus #5     Houston     TX   \n6847  Texas Barber Colleges and Hairstyling Schools ...      Conroe     TX   \n\n             ZIP  ACCREDAGENCY  INSTURL  NPCURL  ...  \\\n0          35762           NaN      NaN     NaN  ...   \n1     35294-0110           NaN      NaN     NaN  ...   \n2     36117-3553           NaN      NaN     NaN  ...   \n3          35899           NaN      NaN     NaN  ...   \n4     36104-0271           NaN      NaN     NaN  ...   \n...          ...           ...      ...     ...  ...   \n6843       75241           NaN      NaN     NaN  ...   \n6844       75228           NaN      NaN     NaN  ...   \n6845       77063           NaN      NaN     NaN  ...   \n6846       77022           NaN      NaN     NaN  ...   \n6847       77301           NaN      NaN     NaN  ...   \n\n      OMAWDP8_NOTFIRSTTIME_POOLED_SUPP  OMENRUP_NOTFIRSTTIME_POOLED_SUPP  \\\n0                                  NaN                               NaN   \n1                                  NaN                               NaN   \n2                                  NaN                               NaN   \n3                                  NaN                               NaN   \n4                                  NaN                               NaN   \n...                                ...                               ...   \n6843                               NaN                               NaN   \n6844                               NaN                               NaN   \n6845                               NaN                               NaN   \n6846                               NaN                               NaN   \n6847                               NaN                               NaN   \n\n      OMENRYP_FULLTIME_POOLED_SUPP  OMENRAP_FULLTIME_POOLED_SUPP  \\\n0                              NaN                           NaN   \n1                              NaN                           NaN   \n2                              NaN                           NaN   \n3                              NaN                           NaN   \n4                              NaN                           NaN   \n...                            ...                           ...   \n6843                           NaN                           NaN   \n6844                           NaN                           NaN   \n6845                           NaN                           NaN   \n6846                           NaN                           NaN   \n6847                           NaN                           NaN   \n\n      OMAWDP8_FULLTIME_POOLED_SUPP  OMENRUP_FULLTIME_POOLED_SUPP  \\\n0                              NaN                           NaN   \n1                              NaN                           NaN   \n2                              NaN                           NaN   \n3                              NaN                           NaN   \n4                              NaN                           NaN   \n...                            ...                           ...   \n6843                           NaN                           NaN   \n6844                           NaN                           NaN   \n6845                           NaN                           NaN   \n6846                           NaN                           NaN   \n6847                           NaN                           NaN   \n\n      OMENRYP_PARTTIME_POOLED_SUPP  OMENRAP_PARTTIME_POOLED_SUPP  \\\n0                              NaN                           NaN   \n1                              NaN                           NaN   \n2                              NaN                           NaN   \n3                              NaN                           NaN   \n4                              NaN                           NaN   \n...                            ...                           ...   \n6843                           NaN                           NaN   \n6844                           NaN                           NaN   \n6845                           NaN                           NaN   \n6846                           NaN                           NaN   \n6847                           NaN                           NaN   \n\n      OMAWDP8_PARTTIME_POOLED_SUPP  OMENRUP_PARTTIME_POOLED_SUPP  \n0                              NaN                           NaN  \n1                              NaN                           NaN  \n2                              NaN                           NaN  \n3                              NaN                           NaN  \n4                              NaN                           NaN  \n...                            ...                           ...  \n6843                           NaN                           NaN  \n6844                           NaN                           NaN  \n6845                           NaN                           NaN  \n6846                           NaN                           NaN  \n6847                           NaN                           NaN  \n\n[20332 rows x 1977 columns]",
      "text/html": "<div>\n<style scoped>\n    .dataframe tbody tr th:only-of-type {\n        vertical-align: middle;\n    }\n\n    .dataframe tbody tr th {\n        vertical-align: top;\n    }\n\n    .dataframe thead th {\n        text-align: right;\n    }\n</style>\n<table border=\"1\" class=\"dataframe\">\n  <thead>\n    <tr style=\"text-align: right;\">\n      <th></th>\n      <th>UNITID</th>\n      <th>OPEID</th>\n      <th>OPEID6</th>\n      <th>INSTNM</th>\n      <th>CITY</th>\n      <th>STABBR</th>\n      <th>ZIP</th>\n      <th>ACCREDAGENCY</th>\n      <th>INSTURL</th>\n      <th>NPCURL</th>\n      <th>...</th>\n      <th>OMAWDP8_NOTFIRSTTIME_POOLED_SUPP</th>\n      <th>OMENRUP_NOTFIRSTTIME_POOLED_SUPP</th>\n      <th>OMENRYP_FULLTIME_POOLED_SUPP</th>\n      <th>OMENRAP_FULLTIME_POOLED_SUPP</th>\n      <th>OMAWDP8_FULLTIME_POOLED_SUPP</th>\n      <th>OMENRUP_FULLTIME_POOLED_SUPP</th>\n      <th>OMENRYP_PARTTIME_POOLED_SUPP</th>\n      <th>OMENRAP_PARTTIME_POOLED_SUPP</th>\n      <th>OMAWDP8_PARTTIME_POOLED_SUPP</th>\n      <th>OMENRUP_PARTTIME_POOLED_SUPP</th>\n    </tr>\n  </thead>\n  <tbody>\n    <tr>\n      <th>0</th>\n      <td>100654</td>\n      <td>00100200</td>\n      <td>1002</td>\n      <td>Alabama A &amp; M University</td>\n      <td>Normal</td>\n      <td>AL</td>\n      <td>35762</td>\n      <td>NaN</td>\n      <td>NaN</td>\n      <td>NaN</td>\n      <td>...</td>\n      <td>NaN</td>\n      <td>NaN</td>\n      <td>NaN</td>\n      <td>NaN</td>\n      <td>NaN</td>\n      <td>NaN</td>\n      <td>NaN</td>\n      <td>NaN</td>\n      <td>NaN</td>\n      <td>NaN</td>\n    </tr>\n    <tr>\n      <th>1</th>\n      <td>100663</td>\n      <td>00105200</td>\n      <td>1052</td>\n      <td>University of Alabama at Birmingham</td>\n      <td>Birmingham</td>\n      <td>AL</td>\n      <td>35294-0110</td>\n      <td>NaN</td>\n      <td>NaN</td>\n      <td>NaN</td>\n      <td>...</td>\n      <td>NaN</td>\n      <td>NaN</td>\n      <td>NaN</td>\n      <td>NaN</td>\n      <td>NaN</td>\n      <td>NaN</td>\n      <td>NaN</td>\n      <td>NaN</td>\n      <td>NaN</td>\n      <td>NaN</td>\n    </tr>\n    <tr>\n      <th>2</th>\n      <td>100690</td>\n      <td>02503400</td>\n      <td>25034</td>\n      <td>Amridge University</td>\n      <td>Montgomery</td>\n      <td>AL</td>\n      <td>36117-3553</td>\n      <td>NaN</td>\n      <td>NaN</td>\n      <td>NaN</td>\n      <td>...</td>\n      <td>NaN</td>\n      <td>NaN</td>\n      <td>NaN</td>\n      <td>NaN</td>\n      <td>NaN</td>\n      <td>NaN</td>\n      <td>NaN</td>\n      <td>NaN</td>\n      <td>NaN</td>\n      <td>NaN</td>\n    </tr>\n    <tr>\n      <th>3</th>\n      <td>100706</td>\n      <td>00105500</td>\n      <td>1055</td>\n      <td>University of Alabama in Huntsville</td>\n      <td>Huntsville</td>\n      <td>AL</td>\n      <td>35899</td>\n      <td>NaN</td>\n      <td>NaN</td>\n      <td>NaN</td>\n      <td>...</td>\n      <td>NaN</td>\n      <td>NaN</td>\n      <td>NaN</td>\n      <td>NaN</td>\n      <td>NaN</td>\n      <td>NaN</td>\n      <td>NaN</td>\n      <td>NaN</td>\n      <td>NaN</td>\n      <td>NaN</td>\n    </tr>\n    <tr>\n      <th>4</th>\n      <td>100724</td>\n      <td>00100500</td>\n      <td>1005</td>\n      <td>Alabama State University</td>\n      <td>Montgomery</td>\n      <td>AL</td>\n      <td>36104-0271</td>\n      <td>NaN</td>\n      <td>NaN</td>\n      <td>NaN</td>\n      <td>...</td>\n      <td>NaN</td>\n      <td>NaN</td>\n      <td>NaN</td>\n      <td>NaN</td>\n      <td>NaN</td>\n      <td>NaN</td>\n      <td>NaN</td>\n      <td>NaN</td>\n      <td>NaN</td>\n      <td>NaN</td>\n    </tr>\n    <tr>\n      <th>...</th>\n      <td>...</td>\n      <td>...</td>\n      <td>...</td>\n      <td>...</td>\n      <td>...</td>\n      <td>...</td>\n      <td>...</td>\n      <td>...</td>\n      <td>...</td>\n      <td>...</td>\n      <td>...</td>\n      <td>...</td>\n      <td>...</td>\n      <td>...</td>\n      <td>...</td>\n      <td>...</td>\n      <td>...</td>\n      <td>...</td>\n      <td>...</td>\n      <td>...</td>\n      <td>...</td>\n    </tr>\n    <tr>\n      <th>6843</th>\n      <td>44098901</td>\n      <td>02568108</td>\n      <td>25681</td>\n      <td>Texas Barber College - Branch Campus #1</td>\n      <td>Dallas</td>\n      <td>TX</td>\n      <td>75241</td>\n      <td>NaN</td>\n      <td>NaN</td>\n      <td>NaN</td>\n      <td>...</td>\n      <td>NaN</td>\n      <td>NaN</td>\n      <td>NaN</td>\n      <td>NaN</td>\n      <td>NaN</td>\n      <td>NaN</td>\n      <td>NaN</td>\n      <td>NaN</td>\n      <td>NaN</td>\n      <td>NaN</td>\n    </tr>\n    <tr>\n      <th>6844</th>\n      <td>44098902</td>\n      <td>02568101</td>\n      <td>25681</td>\n      <td>Texas Barber College - Branch Campus #2</td>\n      <td>Dallas</td>\n      <td>TX</td>\n      <td>75228</td>\n      <td>NaN</td>\n      <td>NaN</td>\n      <td>NaN</td>\n      <td>...</td>\n      <td>NaN</td>\n      <td>NaN</td>\n      <td>NaN</td>\n      <td>NaN</td>\n      <td>NaN</td>\n      <td>NaN</td>\n      <td>NaN</td>\n      <td>NaN</td>\n      <td>NaN</td>\n      <td>NaN</td>\n    </tr>\n    <tr>\n      <th>6845</th>\n      <td>44098903</td>\n      <td>02568106</td>\n      <td>25681</td>\n      <td>Texas Barber Colleges and Hairstyling Schools ...</td>\n      <td>Houston</td>\n      <td>TX</td>\n      <td>77063</td>\n      <td>NaN</td>\n      <td>NaN</td>\n      <td>NaN</td>\n      <td>...</td>\n      <td>NaN</td>\n      <td>NaN</td>\n      <td>NaN</td>\n      <td>NaN</td>\n      <td>NaN</td>\n      <td>NaN</td>\n      <td>NaN</td>\n      <td>NaN</td>\n      <td>NaN</td>\n      <td>NaN</td>\n    </tr>\n    <tr>\n      <th>6846</th>\n      <td>44098904</td>\n      <td>02568107</td>\n      <td>25681</td>\n      <td>Texas Barber College - Branch Campus #5</td>\n      <td>Houston</td>\n      <td>TX</td>\n      <td>77022</td>\n      <td>NaN</td>\n      <td>NaN</td>\n      <td>NaN</td>\n      <td>...</td>\n      <td>NaN</td>\n      <td>NaN</td>\n      <td>NaN</td>\n      <td>NaN</td>\n      <td>NaN</td>\n      <td>NaN</td>\n      <td>NaN</td>\n      <td>NaN</td>\n      <td>NaN</td>\n      <td>NaN</td>\n    </tr>\n    <tr>\n      <th>6847</th>\n      <td>44098905</td>\n      <td>02568109</td>\n      <td>25681</td>\n      <td>Texas Barber Colleges and Hairstyling Schools ...</td>\n      <td>Conroe</td>\n      <td>TX</td>\n      <td>77301</td>\n      <td>NaN</td>\n      <td>NaN</td>\n      <td>NaN</td>\n      <td>...</td>\n      <td>NaN</td>\n      <td>NaN</td>\n      <td>NaN</td>\n      <td>NaN</td>\n      <td>NaN</td>\n      <td>NaN</td>\n      <td>NaN</td>\n      <td>NaN</td>\n      <td>NaN</td>\n      <td>NaN</td>\n    </tr>\n  </tbody>\n</table>\n<p>20332 rows × 1977 columns</p>\n</div>"
     },
     "execution_count": 27,
     "metadata": {},
     "output_type": "execute_result"
    }
   ],
   "source": [
    "frames = [df_2004,df_2005,df_2006]\n",
    "pd.concat(frames)"
   ],
   "metadata": {
    "collapsed": false,
    "ExecuteTime": {
     "end_time": "2023-08-22T19:37:42.631894900Z",
     "start_time": "2023-08-22T19:37:41.786662600Z"
    }
   },
   "id": "a66d49dac933b2a3"
  },
  {
   "cell_type": "code",
   "execution_count": null,
   "outputs": [],
   "source": [],
   "metadata": {
    "collapsed": false
   },
   "id": "3120badafa0d06e9"
  }
 ],
 "metadata": {
  "kernelspec": {
   "display_name": "Python 3",
   "language": "python",
   "name": "python3"
  },
  "language_info": {
   "codemirror_mode": {
    "name": "ipython",
    "version": 2
   },
   "file_extension": ".py",
   "mimetype": "text/x-python",
   "name": "python",
   "nbconvert_exporter": "python",
   "pygments_lexer": "ipython2",
   "version": "2.7.6"
  }
 },
 "nbformat": 4,
 "nbformat_minor": 5
}

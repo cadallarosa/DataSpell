{
 "cells": [
  {
   "cell_type": "code",
   "execution_count": 19,
   "id": "initial_id",
   "metadata": {
    "collapsed": true,
    "ExecuteTime": {
     "end_time": "2023-08-22T00:41:36.472850100Z",
     "start_time": "2023-08-22T00:41:36.438167900Z"
    }
   },
   "outputs": [],
   "source": [
    "import pandas as pd"
   ]
  },
  {
   "cell_type": "code",
   "execution_count": 20,
   "outputs": [
    {
     "data": {
      "text/plain": "   Prefix  Assignment  Tutorial  Midterm  TakeHome  Final\n0       5       57.14     34.09    64.38     51.48  52.50\n1       8       95.05    105.49    67.50     99.07  68.33\n2       8       83.70     83.17      NaN     63.15  48.89\n3       7         NaN       NaN    49.38    105.93  80.56\n4       8       91.32     93.64    95.00    107.41  73.89\n5       7       95.00     92.58    93.12     97.78  68.06\n6       8       95.05    102.99    56.25     99.07  50.00\n7       7       72.85     86.85    60.00       NaN  56.11\n8       8       84.26     93.10    47.50     18.52  50.83\n9       7       90.10     97.55    51.25     88.89  63.61",
      "text/html": "<div>\n<style scoped>\n    .dataframe tbody tr th:only-of-type {\n        vertical-align: middle;\n    }\n\n    .dataframe tbody tr th {\n        vertical-align: top;\n    }\n\n    .dataframe thead th {\n        text-align: right;\n    }\n</style>\n<table border=\"1\" class=\"dataframe\">\n  <thead>\n    <tr style=\"text-align: right;\">\n      <th></th>\n      <th>Prefix</th>\n      <th>Assignment</th>\n      <th>Tutorial</th>\n      <th>Midterm</th>\n      <th>TakeHome</th>\n      <th>Final</th>\n    </tr>\n  </thead>\n  <tbody>\n    <tr>\n      <th>0</th>\n      <td>5</td>\n      <td>57.14</td>\n      <td>34.09</td>\n      <td>64.38</td>\n      <td>51.48</td>\n      <td>52.50</td>\n    </tr>\n    <tr>\n      <th>1</th>\n      <td>8</td>\n      <td>95.05</td>\n      <td>105.49</td>\n      <td>67.50</td>\n      <td>99.07</td>\n      <td>68.33</td>\n    </tr>\n    <tr>\n      <th>2</th>\n      <td>8</td>\n      <td>83.70</td>\n      <td>83.17</td>\n      <td>NaN</td>\n      <td>63.15</td>\n      <td>48.89</td>\n    </tr>\n    <tr>\n      <th>3</th>\n      <td>7</td>\n      <td>NaN</td>\n      <td>NaN</td>\n      <td>49.38</td>\n      <td>105.93</td>\n      <td>80.56</td>\n    </tr>\n    <tr>\n      <th>4</th>\n      <td>8</td>\n      <td>91.32</td>\n      <td>93.64</td>\n      <td>95.00</td>\n      <td>107.41</td>\n      <td>73.89</td>\n    </tr>\n    <tr>\n      <th>5</th>\n      <td>7</td>\n      <td>95.00</td>\n      <td>92.58</td>\n      <td>93.12</td>\n      <td>97.78</td>\n      <td>68.06</td>\n    </tr>\n    <tr>\n      <th>6</th>\n      <td>8</td>\n      <td>95.05</td>\n      <td>102.99</td>\n      <td>56.25</td>\n      <td>99.07</td>\n      <td>50.00</td>\n    </tr>\n    <tr>\n      <th>7</th>\n      <td>7</td>\n      <td>72.85</td>\n      <td>86.85</td>\n      <td>60.00</td>\n      <td>NaN</td>\n      <td>56.11</td>\n    </tr>\n    <tr>\n      <th>8</th>\n      <td>8</td>\n      <td>84.26</td>\n      <td>93.10</td>\n      <td>47.50</td>\n      <td>18.52</td>\n      <td>50.83</td>\n    </tr>\n    <tr>\n      <th>9</th>\n      <td>7</td>\n      <td>90.10</td>\n      <td>97.55</td>\n      <td>51.25</td>\n      <td>88.89</td>\n      <td>63.61</td>\n    </tr>\n  </tbody>\n</table>\n</div>"
     },
     "execution_count": 20,
     "metadata": {},
     "output_type": "execute_result"
    }
   ],
   "source": [
    "df = pd.read_csv('class_grades.csv')\n",
    "df.head(10)"
   ],
   "metadata": {
    "collapsed": false,
    "ExecuteTime": {
     "end_time": "2023-08-22T00:41:36.511717400Z",
     "start_time": "2023-08-22T00:41:36.442670600Z"
    }
   },
   "id": "4d4b0bc5afd5cb20"
  },
  {
   "cell_type": "code",
   "execution_count": 21,
   "outputs": [
    {
     "data": {
      "text/plain": "   Prefix  Assignment  Tutorial  Midterm  TakeHome  Final\n0   False       False     False    False     False  False\n1   False       False     False    False     False  False\n2   False       False     False     True     False  False\n3   False        True      True    False     False  False\n4   False       False     False    False     False  False\n5   False       False     False    False     False  False\n6   False       False     False    False     False  False\n7   False       False     False    False      True  False\n8   False       False     False    False     False  False\n9   False       False     False    False     False  False",
      "text/html": "<div>\n<style scoped>\n    .dataframe tbody tr th:only-of-type {\n        vertical-align: middle;\n    }\n\n    .dataframe tbody tr th {\n        vertical-align: top;\n    }\n\n    .dataframe thead th {\n        text-align: right;\n    }\n</style>\n<table border=\"1\" class=\"dataframe\">\n  <thead>\n    <tr style=\"text-align: right;\">\n      <th></th>\n      <th>Prefix</th>\n      <th>Assignment</th>\n      <th>Tutorial</th>\n      <th>Midterm</th>\n      <th>TakeHome</th>\n      <th>Final</th>\n    </tr>\n  </thead>\n  <tbody>\n    <tr>\n      <th>0</th>\n      <td>False</td>\n      <td>False</td>\n      <td>False</td>\n      <td>False</td>\n      <td>False</td>\n      <td>False</td>\n    </tr>\n    <tr>\n      <th>1</th>\n      <td>False</td>\n      <td>False</td>\n      <td>False</td>\n      <td>False</td>\n      <td>False</td>\n      <td>False</td>\n    </tr>\n    <tr>\n      <th>2</th>\n      <td>False</td>\n      <td>False</td>\n      <td>False</td>\n      <td>True</td>\n      <td>False</td>\n      <td>False</td>\n    </tr>\n    <tr>\n      <th>3</th>\n      <td>False</td>\n      <td>True</td>\n      <td>True</td>\n      <td>False</td>\n      <td>False</td>\n      <td>False</td>\n    </tr>\n    <tr>\n      <th>4</th>\n      <td>False</td>\n      <td>False</td>\n      <td>False</td>\n      <td>False</td>\n      <td>False</td>\n      <td>False</td>\n    </tr>\n    <tr>\n      <th>5</th>\n      <td>False</td>\n      <td>False</td>\n      <td>False</td>\n      <td>False</td>\n      <td>False</td>\n      <td>False</td>\n    </tr>\n    <tr>\n      <th>6</th>\n      <td>False</td>\n      <td>False</td>\n      <td>False</td>\n      <td>False</td>\n      <td>False</td>\n      <td>False</td>\n    </tr>\n    <tr>\n      <th>7</th>\n      <td>False</td>\n      <td>False</td>\n      <td>False</td>\n      <td>False</td>\n      <td>True</td>\n      <td>False</td>\n    </tr>\n    <tr>\n      <th>8</th>\n      <td>False</td>\n      <td>False</td>\n      <td>False</td>\n      <td>False</td>\n      <td>False</td>\n      <td>False</td>\n    </tr>\n    <tr>\n      <th>9</th>\n      <td>False</td>\n      <td>False</td>\n      <td>False</td>\n      <td>False</td>\n      <td>False</td>\n      <td>False</td>\n    </tr>\n  </tbody>\n</table>\n</div>"
     },
     "execution_count": 21,
     "metadata": {},
     "output_type": "execute_result"
    }
   ],
   "source": [
    "mask = df.isnull()\n",
    "mask.head(10)"
   ],
   "metadata": {
    "collapsed": false,
    "ExecuteTime": {
     "end_time": "2023-08-22T00:41:36.513563200Z",
     "start_time": "2023-08-22T00:41:36.472850100Z"
    }
   },
   "id": "dc2893a7f091587d"
  },
  {
   "cell_type": "code",
   "execution_count": 22,
   "outputs": [
    {
     "data": {
      "text/plain": "    Prefix  Assignment  Tutorial  Midterm  TakeHome  Final\n0        5       57.14     34.09    64.38     51.48  52.50\n1        8       95.05    105.49    67.50     99.07  68.33\n4        8       91.32     93.64    95.00    107.41  73.89\n5        7       95.00     92.58    93.12     97.78  68.06\n6        8       95.05    102.99    56.25     99.07  50.00\n8        8       84.26     93.10    47.50     18.52  50.83\n9        7       90.10     97.55    51.25     88.89  63.61\n10       7       80.44     90.20    75.00     91.48  39.72\n12       8       97.16    103.71    72.50     93.52  63.33\n13       7       91.28     83.53    81.25     99.81  92.22",
      "text/html": "<div>\n<style scoped>\n    .dataframe tbody tr th:only-of-type {\n        vertical-align: middle;\n    }\n\n    .dataframe tbody tr th {\n        vertical-align: top;\n    }\n\n    .dataframe thead th {\n        text-align: right;\n    }\n</style>\n<table border=\"1\" class=\"dataframe\">\n  <thead>\n    <tr style=\"text-align: right;\">\n      <th></th>\n      <th>Prefix</th>\n      <th>Assignment</th>\n      <th>Tutorial</th>\n      <th>Midterm</th>\n      <th>TakeHome</th>\n      <th>Final</th>\n    </tr>\n  </thead>\n  <tbody>\n    <tr>\n      <th>0</th>\n      <td>5</td>\n      <td>57.14</td>\n      <td>34.09</td>\n      <td>64.38</td>\n      <td>51.48</td>\n      <td>52.50</td>\n    </tr>\n    <tr>\n      <th>1</th>\n      <td>8</td>\n      <td>95.05</td>\n      <td>105.49</td>\n      <td>67.50</td>\n      <td>99.07</td>\n      <td>68.33</td>\n    </tr>\n    <tr>\n      <th>4</th>\n      <td>8</td>\n      <td>91.32</td>\n      <td>93.64</td>\n      <td>95.00</td>\n      <td>107.41</td>\n      <td>73.89</td>\n    </tr>\n    <tr>\n      <th>5</th>\n      <td>7</td>\n      <td>95.00</td>\n      <td>92.58</td>\n      <td>93.12</td>\n      <td>97.78</td>\n      <td>68.06</td>\n    </tr>\n    <tr>\n      <th>6</th>\n      <td>8</td>\n      <td>95.05</td>\n      <td>102.99</td>\n      <td>56.25</td>\n      <td>99.07</td>\n      <td>50.00</td>\n    </tr>\n    <tr>\n      <th>8</th>\n      <td>8</td>\n      <td>84.26</td>\n      <td>93.10</td>\n      <td>47.50</td>\n      <td>18.52</td>\n      <td>50.83</td>\n    </tr>\n    <tr>\n      <th>9</th>\n      <td>7</td>\n      <td>90.10</td>\n      <td>97.55</td>\n      <td>51.25</td>\n      <td>88.89</td>\n      <td>63.61</td>\n    </tr>\n    <tr>\n      <th>10</th>\n      <td>7</td>\n      <td>80.44</td>\n      <td>90.20</td>\n      <td>75.00</td>\n      <td>91.48</td>\n      <td>39.72</td>\n    </tr>\n    <tr>\n      <th>12</th>\n      <td>8</td>\n      <td>97.16</td>\n      <td>103.71</td>\n      <td>72.50</td>\n      <td>93.52</td>\n      <td>63.33</td>\n    </tr>\n    <tr>\n      <th>13</th>\n      <td>7</td>\n      <td>91.28</td>\n      <td>83.53</td>\n      <td>81.25</td>\n      <td>99.81</td>\n      <td>92.22</td>\n    </tr>\n  </tbody>\n</table>\n</div>"
     },
     "execution_count": 22,
     "metadata": {},
     "output_type": "execute_result"
    }
   ],
   "source": [
    "df.dropna().head(10)"
   ],
   "metadata": {
    "collapsed": false,
    "ExecuteTime": {
     "end_time": "2023-08-22T00:41:36.514067900Z",
     "start_time": "2023-08-22T00:41:36.481520900Z"
    }
   },
   "id": "e538a97aa52ebbe"
  },
  {
   "cell_type": "code",
   "execution_count": 23,
   "outputs": [
    {
     "data": {
      "text/plain": "   Prefix  Assignment  Tutorial  Midterm  TakeHome  Final\n0       5       57.14     34.09    64.38     51.48  52.50\n1       8       95.05    105.49    67.50     99.07  68.33\n2       8       83.70     83.17     0.00     63.15  48.89\n3       7        0.00      0.00    49.38    105.93  80.56\n4       8       91.32     93.64    95.00    107.41  73.89\n5       7       95.00     92.58    93.12     97.78  68.06\n6       8       95.05    102.99    56.25     99.07  50.00\n7       7       72.85     86.85    60.00      0.00  56.11\n8       8       84.26     93.10    47.50     18.52  50.83\n9       7       90.10     97.55    51.25     88.89  63.61",
      "text/html": "<div>\n<style scoped>\n    .dataframe tbody tr th:only-of-type {\n        vertical-align: middle;\n    }\n\n    .dataframe tbody tr th {\n        vertical-align: top;\n    }\n\n    .dataframe thead th {\n        text-align: right;\n    }\n</style>\n<table border=\"1\" class=\"dataframe\">\n  <thead>\n    <tr style=\"text-align: right;\">\n      <th></th>\n      <th>Prefix</th>\n      <th>Assignment</th>\n      <th>Tutorial</th>\n      <th>Midterm</th>\n      <th>TakeHome</th>\n      <th>Final</th>\n    </tr>\n  </thead>\n  <tbody>\n    <tr>\n      <th>0</th>\n      <td>5</td>\n      <td>57.14</td>\n      <td>34.09</td>\n      <td>64.38</td>\n      <td>51.48</td>\n      <td>52.50</td>\n    </tr>\n    <tr>\n      <th>1</th>\n      <td>8</td>\n      <td>95.05</td>\n      <td>105.49</td>\n      <td>67.50</td>\n      <td>99.07</td>\n      <td>68.33</td>\n    </tr>\n    <tr>\n      <th>2</th>\n      <td>8</td>\n      <td>83.70</td>\n      <td>83.17</td>\n      <td>0.00</td>\n      <td>63.15</td>\n      <td>48.89</td>\n    </tr>\n    <tr>\n      <th>3</th>\n      <td>7</td>\n      <td>0.00</td>\n      <td>0.00</td>\n      <td>49.38</td>\n      <td>105.93</td>\n      <td>80.56</td>\n    </tr>\n    <tr>\n      <th>4</th>\n      <td>8</td>\n      <td>91.32</td>\n      <td>93.64</td>\n      <td>95.00</td>\n      <td>107.41</td>\n      <td>73.89</td>\n    </tr>\n    <tr>\n      <th>5</th>\n      <td>7</td>\n      <td>95.00</td>\n      <td>92.58</td>\n      <td>93.12</td>\n      <td>97.78</td>\n      <td>68.06</td>\n    </tr>\n    <tr>\n      <th>6</th>\n      <td>8</td>\n      <td>95.05</td>\n      <td>102.99</td>\n      <td>56.25</td>\n      <td>99.07</td>\n      <td>50.00</td>\n    </tr>\n    <tr>\n      <th>7</th>\n      <td>7</td>\n      <td>72.85</td>\n      <td>86.85</td>\n      <td>60.00</td>\n      <td>0.00</td>\n      <td>56.11</td>\n    </tr>\n    <tr>\n      <th>8</th>\n      <td>8</td>\n      <td>84.26</td>\n      <td>93.10</td>\n      <td>47.50</td>\n      <td>18.52</td>\n      <td>50.83</td>\n    </tr>\n    <tr>\n      <th>9</th>\n      <td>7</td>\n      <td>90.10</td>\n      <td>97.55</td>\n      <td>51.25</td>\n      <td>88.89</td>\n      <td>63.61</td>\n    </tr>\n  </tbody>\n</table>\n</div>"
     },
     "execution_count": 23,
     "metadata": {},
     "output_type": "execute_result"
    }
   ],
   "source": [
    "df.fillna(0,inplace=True)\n",
    "df.head(10)"
   ],
   "metadata": {
    "collapsed": false,
    "ExecuteTime": {
     "end_time": "2023-08-22T00:41:36.527067200Z",
     "start_time": "2023-08-22T00:41:36.501730100Z"
    }
   },
   "id": "bb78625555041c13"
  },
  {
   "cell_type": "code",
   "execution_count": 24,
   "outputs": [
    {
     "data": {
      "text/plain": "          time    user          video  playback position paused  volume\n0   1469974424  cheryl     intro.html                  5  False    10.0\n1   1469974454  cheryl     intro.html                  6    NaN     NaN\n2   1469974544  cheryl     intro.html                  9    NaN     NaN\n3   1469974574  cheryl     intro.html                 10    NaN     NaN\n4   1469977514     bob     intro.html                  1    NaN     NaN\n5   1469977544     bob     intro.html                  1    NaN     NaN\n6   1469977574     bob     intro.html                  1    NaN     NaN\n7   1469977604     bob     intro.html                  1    NaN     NaN\n8   1469974604  cheryl     intro.html                 11    NaN     NaN\n9   1469974694  cheryl     intro.html                 14    NaN     NaN\n10  1469974724  cheryl     intro.html                 15    NaN     NaN\n11  1469974454     sue  advanced.html                 24    NaN     NaN\n12  1469974524     sue  advanced.html                 25    NaN     NaN\n13  1469974424     sue  advanced.html                 23  False    10.0\n14  1469974554     sue  advanced.html                 26    NaN     NaN",
      "text/html": "<div>\n<style scoped>\n    .dataframe tbody tr th:only-of-type {\n        vertical-align: middle;\n    }\n\n    .dataframe tbody tr th {\n        vertical-align: top;\n    }\n\n    .dataframe thead th {\n        text-align: right;\n    }\n</style>\n<table border=\"1\" class=\"dataframe\">\n  <thead>\n    <tr style=\"text-align: right;\">\n      <th></th>\n      <th>time</th>\n      <th>user</th>\n      <th>video</th>\n      <th>playback position</th>\n      <th>paused</th>\n      <th>volume</th>\n    </tr>\n  </thead>\n  <tbody>\n    <tr>\n      <th>0</th>\n      <td>1469974424</td>\n      <td>cheryl</td>\n      <td>intro.html</td>\n      <td>5</td>\n      <td>False</td>\n      <td>10.0</td>\n    </tr>\n    <tr>\n      <th>1</th>\n      <td>1469974454</td>\n      <td>cheryl</td>\n      <td>intro.html</td>\n      <td>6</td>\n      <td>NaN</td>\n      <td>NaN</td>\n    </tr>\n    <tr>\n      <th>2</th>\n      <td>1469974544</td>\n      <td>cheryl</td>\n      <td>intro.html</td>\n      <td>9</td>\n      <td>NaN</td>\n      <td>NaN</td>\n    </tr>\n    <tr>\n      <th>3</th>\n      <td>1469974574</td>\n      <td>cheryl</td>\n      <td>intro.html</td>\n      <td>10</td>\n      <td>NaN</td>\n      <td>NaN</td>\n    </tr>\n    <tr>\n      <th>4</th>\n      <td>1469977514</td>\n      <td>bob</td>\n      <td>intro.html</td>\n      <td>1</td>\n      <td>NaN</td>\n      <td>NaN</td>\n    </tr>\n    <tr>\n      <th>5</th>\n      <td>1469977544</td>\n      <td>bob</td>\n      <td>intro.html</td>\n      <td>1</td>\n      <td>NaN</td>\n      <td>NaN</td>\n    </tr>\n    <tr>\n      <th>6</th>\n      <td>1469977574</td>\n      <td>bob</td>\n      <td>intro.html</td>\n      <td>1</td>\n      <td>NaN</td>\n      <td>NaN</td>\n    </tr>\n    <tr>\n      <th>7</th>\n      <td>1469977604</td>\n      <td>bob</td>\n      <td>intro.html</td>\n      <td>1</td>\n      <td>NaN</td>\n      <td>NaN</td>\n    </tr>\n    <tr>\n      <th>8</th>\n      <td>1469974604</td>\n      <td>cheryl</td>\n      <td>intro.html</td>\n      <td>11</td>\n      <td>NaN</td>\n      <td>NaN</td>\n    </tr>\n    <tr>\n      <th>9</th>\n      <td>1469974694</td>\n      <td>cheryl</td>\n      <td>intro.html</td>\n      <td>14</td>\n      <td>NaN</td>\n      <td>NaN</td>\n    </tr>\n    <tr>\n      <th>10</th>\n      <td>1469974724</td>\n      <td>cheryl</td>\n      <td>intro.html</td>\n      <td>15</td>\n      <td>NaN</td>\n      <td>NaN</td>\n    </tr>\n    <tr>\n      <th>11</th>\n      <td>1469974454</td>\n      <td>sue</td>\n      <td>advanced.html</td>\n      <td>24</td>\n      <td>NaN</td>\n      <td>NaN</td>\n    </tr>\n    <tr>\n      <th>12</th>\n      <td>1469974524</td>\n      <td>sue</td>\n      <td>advanced.html</td>\n      <td>25</td>\n      <td>NaN</td>\n      <td>NaN</td>\n    </tr>\n    <tr>\n      <th>13</th>\n      <td>1469974424</td>\n      <td>sue</td>\n      <td>advanced.html</td>\n      <td>23</td>\n      <td>False</td>\n      <td>10.0</td>\n    </tr>\n    <tr>\n      <th>14</th>\n      <td>1469974554</td>\n      <td>sue</td>\n      <td>advanced.html</td>\n      <td>26</td>\n      <td>NaN</td>\n      <td>NaN</td>\n    </tr>\n  </tbody>\n</table>\n</div>"
     },
     "execution_count": 24,
     "metadata": {},
     "output_type": "execute_result"
    }
   ],
   "source": [
    "df  = pd.read_csv('log.csv')\n",
    "df.head(15)"
   ],
   "metadata": {
    "collapsed": false,
    "ExecuteTime": {
     "end_time": "2023-08-22T00:41:36.535902900Z",
     "start_time": "2023-08-22T00:41:36.517067700Z"
    }
   },
   "id": "26f8b96e659f3b05"
  },
  {
   "cell_type": "code",
   "execution_count": 25,
   "outputs": [
    {
     "data": {
      "text/plain": "              user          video  playback position paused  volume\ntime                                                               \n1469974424  cheryl     intro.html                  5  False    10.0\n1469974424     sue  advanced.html                 23  False    10.0\n1469974454  cheryl     intro.html                  6    NaN     NaN\n1469974454     sue  advanced.html                 24    NaN     NaN\n1469974484  cheryl     intro.html                  7    NaN     NaN\n1469974514  cheryl     intro.html                  8    NaN     NaN\n1469974524     sue  advanced.html                 25    NaN     NaN\n1469974544  cheryl     intro.html                  9    NaN     NaN\n1469974554     sue  advanced.html                 26    NaN     NaN\n1469974574  cheryl     intro.html                 10    NaN     NaN\n1469974604  cheryl     intro.html                 11    NaN     NaN\n1469974624     sue  advanced.html                 27    NaN     NaN\n1469974634  cheryl     intro.html                 12    NaN     NaN\n1469974654     sue  advanced.html                 28    NaN     5.0\n1469974664  cheryl     intro.html                 13    NaN     NaN\n1469974694  cheryl     intro.html                 14    NaN     NaN\n1469974724  cheryl     intro.html                 15    NaN     NaN\n1469974724     sue  advanced.html                 29    NaN     NaN\n1469974754     sue  advanced.html                 30    NaN     NaN\n1469974824     sue  advanced.html                 31    NaN     NaN",
      "text/html": "<div>\n<style scoped>\n    .dataframe tbody tr th:only-of-type {\n        vertical-align: middle;\n    }\n\n    .dataframe tbody tr th {\n        vertical-align: top;\n    }\n\n    .dataframe thead th {\n        text-align: right;\n    }\n</style>\n<table border=\"1\" class=\"dataframe\">\n  <thead>\n    <tr style=\"text-align: right;\">\n      <th></th>\n      <th>user</th>\n      <th>video</th>\n      <th>playback position</th>\n      <th>paused</th>\n      <th>volume</th>\n    </tr>\n    <tr>\n      <th>time</th>\n      <th></th>\n      <th></th>\n      <th></th>\n      <th></th>\n      <th></th>\n    </tr>\n  </thead>\n  <tbody>\n    <tr>\n      <th>1469974424</th>\n      <td>cheryl</td>\n      <td>intro.html</td>\n      <td>5</td>\n      <td>False</td>\n      <td>10.0</td>\n    </tr>\n    <tr>\n      <th>1469974424</th>\n      <td>sue</td>\n      <td>advanced.html</td>\n      <td>23</td>\n      <td>False</td>\n      <td>10.0</td>\n    </tr>\n    <tr>\n      <th>1469974454</th>\n      <td>cheryl</td>\n      <td>intro.html</td>\n      <td>6</td>\n      <td>NaN</td>\n      <td>NaN</td>\n    </tr>\n    <tr>\n      <th>1469974454</th>\n      <td>sue</td>\n      <td>advanced.html</td>\n      <td>24</td>\n      <td>NaN</td>\n      <td>NaN</td>\n    </tr>\n    <tr>\n      <th>1469974484</th>\n      <td>cheryl</td>\n      <td>intro.html</td>\n      <td>7</td>\n      <td>NaN</td>\n      <td>NaN</td>\n    </tr>\n    <tr>\n      <th>1469974514</th>\n      <td>cheryl</td>\n      <td>intro.html</td>\n      <td>8</td>\n      <td>NaN</td>\n      <td>NaN</td>\n    </tr>\n    <tr>\n      <th>1469974524</th>\n      <td>sue</td>\n      <td>advanced.html</td>\n      <td>25</td>\n      <td>NaN</td>\n      <td>NaN</td>\n    </tr>\n    <tr>\n      <th>1469974544</th>\n      <td>cheryl</td>\n      <td>intro.html</td>\n      <td>9</td>\n      <td>NaN</td>\n      <td>NaN</td>\n    </tr>\n    <tr>\n      <th>1469974554</th>\n      <td>sue</td>\n      <td>advanced.html</td>\n      <td>26</td>\n      <td>NaN</td>\n      <td>NaN</td>\n    </tr>\n    <tr>\n      <th>1469974574</th>\n      <td>cheryl</td>\n      <td>intro.html</td>\n      <td>10</td>\n      <td>NaN</td>\n      <td>NaN</td>\n    </tr>\n    <tr>\n      <th>1469974604</th>\n      <td>cheryl</td>\n      <td>intro.html</td>\n      <td>11</td>\n      <td>NaN</td>\n      <td>NaN</td>\n    </tr>\n    <tr>\n      <th>1469974624</th>\n      <td>sue</td>\n      <td>advanced.html</td>\n      <td>27</td>\n      <td>NaN</td>\n      <td>NaN</td>\n    </tr>\n    <tr>\n      <th>1469974634</th>\n      <td>cheryl</td>\n      <td>intro.html</td>\n      <td>12</td>\n      <td>NaN</td>\n      <td>NaN</td>\n    </tr>\n    <tr>\n      <th>1469974654</th>\n      <td>sue</td>\n      <td>advanced.html</td>\n      <td>28</td>\n      <td>NaN</td>\n      <td>5.0</td>\n    </tr>\n    <tr>\n      <th>1469974664</th>\n      <td>cheryl</td>\n      <td>intro.html</td>\n      <td>13</td>\n      <td>NaN</td>\n      <td>NaN</td>\n    </tr>\n    <tr>\n      <th>1469974694</th>\n      <td>cheryl</td>\n      <td>intro.html</td>\n      <td>14</td>\n      <td>NaN</td>\n      <td>NaN</td>\n    </tr>\n    <tr>\n      <th>1469974724</th>\n      <td>cheryl</td>\n      <td>intro.html</td>\n      <td>15</td>\n      <td>NaN</td>\n      <td>NaN</td>\n    </tr>\n    <tr>\n      <th>1469974724</th>\n      <td>sue</td>\n      <td>advanced.html</td>\n      <td>29</td>\n      <td>NaN</td>\n      <td>NaN</td>\n    </tr>\n    <tr>\n      <th>1469974754</th>\n      <td>sue</td>\n      <td>advanced.html</td>\n      <td>30</td>\n      <td>NaN</td>\n      <td>NaN</td>\n    </tr>\n    <tr>\n      <th>1469974824</th>\n      <td>sue</td>\n      <td>advanced.html</td>\n      <td>31</td>\n      <td>NaN</td>\n      <td>NaN</td>\n    </tr>\n  </tbody>\n</table>\n</div>"
     },
     "execution_count": 25,
     "metadata": {},
     "output_type": "execute_result"
    }
   ],
   "source": [
    "df = df.set_index('time')\n",
    "df = df.sort_index()\n",
    "df.head(20)"
   ],
   "metadata": {
    "collapsed": false,
    "ExecuteTime": {
     "end_time": "2023-08-22T00:41:36.601148Z",
     "start_time": "2023-08-22T00:41:36.535902900Z"
    }
   },
   "id": "d3bacc05d91c5582"
  },
  {
   "cell_type": "code",
   "execution_count": 28,
   "outputs": [
    {
     "data": {
      "text/plain": "                           video  playback position paused  volume\ntime       user                                                   \n1469974424 cheryl     intro.html                  5  False    10.0\n           sue     advanced.html                 23  False    10.0\n1469974454 cheryl     intro.html                  6    NaN     NaN\n           sue     advanced.html                 24    NaN     NaN\n1469974484 cheryl     intro.html                  7    NaN     NaN\n1469974514 cheryl     intro.html                  8    NaN     NaN\n1469974524 sue     advanced.html                 25    NaN     NaN\n1469974544 cheryl     intro.html                  9    NaN     NaN\n1469974554 sue     advanced.html                 26    NaN     NaN\n1469974574 cheryl     intro.html                 10    NaN     NaN\n1469974604 cheryl     intro.html                 11    NaN     NaN\n1469974624 sue     advanced.html                 27    NaN     NaN\n1469974634 cheryl     intro.html                 12    NaN     NaN\n1469974654 sue     advanced.html                 28    NaN     5.0\n1469974664 cheryl     intro.html                 13    NaN     NaN\n1469974694 cheryl     intro.html                 14    NaN     NaN\n1469974724 cheryl     intro.html                 15    NaN     NaN\n           sue     advanced.html                 29    NaN     NaN\n1469974754 sue     advanced.html                 30    NaN     NaN\n1469974824 sue     advanced.html                 31    NaN     NaN\n1469974854 sue     advanced.html                 32    NaN     NaN\n1469974924 sue     advanced.html                 33    NaN     NaN\n1469977424 bob        intro.html                  1   True    10.0\n1469977454 bob        intro.html                  1    NaN     NaN\n1469977484 bob        intro.html                  1    NaN     NaN\n1469977514 bob        intro.html                  1    NaN     NaN\n1469977544 bob        intro.html                  1    NaN     NaN\n1469977574 bob        intro.html                  1    NaN     NaN\n1469977604 bob        intro.html                  1    NaN     NaN\n1469977634 bob        intro.html                  1    NaN     NaN\n1469977664 bob        intro.html                  1    NaN     NaN\n1469977694 bob        intro.html                  1    NaN     NaN\n1469977724 bob        intro.html                  1    NaN     NaN",
      "text/html": "<div>\n<style scoped>\n    .dataframe tbody tr th:only-of-type {\n        vertical-align: middle;\n    }\n\n    .dataframe tbody tr th {\n        vertical-align: top;\n    }\n\n    .dataframe thead th {\n        text-align: right;\n    }\n</style>\n<table border=\"1\" class=\"dataframe\">\n  <thead>\n    <tr style=\"text-align: right;\">\n      <th></th>\n      <th></th>\n      <th>video</th>\n      <th>playback position</th>\n      <th>paused</th>\n      <th>volume</th>\n    </tr>\n    <tr>\n      <th>time</th>\n      <th>user</th>\n      <th></th>\n      <th></th>\n      <th></th>\n      <th></th>\n    </tr>\n  </thead>\n  <tbody>\n    <tr>\n      <th rowspan=\"2\" valign=\"top\">1469974424</th>\n      <th>cheryl</th>\n      <td>intro.html</td>\n      <td>5</td>\n      <td>False</td>\n      <td>10.0</td>\n    </tr>\n    <tr>\n      <th>sue</th>\n      <td>advanced.html</td>\n      <td>23</td>\n      <td>False</td>\n      <td>10.0</td>\n    </tr>\n    <tr>\n      <th rowspan=\"2\" valign=\"top\">1469974454</th>\n      <th>cheryl</th>\n      <td>intro.html</td>\n      <td>6</td>\n      <td>NaN</td>\n      <td>NaN</td>\n    </tr>\n    <tr>\n      <th>sue</th>\n      <td>advanced.html</td>\n      <td>24</td>\n      <td>NaN</td>\n      <td>NaN</td>\n    </tr>\n    <tr>\n      <th>1469974484</th>\n      <th>cheryl</th>\n      <td>intro.html</td>\n      <td>7</td>\n      <td>NaN</td>\n      <td>NaN</td>\n    </tr>\n    <tr>\n      <th>1469974514</th>\n      <th>cheryl</th>\n      <td>intro.html</td>\n      <td>8</td>\n      <td>NaN</td>\n      <td>NaN</td>\n    </tr>\n    <tr>\n      <th>1469974524</th>\n      <th>sue</th>\n      <td>advanced.html</td>\n      <td>25</td>\n      <td>NaN</td>\n      <td>NaN</td>\n    </tr>\n    <tr>\n      <th>1469974544</th>\n      <th>cheryl</th>\n      <td>intro.html</td>\n      <td>9</td>\n      <td>NaN</td>\n      <td>NaN</td>\n    </tr>\n    <tr>\n      <th>1469974554</th>\n      <th>sue</th>\n      <td>advanced.html</td>\n      <td>26</td>\n      <td>NaN</td>\n      <td>NaN</td>\n    </tr>\n    <tr>\n      <th>1469974574</th>\n      <th>cheryl</th>\n      <td>intro.html</td>\n      <td>10</td>\n      <td>NaN</td>\n      <td>NaN</td>\n    </tr>\n    <tr>\n      <th>1469974604</th>\n      <th>cheryl</th>\n      <td>intro.html</td>\n      <td>11</td>\n      <td>NaN</td>\n      <td>NaN</td>\n    </tr>\n    <tr>\n      <th>1469974624</th>\n      <th>sue</th>\n      <td>advanced.html</td>\n      <td>27</td>\n      <td>NaN</td>\n      <td>NaN</td>\n    </tr>\n    <tr>\n      <th>1469974634</th>\n      <th>cheryl</th>\n      <td>intro.html</td>\n      <td>12</td>\n      <td>NaN</td>\n      <td>NaN</td>\n    </tr>\n    <tr>\n      <th>1469974654</th>\n      <th>sue</th>\n      <td>advanced.html</td>\n      <td>28</td>\n      <td>NaN</td>\n      <td>5.0</td>\n    </tr>\n    <tr>\n      <th>1469974664</th>\n      <th>cheryl</th>\n      <td>intro.html</td>\n      <td>13</td>\n      <td>NaN</td>\n      <td>NaN</td>\n    </tr>\n    <tr>\n      <th>1469974694</th>\n      <th>cheryl</th>\n      <td>intro.html</td>\n      <td>14</td>\n      <td>NaN</td>\n      <td>NaN</td>\n    </tr>\n    <tr>\n      <th rowspan=\"2\" valign=\"top\">1469974724</th>\n      <th>cheryl</th>\n      <td>intro.html</td>\n      <td>15</td>\n      <td>NaN</td>\n      <td>NaN</td>\n    </tr>\n    <tr>\n      <th>sue</th>\n      <td>advanced.html</td>\n      <td>29</td>\n      <td>NaN</td>\n      <td>NaN</td>\n    </tr>\n    <tr>\n      <th>1469974754</th>\n      <th>sue</th>\n      <td>advanced.html</td>\n      <td>30</td>\n      <td>NaN</td>\n      <td>NaN</td>\n    </tr>\n    <tr>\n      <th>1469974824</th>\n      <th>sue</th>\n      <td>advanced.html</td>\n      <td>31</td>\n      <td>NaN</td>\n      <td>NaN</td>\n    </tr>\n    <tr>\n      <th>1469974854</th>\n      <th>sue</th>\n      <td>advanced.html</td>\n      <td>32</td>\n      <td>NaN</td>\n      <td>NaN</td>\n    </tr>\n    <tr>\n      <th>1469974924</th>\n      <th>sue</th>\n      <td>advanced.html</td>\n      <td>33</td>\n      <td>NaN</td>\n      <td>NaN</td>\n    </tr>\n    <tr>\n      <th>1469977424</th>\n      <th>bob</th>\n      <td>intro.html</td>\n      <td>1</td>\n      <td>True</td>\n      <td>10.0</td>\n    </tr>\n    <tr>\n      <th>1469977454</th>\n      <th>bob</th>\n      <td>intro.html</td>\n      <td>1</td>\n      <td>NaN</td>\n      <td>NaN</td>\n    </tr>\n    <tr>\n      <th>1469977484</th>\n      <th>bob</th>\n      <td>intro.html</td>\n      <td>1</td>\n      <td>NaN</td>\n      <td>NaN</td>\n    </tr>\n    <tr>\n      <th>1469977514</th>\n      <th>bob</th>\n      <td>intro.html</td>\n      <td>1</td>\n      <td>NaN</td>\n      <td>NaN</td>\n    </tr>\n    <tr>\n      <th>1469977544</th>\n      <th>bob</th>\n      <td>intro.html</td>\n      <td>1</td>\n      <td>NaN</td>\n      <td>NaN</td>\n    </tr>\n    <tr>\n      <th>1469977574</th>\n      <th>bob</th>\n      <td>intro.html</td>\n      <td>1</td>\n      <td>NaN</td>\n      <td>NaN</td>\n    </tr>\n    <tr>\n      <th>1469977604</th>\n      <th>bob</th>\n      <td>intro.html</td>\n      <td>1</td>\n      <td>NaN</td>\n      <td>NaN</td>\n    </tr>\n    <tr>\n      <th>1469977634</th>\n      <th>bob</th>\n      <td>intro.html</td>\n      <td>1</td>\n      <td>NaN</td>\n      <td>NaN</td>\n    </tr>\n    <tr>\n      <th>1469977664</th>\n      <th>bob</th>\n      <td>intro.html</td>\n      <td>1</td>\n      <td>NaN</td>\n      <td>NaN</td>\n    </tr>\n    <tr>\n      <th>1469977694</th>\n      <th>bob</th>\n      <td>intro.html</td>\n      <td>1</td>\n      <td>NaN</td>\n      <td>NaN</td>\n    </tr>\n    <tr>\n      <th>1469977724</th>\n      <th>bob</th>\n      <td>intro.html</td>\n      <td>1</td>\n      <td>NaN</td>\n      <td>NaN</td>\n    </tr>\n  </tbody>\n</table>\n</div>"
     },
     "execution_count": 28,
     "metadata": {},
     "output_type": "execute_result"
    }
   ],
   "source": [
    "df = df.reset_index()\n",
    "df = df.set_index(['time','user'])\n",
    "df"
   ],
   "metadata": {
    "collapsed": false,
    "ExecuteTime": {
     "end_time": "2023-08-22T00:42:19.363404900Z",
     "start_time": "2023-08-22T00:42:19.327413300Z"
    }
   },
   "id": "bf64aba4a0efa62"
  },
  {
   "cell_type": "code",
   "execution_count": 30,
   "outputs": [
    {
     "data": {
      "text/plain": "                           video  playback position  paused  volume\ntime       user                                                    \n1469974424 cheryl     intro.html                  5   False    10.0\n           sue     advanced.html                 23   False    10.0\n1469974454 cheryl     intro.html                  6   False    10.0\n           sue     advanced.html                 24   False    10.0\n1469974484 cheryl     intro.html                  7   False    10.0",
      "text/html": "<div>\n<style scoped>\n    .dataframe tbody tr th:only-of-type {\n        vertical-align: middle;\n    }\n\n    .dataframe tbody tr th {\n        vertical-align: top;\n    }\n\n    .dataframe thead th {\n        text-align: right;\n    }\n</style>\n<table border=\"1\" class=\"dataframe\">\n  <thead>\n    <tr style=\"text-align: right;\">\n      <th></th>\n      <th></th>\n      <th>video</th>\n      <th>playback position</th>\n      <th>paused</th>\n      <th>volume</th>\n    </tr>\n    <tr>\n      <th>time</th>\n      <th>user</th>\n      <th></th>\n      <th></th>\n      <th></th>\n      <th></th>\n    </tr>\n  </thead>\n  <tbody>\n    <tr>\n      <th rowspan=\"2\" valign=\"top\">1469974424</th>\n      <th>cheryl</th>\n      <td>intro.html</td>\n      <td>5</td>\n      <td>False</td>\n      <td>10.0</td>\n    </tr>\n    <tr>\n      <th>sue</th>\n      <td>advanced.html</td>\n      <td>23</td>\n      <td>False</td>\n      <td>10.0</td>\n    </tr>\n    <tr>\n      <th rowspan=\"2\" valign=\"top\">1469974454</th>\n      <th>cheryl</th>\n      <td>intro.html</td>\n      <td>6</td>\n      <td>False</td>\n      <td>10.0</td>\n    </tr>\n    <tr>\n      <th>sue</th>\n      <td>advanced.html</td>\n      <td>24</td>\n      <td>False</td>\n      <td>10.0</td>\n    </tr>\n    <tr>\n      <th>1469974484</th>\n      <th>cheryl</th>\n      <td>intro.html</td>\n      <td>7</td>\n      <td>False</td>\n      <td>10.0</td>\n    </tr>\n  </tbody>\n</table>\n</div>"
     },
     "execution_count": 30,
     "metadata": {},
     "output_type": "execute_result"
    }
   ],
   "source": [
    "df = df.fillna(method='ffill')\n",
    "df.head()"
   ],
   "metadata": {
    "collapsed": false,
    "ExecuteTime": {
     "end_time": "2023-08-22T00:43:29.254341Z",
     "start_time": "2023-08-22T00:43:29.242760Z"
    }
   },
   "id": "81325006a0bf665"
  },
  {
   "cell_type": "code",
   "execution_count": 31,
   "outputs": [
    {
     "data": {
      "text/plain": "   A  B  C\n0  1  3  a\n1  1  6  b\n2  2  3  c\n3  3  8  d\n4  4  9  e",
      "text/html": "<div>\n<style scoped>\n    .dataframe tbody tr th:only-of-type {\n        vertical-align: middle;\n    }\n\n    .dataframe tbody tr th {\n        vertical-align: top;\n    }\n\n    .dataframe thead th {\n        text-align: right;\n    }\n</style>\n<table border=\"1\" class=\"dataframe\">\n  <thead>\n    <tr style=\"text-align: right;\">\n      <th></th>\n      <th>A</th>\n      <th>B</th>\n      <th>C</th>\n    </tr>\n  </thead>\n  <tbody>\n    <tr>\n      <th>0</th>\n      <td>1</td>\n      <td>3</td>\n      <td>a</td>\n    </tr>\n    <tr>\n      <th>1</th>\n      <td>1</td>\n      <td>6</td>\n      <td>b</td>\n    </tr>\n    <tr>\n      <th>2</th>\n      <td>2</td>\n      <td>3</td>\n      <td>c</td>\n    </tr>\n    <tr>\n      <th>3</th>\n      <td>3</td>\n      <td>8</td>\n      <td>d</td>\n    </tr>\n    <tr>\n      <th>4</th>\n      <td>4</td>\n      <td>9</td>\n      <td>e</td>\n    </tr>\n  </tbody>\n</table>\n</div>"
     },
     "execution_count": 31,
     "metadata": {},
     "output_type": "execute_result"
    }
   ],
   "source": [
    "df = pd.DataFrame({'A':[1,1,2,3,4],\n",
    "                   'B':[3,6,3,8,9],\n",
    "                   'C':['a','b','c','d','e']})\n",
    "df"
   ],
   "metadata": {
    "collapsed": false,
    "ExecuteTime": {
     "end_time": "2023-08-22T00:45:46.986540Z",
     "start_time": "2023-08-22T00:45:46.947168400Z"
    }
   },
   "id": "cf3a5a65ed69bdf0"
  },
  {
   "cell_type": "code",
   "execution_count": 32,
   "outputs": [
    {
     "data": {
      "text/plain": "     A  B  C\n0  100  3  a\n1  100  6  b\n2    2  3  c\n3    3  8  d\n4    4  9  e",
      "text/html": "<div>\n<style scoped>\n    .dataframe tbody tr th:only-of-type {\n        vertical-align: middle;\n    }\n\n    .dataframe tbody tr th {\n        vertical-align: top;\n    }\n\n    .dataframe thead th {\n        text-align: right;\n    }\n</style>\n<table border=\"1\" class=\"dataframe\">\n  <thead>\n    <tr style=\"text-align: right;\">\n      <th></th>\n      <th>A</th>\n      <th>B</th>\n      <th>C</th>\n    </tr>\n  </thead>\n  <tbody>\n    <tr>\n      <th>0</th>\n      <td>100</td>\n      <td>3</td>\n      <td>a</td>\n    </tr>\n    <tr>\n      <th>1</th>\n      <td>100</td>\n      <td>6</td>\n      <td>b</td>\n    </tr>\n    <tr>\n      <th>2</th>\n      <td>2</td>\n      <td>3</td>\n      <td>c</td>\n    </tr>\n    <tr>\n      <th>3</th>\n      <td>3</td>\n      <td>8</td>\n      <td>d</td>\n    </tr>\n    <tr>\n      <th>4</th>\n      <td>4</td>\n      <td>9</td>\n      <td>e</td>\n    </tr>\n  </tbody>\n</table>\n</div>"
     },
     "execution_count": 32,
     "metadata": {},
     "output_type": "execute_result"
    }
   ],
   "source": [
    "df.replace(1,100)"
   ],
   "metadata": {
    "collapsed": false,
    "ExecuteTime": {
     "end_time": "2023-08-22T00:46:06.706389300Z",
     "start_time": "2023-08-22T00:46:06.659490600Z"
    }
   },
   "id": "f768095de0ae9a8c"
  },
  {
   "cell_type": "code",
   "execution_count": 33,
   "outputs": [
    {
     "data": {
      "text/plain": "     A    B  C\n0  100  300  a\n1  100    6  b\n2    2  300  c\n3  300    8  d\n4    4    9  e",
      "text/html": "<div>\n<style scoped>\n    .dataframe tbody tr th:only-of-type {\n        vertical-align: middle;\n    }\n\n    .dataframe tbody tr th {\n        vertical-align: top;\n    }\n\n    .dataframe thead th {\n        text-align: right;\n    }\n</style>\n<table border=\"1\" class=\"dataframe\">\n  <thead>\n    <tr style=\"text-align: right;\">\n      <th></th>\n      <th>A</th>\n      <th>B</th>\n      <th>C</th>\n    </tr>\n  </thead>\n  <tbody>\n    <tr>\n      <th>0</th>\n      <td>100</td>\n      <td>300</td>\n      <td>a</td>\n    </tr>\n    <tr>\n      <th>1</th>\n      <td>100</td>\n      <td>6</td>\n      <td>b</td>\n    </tr>\n    <tr>\n      <th>2</th>\n      <td>2</td>\n      <td>300</td>\n      <td>c</td>\n    </tr>\n    <tr>\n      <th>3</th>\n      <td>300</td>\n      <td>8</td>\n      <td>d</td>\n    </tr>\n    <tr>\n      <th>4</th>\n      <td>4</td>\n      <td>9</td>\n      <td>e</td>\n    </tr>\n  </tbody>\n</table>\n</div>"
     },
     "execution_count": 33,
     "metadata": {},
     "output_type": "execute_result"
    }
   ],
   "source": [
    "df.replace([1,3],[100,300])"
   ],
   "metadata": {
    "collapsed": false,
    "ExecuteTime": {
     "end_time": "2023-08-22T00:46:30.678687900Z",
     "start_time": "2023-08-22T00:46:30.643650500Z"
    }
   },
   "id": "c0526c5eaf48aeff"
  },
  {
   "cell_type": "code",
   "execution_count": 35,
   "outputs": [
    {
     "data": {
      "text/plain": "          time    user          video  playback position paused  volume\n0   1469974424  cheryl     intro.html                  5  False    10.0\n1   1469974454  cheryl     intro.html                  6    NaN     NaN\n2   1469974544  cheryl     intro.html                  9    NaN     NaN\n3   1469974574  cheryl     intro.html                 10    NaN     NaN\n4   1469977514     bob     intro.html                  1    NaN     NaN\n5   1469977544     bob     intro.html                  1    NaN     NaN\n6   1469977574     bob     intro.html                  1    NaN     NaN\n7   1469977604     bob     intro.html                  1    NaN     NaN\n8   1469974604  cheryl     intro.html                 11    NaN     NaN\n9   1469974694  cheryl     intro.html                 14    NaN     NaN\n10  1469974724  cheryl     intro.html                 15    NaN     NaN\n11  1469974454     sue  advanced.html                 24    NaN     NaN\n12  1469974524     sue  advanced.html                 25    NaN     NaN\n13  1469974424     sue  advanced.html                 23  False    10.0\n14  1469974554     sue  advanced.html                 26    NaN     NaN\n15  1469974624     sue  advanced.html                 27    NaN     NaN\n16  1469974654     sue  advanced.html                 28    NaN     5.0\n17  1469974724     sue  advanced.html                 29    NaN     NaN\n18  1469974484  cheryl     intro.html                  7    NaN     NaN\n19  1469974514  cheryl     intro.html                  8    NaN     NaN",
      "text/html": "<div>\n<style scoped>\n    .dataframe tbody tr th:only-of-type {\n        vertical-align: middle;\n    }\n\n    .dataframe tbody tr th {\n        vertical-align: top;\n    }\n\n    .dataframe thead th {\n        text-align: right;\n    }\n</style>\n<table border=\"1\" class=\"dataframe\">\n  <thead>\n    <tr style=\"text-align: right;\">\n      <th></th>\n      <th>time</th>\n      <th>user</th>\n      <th>video</th>\n      <th>playback position</th>\n      <th>paused</th>\n      <th>volume</th>\n    </tr>\n  </thead>\n  <tbody>\n    <tr>\n      <th>0</th>\n      <td>1469974424</td>\n      <td>cheryl</td>\n      <td>intro.html</td>\n      <td>5</td>\n      <td>False</td>\n      <td>10.0</td>\n    </tr>\n    <tr>\n      <th>1</th>\n      <td>1469974454</td>\n      <td>cheryl</td>\n      <td>intro.html</td>\n      <td>6</td>\n      <td>NaN</td>\n      <td>NaN</td>\n    </tr>\n    <tr>\n      <th>2</th>\n      <td>1469974544</td>\n      <td>cheryl</td>\n      <td>intro.html</td>\n      <td>9</td>\n      <td>NaN</td>\n      <td>NaN</td>\n    </tr>\n    <tr>\n      <th>3</th>\n      <td>1469974574</td>\n      <td>cheryl</td>\n      <td>intro.html</td>\n      <td>10</td>\n      <td>NaN</td>\n      <td>NaN</td>\n    </tr>\n    <tr>\n      <th>4</th>\n      <td>1469977514</td>\n      <td>bob</td>\n      <td>intro.html</td>\n      <td>1</td>\n      <td>NaN</td>\n      <td>NaN</td>\n    </tr>\n    <tr>\n      <th>5</th>\n      <td>1469977544</td>\n      <td>bob</td>\n      <td>intro.html</td>\n      <td>1</td>\n      <td>NaN</td>\n      <td>NaN</td>\n    </tr>\n    <tr>\n      <th>6</th>\n      <td>1469977574</td>\n      <td>bob</td>\n      <td>intro.html</td>\n      <td>1</td>\n      <td>NaN</td>\n      <td>NaN</td>\n    </tr>\n    <tr>\n      <th>7</th>\n      <td>1469977604</td>\n      <td>bob</td>\n      <td>intro.html</td>\n      <td>1</td>\n      <td>NaN</td>\n      <td>NaN</td>\n    </tr>\n    <tr>\n      <th>8</th>\n      <td>1469974604</td>\n      <td>cheryl</td>\n      <td>intro.html</td>\n      <td>11</td>\n      <td>NaN</td>\n      <td>NaN</td>\n    </tr>\n    <tr>\n      <th>9</th>\n      <td>1469974694</td>\n      <td>cheryl</td>\n      <td>intro.html</td>\n      <td>14</td>\n      <td>NaN</td>\n      <td>NaN</td>\n    </tr>\n    <tr>\n      <th>10</th>\n      <td>1469974724</td>\n      <td>cheryl</td>\n      <td>intro.html</td>\n      <td>15</td>\n      <td>NaN</td>\n      <td>NaN</td>\n    </tr>\n    <tr>\n      <th>11</th>\n      <td>1469974454</td>\n      <td>sue</td>\n      <td>advanced.html</td>\n      <td>24</td>\n      <td>NaN</td>\n      <td>NaN</td>\n    </tr>\n    <tr>\n      <th>12</th>\n      <td>1469974524</td>\n      <td>sue</td>\n      <td>advanced.html</td>\n      <td>25</td>\n      <td>NaN</td>\n      <td>NaN</td>\n    </tr>\n    <tr>\n      <th>13</th>\n      <td>1469974424</td>\n      <td>sue</td>\n      <td>advanced.html</td>\n      <td>23</td>\n      <td>False</td>\n      <td>10.0</td>\n    </tr>\n    <tr>\n      <th>14</th>\n      <td>1469974554</td>\n      <td>sue</td>\n      <td>advanced.html</td>\n      <td>26</td>\n      <td>NaN</td>\n      <td>NaN</td>\n    </tr>\n    <tr>\n      <th>15</th>\n      <td>1469974624</td>\n      <td>sue</td>\n      <td>advanced.html</td>\n      <td>27</td>\n      <td>NaN</td>\n      <td>NaN</td>\n    </tr>\n    <tr>\n      <th>16</th>\n      <td>1469974654</td>\n      <td>sue</td>\n      <td>advanced.html</td>\n      <td>28</td>\n      <td>NaN</td>\n      <td>5.0</td>\n    </tr>\n    <tr>\n      <th>17</th>\n      <td>1469974724</td>\n      <td>sue</td>\n      <td>advanced.html</td>\n      <td>29</td>\n      <td>NaN</td>\n      <td>NaN</td>\n    </tr>\n    <tr>\n      <th>18</th>\n      <td>1469974484</td>\n      <td>cheryl</td>\n      <td>intro.html</td>\n      <td>7</td>\n      <td>NaN</td>\n      <td>NaN</td>\n    </tr>\n    <tr>\n      <th>19</th>\n      <td>1469974514</td>\n      <td>cheryl</td>\n      <td>intro.html</td>\n      <td>8</td>\n      <td>NaN</td>\n      <td>NaN</td>\n    </tr>\n  </tbody>\n</table>\n</div>"
     },
     "execution_count": 35,
     "metadata": {},
     "output_type": "execute_result"
    }
   ],
   "source": [
    "df = pd.read_csv('log.csv')\n",
    "df.head(20)"
   ],
   "metadata": {
    "collapsed": false,
    "ExecuteTime": {
     "end_time": "2023-08-22T00:47:08.548130Z",
     "start_time": "2023-08-22T00:47:08.513900300Z"
    }
   },
   "id": "9e791859fd8f7cb"
  },
  {
   "cell_type": "code",
   "execution_count": 40,
   "outputs": [
    {
     "data": {
      "text/plain": "          time    user    video  playback position paused  volume\n0   1469974424  cheryl  webpage                  5  False    10.0\n1   1469974454  cheryl  webpage                  6    NaN     NaN\n2   1469974544  cheryl  webpage                  9    NaN     NaN\n3   1469974574  cheryl  webpage                 10    NaN     NaN\n4   1469977514     bob  webpage                  1    NaN     NaN\n5   1469977544     bob  webpage                  1    NaN     NaN\n6   1469977574     bob  webpage                  1    NaN     NaN\n7   1469977604     bob  webpage                  1    NaN     NaN\n8   1469974604  cheryl  webpage                 11    NaN     NaN\n9   1469974694  cheryl  webpage                 14    NaN     NaN\n10  1469974724  cheryl  webpage                 15    NaN     NaN\n11  1469974454     sue  webpage                 24    NaN     NaN\n12  1469974524     sue  webpage                 25    NaN     NaN\n13  1469974424     sue  webpage                 23  False    10.0\n14  1469974554     sue  webpage                 26    NaN     NaN\n15  1469974624     sue  webpage                 27    NaN     NaN\n16  1469974654     sue  webpage                 28    NaN     5.0\n17  1469974724     sue  webpage                 29    NaN     NaN\n18  1469974484  cheryl  webpage                  7    NaN     NaN\n19  1469974514  cheryl  webpage                  8    NaN     NaN\n20  1469974754     sue  webpage                 30    NaN     NaN\n21  1469974824     sue  webpage                 31    NaN     NaN\n22  1469974854     sue  webpage                 32    NaN     NaN\n23  1469974924     sue  webpage                 33    NaN     NaN\n24  1469977424     bob  webpage                  1   True    10.0\n25  1469977454     bob  webpage                  1    NaN     NaN\n26  1469977484     bob  webpage                  1    NaN     NaN\n27  1469977634     bob  webpage                  1    NaN     NaN\n28  1469977664     bob  webpage                  1    NaN     NaN\n29  1469974634  cheryl  webpage                 12    NaN     NaN\n30  1469974664  cheryl  webpage                 13    NaN     NaN\n31  1469977694     bob  webpage                  1    NaN     NaN\n32  1469977724     bob  webpage                  1    NaN     NaN",
      "text/html": "<div>\n<style scoped>\n    .dataframe tbody tr th:only-of-type {\n        vertical-align: middle;\n    }\n\n    .dataframe tbody tr th {\n        vertical-align: top;\n    }\n\n    .dataframe thead th {\n        text-align: right;\n    }\n</style>\n<table border=\"1\" class=\"dataframe\">\n  <thead>\n    <tr style=\"text-align: right;\">\n      <th></th>\n      <th>time</th>\n      <th>user</th>\n      <th>video</th>\n      <th>playback position</th>\n      <th>paused</th>\n      <th>volume</th>\n    </tr>\n  </thead>\n  <tbody>\n    <tr>\n      <th>0</th>\n      <td>1469974424</td>\n      <td>cheryl</td>\n      <td>webpage</td>\n      <td>5</td>\n      <td>False</td>\n      <td>10.0</td>\n    </tr>\n    <tr>\n      <th>1</th>\n      <td>1469974454</td>\n      <td>cheryl</td>\n      <td>webpage</td>\n      <td>6</td>\n      <td>NaN</td>\n      <td>NaN</td>\n    </tr>\n    <tr>\n      <th>2</th>\n      <td>1469974544</td>\n      <td>cheryl</td>\n      <td>webpage</td>\n      <td>9</td>\n      <td>NaN</td>\n      <td>NaN</td>\n    </tr>\n    <tr>\n      <th>3</th>\n      <td>1469974574</td>\n      <td>cheryl</td>\n      <td>webpage</td>\n      <td>10</td>\n      <td>NaN</td>\n      <td>NaN</td>\n    </tr>\n    <tr>\n      <th>4</th>\n      <td>1469977514</td>\n      <td>bob</td>\n      <td>webpage</td>\n      <td>1</td>\n      <td>NaN</td>\n      <td>NaN</td>\n    </tr>\n    <tr>\n      <th>5</th>\n      <td>1469977544</td>\n      <td>bob</td>\n      <td>webpage</td>\n      <td>1</td>\n      <td>NaN</td>\n      <td>NaN</td>\n    </tr>\n    <tr>\n      <th>6</th>\n      <td>1469977574</td>\n      <td>bob</td>\n      <td>webpage</td>\n      <td>1</td>\n      <td>NaN</td>\n      <td>NaN</td>\n    </tr>\n    <tr>\n      <th>7</th>\n      <td>1469977604</td>\n      <td>bob</td>\n      <td>webpage</td>\n      <td>1</td>\n      <td>NaN</td>\n      <td>NaN</td>\n    </tr>\n    <tr>\n      <th>8</th>\n      <td>1469974604</td>\n      <td>cheryl</td>\n      <td>webpage</td>\n      <td>11</td>\n      <td>NaN</td>\n      <td>NaN</td>\n    </tr>\n    <tr>\n      <th>9</th>\n      <td>1469974694</td>\n      <td>cheryl</td>\n      <td>webpage</td>\n      <td>14</td>\n      <td>NaN</td>\n      <td>NaN</td>\n    </tr>\n    <tr>\n      <th>10</th>\n      <td>1469974724</td>\n      <td>cheryl</td>\n      <td>webpage</td>\n      <td>15</td>\n      <td>NaN</td>\n      <td>NaN</td>\n    </tr>\n    <tr>\n      <th>11</th>\n      <td>1469974454</td>\n      <td>sue</td>\n      <td>webpage</td>\n      <td>24</td>\n      <td>NaN</td>\n      <td>NaN</td>\n    </tr>\n    <tr>\n      <th>12</th>\n      <td>1469974524</td>\n      <td>sue</td>\n      <td>webpage</td>\n      <td>25</td>\n      <td>NaN</td>\n      <td>NaN</td>\n    </tr>\n    <tr>\n      <th>13</th>\n      <td>1469974424</td>\n      <td>sue</td>\n      <td>webpage</td>\n      <td>23</td>\n      <td>False</td>\n      <td>10.0</td>\n    </tr>\n    <tr>\n      <th>14</th>\n      <td>1469974554</td>\n      <td>sue</td>\n      <td>webpage</td>\n      <td>26</td>\n      <td>NaN</td>\n      <td>NaN</td>\n    </tr>\n    <tr>\n      <th>15</th>\n      <td>1469974624</td>\n      <td>sue</td>\n      <td>webpage</td>\n      <td>27</td>\n      <td>NaN</td>\n      <td>NaN</td>\n    </tr>\n    <tr>\n      <th>16</th>\n      <td>1469974654</td>\n      <td>sue</td>\n      <td>webpage</td>\n      <td>28</td>\n      <td>NaN</td>\n      <td>5.0</td>\n    </tr>\n    <tr>\n      <th>17</th>\n      <td>1469974724</td>\n      <td>sue</td>\n      <td>webpage</td>\n      <td>29</td>\n      <td>NaN</td>\n      <td>NaN</td>\n    </tr>\n    <tr>\n      <th>18</th>\n      <td>1469974484</td>\n      <td>cheryl</td>\n      <td>webpage</td>\n      <td>7</td>\n      <td>NaN</td>\n      <td>NaN</td>\n    </tr>\n    <tr>\n      <th>19</th>\n      <td>1469974514</td>\n      <td>cheryl</td>\n      <td>webpage</td>\n      <td>8</td>\n      <td>NaN</td>\n      <td>NaN</td>\n    </tr>\n    <tr>\n      <th>20</th>\n      <td>1469974754</td>\n      <td>sue</td>\n      <td>webpage</td>\n      <td>30</td>\n      <td>NaN</td>\n      <td>NaN</td>\n    </tr>\n    <tr>\n      <th>21</th>\n      <td>1469974824</td>\n      <td>sue</td>\n      <td>webpage</td>\n      <td>31</td>\n      <td>NaN</td>\n      <td>NaN</td>\n    </tr>\n    <tr>\n      <th>22</th>\n      <td>1469974854</td>\n      <td>sue</td>\n      <td>webpage</td>\n      <td>32</td>\n      <td>NaN</td>\n      <td>NaN</td>\n    </tr>\n    <tr>\n      <th>23</th>\n      <td>1469974924</td>\n      <td>sue</td>\n      <td>webpage</td>\n      <td>33</td>\n      <td>NaN</td>\n      <td>NaN</td>\n    </tr>\n    <tr>\n      <th>24</th>\n      <td>1469977424</td>\n      <td>bob</td>\n      <td>webpage</td>\n      <td>1</td>\n      <td>True</td>\n      <td>10.0</td>\n    </tr>\n    <tr>\n      <th>25</th>\n      <td>1469977454</td>\n      <td>bob</td>\n      <td>webpage</td>\n      <td>1</td>\n      <td>NaN</td>\n      <td>NaN</td>\n    </tr>\n    <tr>\n      <th>26</th>\n      <td>1469977484</td>\n      <td>bob</td>\n      <td>webpage</td>\n      <td>1</td>\n      <td>NaN</td>\n      <td>NaN</td>\n    </tr>\n    <tr>\n      <th>27</th>\n      <td>1469977634</td>\n      <td>bob</td>\n      <td>webpage</td>\n      <td>1</td>\n      <td>NaN</td>\n      <td>NaN</td>\n    </tr>\n    <tr>\n      <th>28</th>\n      <td>1469977664</td>\n      <td>bob</td>\n      <td>webpage</td>\n      <td>1</td>\n      <td>NaN</td>\n      <td>NaN</td>\n    </tr>\n    <tr>\n      <th>29</th>\n      <td>1469974634</td>\n      <td>cheryl</td>\n      <td>webpage</td>\n      <td>12</td>\n      <td>NaN</td>\n      <td>NaN</td>\n    </tr>\n    <tr>\n      <th>30</th>\n      <td>1469974664</td>\n      <td>cheryl</td>\n      <td>webpage</td>\n      <td>13</td>\n      <td>NaN</td>\n      <td>NaN</td>\n    </tr>\n    <tr>\n      <th>31</th>\n      <td>1469977694</td>\n      <td>bob</td>\n      <td>webpage</td>\n      <td>1</td>\n      <td>NaN</td>\n      <td>NaN</td>\n    </tr>\n    <tr>\n      <th>32</th>\n      <td>1469977724</td>\n      <td>bob</td>\n      <td>webpage</td>\n      <td>1</td>\n      <td>NaN</td>\n      <td>NaN</td>\n    </tr>\n  </tbody>\n</table>\n</div>"
     },
     "execution_count": 40,
     "metadata": {},
     "output_type": "execute_result"
    }
   ],
   "source": [
    "df.replace(to_replace='.*.html$', value=\"webpage\", regex=True) "
   ],
   "metadata": {
    "collapsed": false,
    "ExecuteTime": {
     "end_time": "2023-08-22T00:51:04.801507100Z",
     "start_time": "2023-08-22T00:51:04.775534100Z"
    }
   },
   "id": "52afea03a17f5f79"
  },
  {
   "cell_type": "code",
   "execution_count": null,
   "outputs": [],
   "source": [],
   "metadata": {
    "collapsed": false
   },
   "id": "e9f122f330e91d76"
  }
 ],
 "metadata": {
  "kernelspec": {
   "display_name": "Python 3",
   "language": "python",
   "name": "python3"
  },
  "language_info": {
   "codemirror_mode": {
    "name": "ipython",
    "version": 2
   },
   "file_extension": ".py",
   "mimetype": "text/x-python",
   "name": "python",
   "nbconvert_exporter": "python",
   "pygments_lexer": "ipython2",
   "version": "2.7.6"
  }
 },
 "nbformat": 4,
 "nbformat_minor": 5
}

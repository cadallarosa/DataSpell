{
 "cells": [
  {
   "cell_type": "code",
   "execution_count": 2,
   "id": "initial_id",
   "metadata": {
    "collapsed": true,
    "ExecuteTime": {
     "end_time": "2023-08-21T23:04:47.691663800Z",
     "start_time": "2023-08-21T23:04:47.638370700Z"
    }
   },
   "outputs": [
    {
     "data": {
      "text/plain": "            gre score  toefl score  university rating  sop  lor  cgpa  \\\nSerial No.                                                              \n1                 337          118                  4  4.5  4.5  9.65   \n2                 324          107                  4  4.0  4.5  8.87   \n3                 316          104                  3  3.0  3.5  8.00   \n4                 322          110                  3  3.5  2.5  8.67   \n5                 314          103                  2  2.0  3.0  8.21   \n\n            research  chance of admit  \nSerial No.                             \n1                  1             0.92  \n2                  1             0.76  \n3                  1             0.72  \n4                  1             0.80  \n5                  0             0.65  ",
      "text/html": "<div>\n<style scoped>\n    .dataframe tbody tr th:only-of-type {\n        vertical-align: middle;\n    }\n\n    .dataframe tbody tr th {\n        vertical-align: top;\n    }\n\n    .dataframe thead th {\n        text-align: right;\n    }\n</style>\n<table border=\"1\" class=\"dataframe\">\n  <thead>\n    <tr style=\"text-align: right;\">\n      <th></th>\n      <th>gre score</th>\n      <th>toefl score</th>\n      <th>university rating</th>\n      <th>sop</th>\n      <th>lor</th>\n      <th>cgpa</th>\n      <th>research</th>\n      <th>chance of admit</th>\n    </tr>\n    <tr>\n      <th>Serial No.</th>\n      <th></th>\n      <th></th>\n      <th></th>\n      <th></th>\n      <th></th>\n      <th></th>\n      <th></th>\n      <th></th>\n    </tr>\n  </thead>\n  <tbody>\n    <tr>\n      <th>1</th>\n      <td>337</td>\n      <td>118</td>\n      <td>4</td>\n      <td>4.5</td>\n      <td>4.5</td>\n      <td>9.65</td>\n      <td>1</td>\n      <td>0.92</td>\n    </tr>\n    <tr>\n      <th>2</th>\n      <td>324</td>\n      <td>107</td>\n      <td>4</td>\n      <td>4.0</td>\n      <td>4.5</td>\n      <td>8.87</td>\n      <td>1</td>\n      <td>0.76</td>\n    </tr>\n    <tr>\n      <th>3</th>\n      <td>316</td>\n      <td>104</td>\n      <td>3</td>\n      <td>3.0</td>\n      <td>3.5</td>\n      <td>8.00</td>\n      <td>1</td>\n      <td>0.72</td>\n    </tr>\n    <tr>\n      <th>4</th>\n      <td>322</td>\n      <td>110</td>\n      <td>3</td>\n      <td>3.5</td>\n      <td>2.5</td>\n      <td>8.67</td>\n      <td>1</td>\n      <td>0.80</td>\n    </tr>\n    <tr>\n      <th>5</th>\n      <td>314</td>\n      <td>103</td>\n      <td>2</td>\n      <td>2.0</td>\n      <td>3.0</td>\n      <td>8.21</td>\n      <td>0</td>\n      <td>0.65</td>\n    </tr>\n  </tbody>\n</table>\n</div>"
     },
     "execution_count": 2,
     "metadata": {},
     "output_type": "execute_result"
    }
   ],
   "source": [
    "import pandas as pd\n",
    "\n",
    "df = pd.read_csv('Admission_Predict.csv', index_col=0)\n",
    "\n",
    "df.columns = [x.lower().strip() for x in df.columns]\n",
    "\n",
    "df.head()"
   ]
  },
  {
   "cell_type": "code",
   "execution_count": 4,
   "outputs": [
    {
     "data": {
      "text/plain": "Serial No.\n1       True\n2       True\n3       True\n4       True\n5      False\n       ...  \n396     True\n397     True\n398     True\n399    False\n400     True\nName: chance of admit, Length: 400, dtype: bool"
     },
     "execution_count": 4,
     "metadata": {},
     "output_type": "execute_result"
    }
   ],
   "source": [
    "admit_mask = df['chance of admit'] > 0.7\n",
    "\n",
    "admit_mask"
   ],
   "metadata": {
    "collapsed": false,
    "ExecuteTime": {
     "end_time": "2023-08-21T23:05:42.405827700Z",
     "start_time": "2023-08-21T23:05:42.366621100Z"
    }
   },
   "id": "686fbb499f498427"
  },
  {
   "cell_type": "code",
   "execution_count": 5,
   "outputs": [
    {
     "data": {
      "text/plain": "            gre score  toefl score  university rating  sop  lor  cgpa  \\\nSerial No.                                                              \n1               337.0        118.0                4.0  4.5  4.5  9.65   \n2               324.0        107.0                4.0  4.0  4.5  8.87   \n3               316.0        104.0                3.0  3.0  3.5  8.00   \n4               322.0        110.0                3.0  3.5  2.5  8.67   \n5                 NaN          NaN                NaN  NaN  NaN   NaN   \n\n            research  chance of admit  \nSerial No.                             \n1                1.0             0.92  \n2                1.0             0.76  \n3                1.0             0.72  \n4                1.0             0.80  \n5                NaN              NaN  ",
      "text/html": "<div>\n<style scoped>\n    .dataframe tbody tr th:only-of-type {\n        vertical-align: middle;\n    }\n\n    .dataframe tbody tr th {\n        vertical-align: top;\n    }\n\n    .dataframe thead th {\n        text-align: right;\n    }\n</style>\n<table border=\"1\" class=\"dataframe\">\n  <thead>\n    <tr style=\"text-align: right;\">\n      <th></th>\n      <th>gre score</th>\n      <th>toefl score</th>\n      <th>university rating</th>\n      <th>sop</th>\n      <th>lor</th>\n      <th>cgpa</th>\n      <th>research</th>\n      <th>chance of admit</th>\n    </tr>\n    <tr>\n      <th>Serial No.</th>\n      <th></th>\n      <th></th>\n      <th></th>\n      <th></th>\n      <th></th>\n      <th></th>\n      <th></th>\n      <th></th>\n    </tr>\n  </thead>\n  <tbody>\n    <tr>\n      <th>1</th>\n      <td>337.0</td>\n      <td>118.0</td>\n      <td>4.0</td>\n      <td>4.5</td>\n      <td>4.5</td>\n      <td>9.65</td>\n      <td>1.0</td>\n      <td>0.92</td>\n    </tr>\n    <tr>\n      <th>2</th>\n      <td>324.0</td>\n      <td>107.0</td>\n      <td>4.0</td>\n      <td>4.0</td>\n      <td>4.5</td>\n      <td>8.87</td>\n      <td>1.0</td>\n      <td>0.76</td>\n    </tr>\n    <tr>\n      <th>3</th>\n      <td>316.0</td>\n      <td>104.0</td>\n      <td>3.0</td>\n      <td>3.0</td>\n      <td>3.5</td>\n      <td>8.00</td>\n      <td>1.0</td>\n      <td>0.72</td>\n    </tr>\n    <tr>\n      <th>4</th>\n      <td>322.0</td>\n      <td>110.0</td>\n      <td>3.0</td>\n      <td>3.5</td>\n      <td>2.5</td>\n      <td>8.67</td>\n      <td>1.0</td>\n      <td>0.80</td>\n    </tr>\n    <tr>\n      <th>5</th>\n      <td>NaN</td>\n      <td>NaN</td>\n      <td>NaN</td>\n      <td>NaN</td>\n      <td>NaN</td>\n      <td>NaN</td>\n      <td>NaN</td>\n      <td>NaN</td>\n    </tr>\n  </tbody>\n</table>\n</div>"
     },
     "execution_count": 5,
     "metadata": {},
     "output_type": "execute_result"
    }
   ],
   "source": [
    "df.where(admit_mask).head()"
   ],
   "metadata": {
    "collapsed": false,
    "ExecuteTime": {
     "end_time": "2023-08-21T23:06:55.845627200Z",
     "start_time": "2023-08-21T23:06:55.762709500Z"
    }
   },
   "id": "e940257a2889b496"
  },
  {
   "cell_type": "code",
   "execution_count": 6,
   "outputs": [
    {
     "data": {
      "text/plain": "            gre score  toefl score  university rating  sop  lor  cgpa  \\\nSerial No.                                                              \n1               337.0        118.0                4.0  4.5  4.5  9.65   \n2               324.0        107.0                4.0  4.0  4.5  8.87   \n3               316.0        104.0                3.0  3.0  3.5  8.00   \n4               322.0        110.0                3.0  3.5  2.5  8.67   \n6               330.0        115.0                5.0  4.5  3.0  9.34   \n\n            research  chance of admit  \nSerial No.                             \n1                1.0             0.92  \n2                1.0             0.76  \n3                1.0             0.72  \n4                1.0             0.80  \n6                1.0             0.90  ",
      "text/html": "<div>\n<style scoped>\n    .dataframe tbody tr th:only-of-type {\n        vertical-align: middle;\n    }\n\n    .dataframe tbody tr th {\n        vertical-align: top;\n    }\n\n    .dataframe thead th {\n        text-align: right;\n    }\n</style>\n<table border=\"1\" class=\"dataframe\">\n  <thead>\n    <tr style=\"text-align: right;\">\n      <th></th>\n      <th>gre score</th>\n      <th>toefl score</th>\n      <th>university rating</th>\n      <th>sop</th>\n      <th>lor</th>\n      <th>cgpa</th>\n      <th>research</th>\n      <th>chance of admit</th>\n    </tr>\n    <tr>\n      <th>Serial No.</th>\n      <th></th>\n      <th></th>\n      <th></th>\n      <th></th>\n      <th></th>\n      <th></th>\n      <th></th>\n      <th></th>\n    </tr>\n  </thead>\n  <tbody>\n    <tr>\n      <th>1</th>\n      <td>337.0</td>\n      <td>118.0</td>\n      <td>4.0</td>\n      <td>4.5</td>\n      <td>4.5</td>\n      <td>9.65</td>\n      <td>1.0</td>\n      <td>0.92</td>\n    </tr>\n    <tr>\n      <th>2</th>\n      <td>324.0</td>\n      <td>107.0</td>\n      <td>4.0</td>\n      <td>4.0</td>\n      <td>4.5</td>\n      <td>8.87</td>\n      <td>1.0</td>\n      <td>0.76</td>\n    </tr>\n    <tr>\n      <th>3</th>\n      <td>316.0</td>\n      <td>104.0</td>\n      <td>3.0</td>\n      <td>3.0</td>\n      <td>3.5</td>\n      <td>8.00</td>\n      <td>1.0</td>\n      <td>0.72</td>\n    </tr>\n    <tr>\n      <th>4</th>\n      <td>322.0</td>\n      <td>110.0</td>\n      <td>3.0</td>\n      <td>3.5</td>\n      <td>2.5</td>\n      <td>8.67</td>\n      <td>1.0</td>\n      <td>0.80</td>\n    </tr>\n    <tr>\n      <th>6</th>\n      <td>330.0</td>\n      <td>115.0</td>\n      <td>5.0</td>\n      <td>4.5</td>\n      <td>3.0</td>\n      <td>9.34</td>\n      <td>1.0</td>\n      <td>0.90</td>\n    </tr>\n  </tbody>\n</table>\n</div>"
     },
     "execution_count": 6,
     "metadata": {},
     "output_type": "execute_result"
    }
   ],
   "source": [
    "df.where(admit_mask).dropna().head()"
   ],
   "metadata": {
    "collapsed": false,
    "ExecuteTime": {
     "end_time": "2023-08-21T23:07:39.821793600Z",
     "start_time": "2023-08-21T23:07:39.764990900Z"
    }
   },
   "id": "4801c4b96607cd18"
  },
  {
   "cell_type": "code",
   "execution_count": 7,
   "outputs": [
    {
     "data": {
      "text/plain": "            gre score  toefl score  university rating  sop  lor  cgpa  \\\nSerial No.                                                              \n1                 337          118                  4  4.5  4.5  9.65   \n2                 324          107                  4  4.0  4.5  8.87   \n3                 316          104                  3  3.0  3.5  8.00   \n4                 322          110                  3  3.5  2.5  8.67   \n6                 330          115                  5  4.5  3.0  9.34   \n\n            research  chance of admit  \nSerial No.                             \n1                  1             0.92  \n2                  1             0.76  \n3                  1             0.72  \n4                  1             0.80  \n6                  1             0.90  ",
      "text/html": "<div>\n<style scoped>\n    .dataframe tbody tr th:only-of-type {\n        vertical-align: middle;\n    }\n\n    .dataframe tbody tr th {\n        vertical-align: top;\n    }\n\n    .dataframe thead th {\n        text-align: right;\n    }\n</style>\n<table border=\"1\" class=\"dataframe\">\n  <thead>\n    <tr style=\"text-align: right;\">\n      <th></th>\n      <th>gre score</th>\n      <th>toefl score</th>\n      <th>university rating</th>\n      <th>sop</th>\n      <th>lor</th>\n      <th>cgpa</th>\n      <th>research</th>\n      <th>chance of admit</th>\n    </tr>\n    <tr>\n      <th>Serial No.</th>\n      <th></th>\n      <th></th>\n      <th></th>\n      <th></th>\n      <th></th>\n      <th></th>\n      <th></th>\n      <th></th>\n    </tr>\n  </thead>\n  <tbody>\n    <tr>\n      <th>1</th>\n      <td>337</td>\n      <td>118</td>\n      <td>4</td>\n      <td>4.5</td>\n      <td>4.5</td>\n      <td>9.65</td>\n      <td>1</td>\n      <td>0.92</td>\n    </tr>\n    <tr>\n      <th>2</th>\n      <td>324</td>\n      <td>107</td>\n      <td>4</td>\n      <td>4.0</td>\n      <td>4.5</td>\n      <td>8.87</td>\n      <td>1</td>\n      <td>0.76</td>\n    </tr>\n    <tr>\n      <th>3</th>\n      <td>316</td>\n      <td>104</td>\n      <td>3</td>\n      <td>3.0</td>\n      <td>3.5</td>\n      <td>8.00</td>\n      <td>1</td>\n      <td>0.72</td>\n    </tr>\n    <tr>\n      <th>4</th>\n      <td>322</td>\n      <td>110</td>\n      <td>3</td>\n      <td>3.5</td>\n      <td>2.5</td>\n      <td>8.67</td>\n      <td>1</td>\n      <td>0.80</td>\n    </tr>\n    <tr>\n      <th>6</th>\n      <td>330</td>\n      <td>115</td>\n      <td>5</td>\n      <td>4.5</td>\n      <td>3.0</td>\n      <td>9.34</td>\n      <td>1</td>\n      <td>0.90</td>\n    </tr>\n  </tbody>\n</table>\n</div>"
     },
     "execution_count": 7,
     "metadata": {},
     "output_type": "execute_result"
    }
   ],
   "source": [
    "df[df['chance of admit'] > 0.7].head()"
   ],
   "metadata": {
    "collapsed": false,
    "ExecuteTime": {
     "end_time": "2023-08-21T23:08:19.896260100Z",
     "start_time": "2023-08-21T23:08:19.844603Z"
    }
   },
   "id": "b4e0a9028620a5e2"
  },
  {
   "cell_type": "code",
   "execution_count": 8,
   "outputs": [
    {
     "data": {
      "text/plain": "Serial No.\n1    337\n2    324\n3    316\n4    322\n5    314\nName: gre score, dtype: int64"
     },
     "execution_count": 8,
     "metadata": {},
     "output_type": "execute_result"
    }
   ],
   "source": [
    "df['gre score'].head()"
   ],
   "metadata": {
    "collapsed": false,
    "ExecuteTime": {
     "end_time": "2023-08-21T23:08:56.020279300Z",
     "start_time": "2023-08-21T23:08:56.013355100Z"
    }
   },
   "id": "b0ab17b90c932829"
  },
  {
   "cell_type": "code",
   "execution_count": 9,
   "outputs": [
    {
     "data": {
      "text/plain": "            gre score  toefl score\nSerial No.                        \n1                 337          118\n2                 324          107\n3                 316          104\n4                 322          110\n5                 314          103",
      "text/html": "<div>\n<style scoped>\n    .dataframe tbody tr th:only-of-type {\n        vertical-align: middle;\n    }\n\n    .dataframe tbody tr th {\n        vertical-align: top;\n    }\n\n    .dataframe thead th {\n        text-align: right;\n    }\n</style>\n<table border=\"1\" class=\"dataframe\">\n  <thead>\n    <tr style=\"text-align: right;\">\n      <th></th>\n      <th>gre score</th>\n      <th>toefl score</th>\n    </tr>\n    <tr>\n      <th>Serial No.</th>\n      <th></th>\n      <th></th>\n    </tr>\n  </thead>\n  <tbody>\n    <tr>\n      <th>1</th>\n      <td>337</td>\n      <td>118</td>\n    </tr>\n    <tr>\n      <th>2</th>\n      <td>324</td>\n      <td>107</td>\n    </tr>\n    <tr>\n      <th>3</th>\n      <td>316</td>\n      <td>104</td>\n    </tr>\n    <tr>\n      <th>4</th>\n      <td>322</td>\n      <td>110</td>\n    </tr>\n    <tr>\n      <th>5</th>\n      <td>314</td>\n      <td>103</td>\n    </tr>\n  </tbody>\n</table>\n</div>"
     },
     "execution_count": 9,
     "metadata": {},
     "output_type": "execute_result"
    }
   ],
   "source": [
    "df[['gre score','toefl score']].head()"
   ],
   "metadata": {
    "collapsed": false,
    "ExecuteTime": {
     "end_time": "2023-08-21T23:09:25.056460200Z",
     "start_time": "2023-08-21T23:09:25.002922600Z"
    }
   },
   "id": "52c6478a8b8c1bdc"
  },
  {
   "cell_type": "code",
   "execution_count": 10,
   "outputs": [
    {
     "data": {
      "text/plain": "            gre score  toefl score  university rating  sop  lor  cgpa  \\\nSerial No.                                                              \n1                 337          118                  4  4.5  4.5  9.65   \n2                 324          107                  4  4.0  4.5  8.87   \n4                 322          110                  3  3.5  2.5  8.67   \n6                 330          115                  5  4.5  3.0  9.34   \n7                 321          109                  3  3.0  4.0  8.20   \n\n            research  chance of admit  \nSerial No.                             \n1                  1             0.92  \n2                  1             0.76  \n4                  1             0.80  \n6                  1             0.90  \n7                  1             0.75  ",
      "text/html": "<div>\n<style scoped>\n    .dataframe tbody tr th:only-of-type {\n        vertical-align: middle;\n    }\n\n    .dataframe tbody tr th {\n        vertical-align: top;\n    }\n\n    .dataframe thead th {\n        text-align: right;\n    }\n</style>\n<table border=\"1\" class=\"dataframe\">\n  <thead>\n    <tr style=\"text-align: right;\">\n      <th></th>\n      <th>gre score</th>\n      <th>toefl score</th>\n      <th>university rating</th>\n      <th>sop</th>\n      <th>lor</th>\n      <th>cgpa</th>\n      <th>research</th>\n      <th>chance of admit</th>\n    </tr>\n    <tr>\n      <th>Serial No.</th>\n      <th></th>\n      <th></th>\n      <th></th>\n      <th></th>\n      <th></th>\n      <th></th>\n      <th></th>\n      <th></th>\n    </tr>\n  </thead>\n  <tbody>\n    <tr>\n      <th>1</th>\n      <td>337</td>\n      <td>118</td>\n      <td>4</td>\n      <td>4.5</td>\n      <td>4.5</td>\n      <td>9.65</td>\n      <td>1</td>\n      <td>0.92</td>\n    </tr>\n    <tr>\n      <th>2</th>\n      <td>324</td>\n      <td>107</td>\n      <td>4</td>\n      <td>4.0</td>\n      <td>4.5</td>\n      <td>8.87</td>\n      <td>1</td>\n      <td>0.76</td>\n    </tr>\n    <tr>\n      <th>4</th>\n      <td>322</td>\n      <td>110</td>\n      <td>3</td>\n      <td>3.5</td>\n      <td>2.5</td>\n      <td>8.67</td>\n      <td>1</td>\n      <td>0.80</td>\n    </tr>\n    <tr>\n      <th>6</th>\n      <td>330</td>\n      <td>115</td>\n      <td>5</td>\n      <td>4.5</td>\n      <td>3.0</td>\n      <td>9.34</td>\n      <td>1</td>\n      <td>0.90</td>\n    </tr>\n    <tr>\n      <th>7</th>\n      <td>321</td>\n      <td>109</td>\n      <td>3</td>\n      <td>3.0</td>\n      <td>4.0</td>\n      <td>8.20</td>\n      <td>1</td>\n      <td>0.75</td>\n    </tr>\n  </tbody>\n</table>\n</div>"
     },
     "execution_count": 10,
     "metadata": {},
     "output_type": "execute_result"
    }
   ],
   "source": [
    "df[df['gre score'] > 320].head()"
   ],
   "metadata": {
    "collapsed": false,
    "ExecuteTime": {
     "end_time": "2023-08-21T23:10:19.317885300Z",
     "start_time": "2023-08-21T23:10:19.275784600Z"
    }
   },
   "id": "59223c9abf9261cc"
  },
  {
   "cell_type": "code",
   "execution_count": 11,
   "outputs": [],
   "source": [
    "# Combing multiple boolean masks"
   ],
   "metadata": {
    "collapsed": false,
    "ExecuteTime": {
     "end_time": "2023-08-21T23:10:53.192755400Z",
     "start_time": "2023-08-21T23:10:53.141991800Z"
    }
   },
   "id": "785842ac9a2244df"
  },
  {
   "cell_type": "code",
   "execution_count": 12,
   "outputs": [
    {
     "data": {
      "text/plain": "Serial No.\n1      False\n2       True\n3       True\n4       True\n5      False\n       ...  \n396     True\n397     True\n398    False\n399    False\n400    False\nName: chance of admit, Length: 400, dtype: bool"
     },
     "execution_count": 12,
     "metadata": {},
     "output_type": "execute_result"
    }
   ],
   "source": [
    "(df['chance of admit']>0.7) & (df['chance of admit']<0.9)"
   ],
   "metadata": {
    "collapsed": false,
    "ExecuteTime": {
     "end_time": "2023-08-21T23:12:15.976972500Z",
     "start_time": "2023-08-21T23:12:15.903848800Z"
    }
   },
   "id": "28dfa81ce2e60ec5"
  },
  {
   "cell_type": "code",
   "execution_count": 14,
   "outputs": [
    {
     "data": {
      "text/plain": "Serial No.\n1      False\n2       True\n3       True\n4       True\n5      False\n       ...  \n396     True\n397     True\n398    False\n399    False\n400    False\nName: chance of admit, Length: 400, dtype: bool"
     },
     "execution_count": 14,
     "metadata": {},
     "output_type": "execute_result"
    }
   ],
   "source": [
    "df['chance of admit'].gt(0.7) & df['chance of admit'].lt(0.9)"
   ],
   "metadata": {
    "collapsed": false,
    "ExecuteTime": {
     "end_time": "2023-08-21T23:14:46.176115500Z",
     "start_time": "2023-08-21T23:14:46.140848800Z"
    }
   },
   "id": "b0d2ea130ca708a2"
  },
  {
   "cell_type": "code",
   "execution_count": 15,
   "outputs": [
    {
     "data": {
      "text/plain": "Serial No.\n1      False\n2      False\n3      False\n4      False\n5       True\n       ...  \n396    False\n397    False\n398    False\n399     True\n400    False\nName: chance of admit, Length: 400, dtype: bool"
     },
     "execution_count": 15,
     "metadata": {},
     "output_type": "execute_result"
    }
   ],
   "source": [
    "df['chance of admit'].gt(0.7).lt(0.9)"
   ],
   "metadata": {
    "collapsed": false,
    "ExecuteTime": {
     "end_time": "2023-08-21T23:15:58.892971600Z",
     "start_time": "2023-08-21T23:15:58.834250800Z"
    }
   },
   "id": "804b422c7282f5aa"
  },
  {
   "cell_type": "code",
   "execution_count": null,
   "outputs": [],
   "source": [],
   "metadata": {
    "collapsed": false
   },
   "id": "bea01b9a7a6c27db"
  }
 ],
 "metadata": {
  "kernelspec": {
   "display_name": "Python 3",
   "language": "python",
   "name": "python3"
  },
  "language_info": {
   "codemirror_mode": {
    "name": "ipython",
    "version": 2
   },
   "file_extension": ".py",
   "mimetype": "text/x-python",
   "name": "python",
   "nbconvert_exporter": "python",
   "pygments_lexer": "ipython2",
   "version": "2.7.6"
  }
 },
 "nbformat": 4,
 "nbformat_minor": 5
}

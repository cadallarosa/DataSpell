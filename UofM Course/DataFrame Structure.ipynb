{
 "cells": [
  {
   "cell_type": "code",
   "execution_count": 1,
   "outputs": [],
   "source": [
    "import pandas as pd\n"
   ],
   "metadata": {
    "collapsed": false,
    "ExecuteTime": {
     "end_time": "2023-08-18T20:19:58.718345500Z",
     "start_time": "2023-08-18T20:19:58.211306600Z"
    }
   },
   "id": "68eb053bca66167d"
  },
  {
   "cell_type": "code",
   "execution_count": 2,
   "outputs": [],
   "source": [
    "record1 = pd.Series({'Name':'Alice',\n",
    "                     'Class':'Physics',\n",
    "                     'Score':85})\n",
    "record2 = pd.Series({'Name':'Jack',\n",
    "                     'Class':'Chemistry',\n",
    "                     'Score':82})\n",
    "record3 = pd.Series({'Name':'Helen',\n",
    "                     'Class':'Biology',\n",
    "                     'Score':90})\n"
   ],
   "metadata": {
    "collapsed": false,
    "ExecuteTime": {
     "end_time": "2023-08-18T20:23:01.893749200Z",
     "start_time": "2023-08-18T20:23:01.866229500Z"
    }
   },
   "id": "574d7bfab00799cb"
  },
  {
   "cell_type": "code",
   "execution_count": 3,
   "outputs": [
    {
     "data": {
      "text/plain": "          Name      Class  Score\nschool1  Alice    Physics     85\nschool2   Jack  Chemistry     82\nschool1  Helen    Biology     90",
      "text/html": "<div>\n<style scoped>\n    .dataframe tbody tr th:only-of-type {\n        vertical-align: middle;\n    }\n\n    .dataframe tbody tr th {\n        vertical-align: top;\n    }\n\n    .dataframe thead th {\n        text-align: right;\n    }\n</style>\n<table border=\"1\" class=\"dataframe\">\n  <thead>\n    <tr style=\"text-align: right;\">\n      <th></th>\n      <th>Name</th>\n      <th>Class</th>\n      <th>Score</th>\n    </tr>\n  </thead>\n  <tbody>\n    <tr>\n      <th>school1</th>\n      <td>Alice</td>\n      <td>Physics</td>\n      <td>85</td>\n    </tr>\n    <tr>\n      <th>school2</th>\n      <td>Jack</td>\n      <td>Chemistry</td>\n      <td>82</td>\n    </tr>\n    <tr>\n      <th>school1</th>\n      <td>Helen</td>\n      <td>Biology</td>\n      <td>90</td>\n    </tr>\n  </tbody>\n</table>\n</div>"
     },
     "execution_count": 3,
     "metadata": {},
     "output_type": "execute_result"
    }
   ],
   "source": [
    "df = pd.DataFrame([record1,record2,record3],\n",
    "                  index=['school1','school2','school1'])\n",
    "df.head()"
   ],
   "metadata": {
    "collapsed": false,
    "ExecuteTime": {
     "end_time": "2023-08-18T20:26:07.358239800Z",
     "start_time": "2023-08-18T20:26:07.315238600Z"
    }
   },
   "id": "bd26f56f865fdf68"
  },
  {
   "cell_type": "code",
   "execution_count": 5,
   "outputs": [
    {
     "data": {
      "text/plain": "          Name      Class  Score\nschool1  Alice    Physics     85\nschool2   Jack  Chemistry     82\nschool1  Helen    Biology     90",
      "text/html": "<div>\n<style scoped>\n    .dataframe tbody tr th:only-of-type {\n        vertical-align: middle;\n    }\n\n    .dataframe tbody tr th {\n        vertical-align: top;\n    }\n\n    .dataframe thead th {\n        text-align: right;\n    }\n</style>\n<table border=\"1\" class=\"dataframe\">\n  <thead>\n    <tr style=\"text-align: right;\">\n      <th></th>\n      <th>Name</th>\n      <th>Class</th>\n      <th>Score</th>\n    </tr>\n  </thead>\n  <tbody>\n    <tr>\n      <th>school1</th>\n      <td>Alice</td>\n      <td>Physics</td>\n      <td>85</td>\n    </tr>\n    <tr>\n      <th>school2</th>\n      <td>Jack</td>\n      <td>Chemistry</td>\n      <td>82</td>\n    </tr>\n    <tr>\n      <th>school1</th>\n      <td>Helen</td>\n      <td>Biology</td>\n      <td>90</td>\n    </tr>\n  </tbody>\n</table>\n</div>"
     },
     "execution_count": 5,
     "metadata": {},
     "output_type": "execute_result"
    }
   ],
   "source": [
    "students = [{'Name':'Alice',\n",
    "             'Class': 'Physics',\n",
    "             'Score':85},\n",
    "            {'Name':'Jack',\n",
    "             'Class': 'Chemistry',\n",
    "             'Score':82},\n",
    "            {'Name':'Helen',\n",
    "             'Class': 'Biology',\n",
    "             'Score':90}]\n",
    "\n",
    "df = pd.DataFrame(students, index=['school1','school2','school1'])\n",
    "\n",
    "df.head()"
   ],
   "metadata": {
    "collapsed": false,
    "ExecuteTime": {
     "end_time": "2023-08-18T20:30:54.872251500Z",
     "start_time": "2023-08-18T20:30:54.862113500Z"
    }
   },
   "id": "27472e3b0f5e6d06"
  },
  {
   "cell_type": "code",
   "execution_count": 11,
   "outputs": [
    {
     "data": {
      "text/plain": "Name          Jack\nClass    Chemistry\nScore           82\nName: school2, dtype: object"
     },
     "execution_count": 11,
     "metadata": {},
     "output_type": "execute_result"
    }
   ],
   "source": [
    "x = df.loc['school2']\n",
    "x"
   ],
   "metadata": {
    "collapsed": false,
    "ExecuteTime": {
     "end_time": "2023-08-18T20:32:52.533381300Z",
     "start_time": "2023-08-18T20:32:52.500782Z"
    }
   },
   "id": "95c2fd5dc769fdc6"
  },
  {
   "cell_type": "code",
   "execution_count": 12,
   "outputs": [
    {
     "data": {
      "text/plain": "pandas.core.series.Series"
     },
     "execution_count": 12,
     "metadata": {},
     "output_type": "execute_result"
    }
   ],
   "source": [
    "type(x)"
   ],
   "metadata": {
    "collapsed": false,
    "ExecuteTime": {
     "end_time": "2023-08-18T20:32:57.986892200Z",
     "start_time": "2023-08-18T20:32:57.973047900Z"
    }
   },
   "id": "6a4d354a38016375"
  },
  {
   "cell_type": "code",
   "execution_count": 14,
   "outputs": [
    {
     "data": {
      "text/plain": "          Name    Class  Score\nschool1  Alice  Physics     85\nschool1  Helen  Biology     90",
      "text/html": "<div>\n<style scoped>\n    .dataframe tbody tr th:only-of-type {\n        vertical-align: middle;\n    }\n\n    .dataframe tbody tr th {\n        vertical-align: top;\n    }\n\n    .dataframe thead th {\n        text-align: right;\n    }\n</style>\n<table border=\"1\" class=\"dataframe\">\n  <thead>\n    <tr style=\"text-align: right;\">\n      <th></th>\n      <th>Name</th>\n      <th>Class</th>\n      <th>Score</th>\n    </tr>\n  </thead>\n  <tbody>\n    <tr>\n      <th>school1</th>\n      <td>Alice</td>\n      <td>Physics</td>\n      <td>85</td>\n    </tr>\n    <tr>\n      <th>school1</th>\n      <td>Helen</td>\n      <td>Biology</td>\n      <td>90</td>\n    </tr>\n  </tbody>\n</table>\n</div>"
     },
     "execution_count": 14,
     "metadata": {},
     "output_type": "execute_result"
    }
   ],
   "source": [
    "df.loc['school1']"
   ],
   "metadata": {
    "collapsed": false,
    "ExecuteTime": {
     "end_time": "2023-08-18T20:33:30.700098600Z",
     "start_time": "2023-08-18T20:33:30.664725600Z"
    }
   },
   "id": "932cef8d62b6e3c4"
  },
  {
   "cell_type": "code",
   "execution_count": 15,
   "outputs": [
    {
     "data": {
      "text/plain": "pandas.core.frame.DataFrame"
     },
     "execution_count": 15,
     "metadata": {},
     "output_type": "execute_result"
    }
   ],
   "source": [
    "type(df.loc['school1'])"
   ],
   "metadata": {
    "collapsed": false,
    "ExecuteTime": {
     "end_time": "2023-08-18T20:33:40.378480100Z",
     "start_time": "2023-08-18T20:33:40.342536400Z"
    }
   },
   "id": "9f573854589cb8b2"
  },
  {
   "cell_type": "code",
   "execution_count": 16,
   "outputs": [
    {
     "data": {
      "text/plain": "school1    Alice\nschool1    Helen\nName: Name, dtype: object"
     },
     "execution_count": 16,
     "metadata": {},
     "output_type": "execute_result"
    }
   ],
   "source": [
    "df.loc['school1','Name']"
   ],
   "metadata": {
    "collapsed": false,
    "ExecuteTime": {
     "end_time": "2023-08-18T20:34:07.627423Z",
     "start_time": "2023-08-18T20:34:07.568083800Z"
    }
   },
   "id": "4cecdfd40e87fcd8"
  },
  {
   "cell_type": "code",
   "execution_count": 17,
   "outputs": [
    {
     "data": {
      "text/plain": "       school1    school2  school1\nName     Alice       Jack    Helen\nClass  Physics  Chemistry  Biology\nScore       85         82       90",
      "text/html": "<div>\n<style scoped>\n    .dataframe tbody tr th:only-of-type {\n        vertical-align: middle;\n    }\n\n    .dataframe tbody tr th {\n        vertical-align: top;\n    }\n\n    .dataframe thead th {\n        text-align: right;\n    }\n</style>\n<table border=\"1\" class=\"dataframe\">\n  <thead>\n    <tr style=\"text-align: right;\">\n      <th></th>\n      <th>school1</th>\n      <th>school2</th>\n      <th>school1</th>\n    </tr>\n  </thead>\n  <tbody>\n    <tr>\n      <th>Name</th>\n      <td>Alice</td>\n      <td>Jack</td>\n      <td>Helen</td>\n    </tr>\n    <tr>\n      <th>Class</th>\n      <td>Physics</td>\n      <td>Chemistry</td>\n      <td>Biology</td>\n    </tr>\n    <tr>\n      <th>Score</th>\n      <td>85</td>\n      <td>82</td>\n      <td>90</td>\n    </tr>\n  </tbody>\n</table>\n</div>"
     },
     "execution_count": 17,
     "metadata": {},
     "output_type": "execute_result"
    }
   ],
   "source": [
    "df.T"
   ],
   "metadata": {
    "collapsed": false,
    "ExecuteTime": {
     "end_time": "2023-08-19T01:34:46.122659100Z",
     "start_time": "2023-08-19T01:34:46.083772700Z"
    }
   },
   "id": "72a117397279e142"
  },
  {
   "cell_type": "code",
   "execution_count": 18,
   "outputs": [
    {
     "data": {
      "text/plain": "school1    Alice\nschool2     Jack\nschool1    Helen\nName: Name, dtype: object"
     },
     "execution_count": 18,
     "metadata": {},
     "output_type": "execute_result"
    }
   ],
   "source": [
    "df.T.loc['Name']"
   ],
   "metadata": {
    "collapsed": false,
    "ExecuteTime": {
     "end_time": "2023-08-19T01:35:22.634716Z",
     "start_time": "2023-08-19T01:35:22.580233800Z"
    }
   },
   "id": "4e644824d527a953"
  },
  {
   "cell_type": "code",
   "execution_count": 19,
   "outputs": [
    {
     "data": {
      "text/plain": "school1    Alice\nschool2     Jack\nschool1    Helen\nName: Name, dtype: object"
     },
     "execution_count": 19,
     "metadata": {},
     "output_type": "execute_result"
    }
   ],
   "source": [
    "df['Name']"
   ],
   "metadata": {
    "collapsed": false,
    "ExecuteTime": {
     "end_time": "2023-08-19T01:35:53.038664200Z",
     "start_time": "2023-08-19T01:35:52.995311800Z"
    }
   },
   "id": "3ba55cd462a93d71"
  },
  {
   "cell_type": "code",
   "execution_count": 20,
   "outputs": [
    {
     "data": {
      "text/plain": "school1    Alice\nschool1    Helen\nName: Name, dtype: object"
     },
     "execution_count": 20,
     "metadata": {},
     "output_type": "execute_result"
    }
   ],
   "source": [
    "df.loc['school1']['Name']"
   ],
   "metadata": {
    "collapsed": false,
    "ExecuteTime": {
     "end_time": "2023-08-19T01:36:57.732104100Z",
     "start_time": "2023-08-19T01:36:57.693592400Z"
    }
   },
   "id": "223ab5b42686bfe2"
  },
  {
   "cell_type": "code",
   "execution_count": 21,
   "outputs": [
    {
     "data": {
      "text/plain": "          Name  Score\nschool1  Alice     85\nschool2   Jack     82\nschool1  Helen     90",
      "text/html": "<div>\n<style scoped>\n    .dataframe tbody tr th:only-of-type {\n        vertical-align: middle;\n    }\n\n    .dataframe tbody tr th {\n        vertical-align: top;\n    }\n\n    .dataframe thead th {\n        text-align: right;\n    }\n</style>\n<table border=\"1\" class=\"dataframe\">\n  <thead>\n    <tr style=\"text-align: right;\">\n      <th></th>\n      <th>Name</th>\n      <th>Score</th>\n    </tr>\n  </thead>\n  <tbody>\n    <tr>\n      <th>school1</th>\n      <td>Alice</td>\n      <td>85</td>\n    </tr>\n    <tr>\n      <th>school2</th>\n      <td>Jack</td>\n      <td>82</td>\n    </tr>\n    <tr>\n      <th>school1</th>\n      <td>Helen</td>\n      <td>90</td>\n    </tr>\n  </tbody>\n</table>\n</div>"
     },
     "execution_count": 21,
     "metadata": {},
     "output_type": "execute_result"
    }
   ],
   "source": [
    "df.loc[:,['Name','Score']]"
   ],
   "metadata": {
    "collapsed": false,
    "ExecuteTime": {
     "end_time": "2023-08-19T01:38:49.374354200Z",
     "start_time": "2023-08-19T01:38:49.312399600Z"
    }
   },
   "id": "97d12ed6ebf70d6f"
  },
  {
   "cell_type": "code",
   "execution_count": 22,
   "outputs": [
    {
     "data": {
      "text/plain": "         Name      Class  Score\nschool2  Jack  Chemistry     82",
      "text/html": "<div>\n<style scoped>\n    .dataframe tbody tr th:only-of-type {\n        vertical-align: middle;\n    }\n\n    .dataframe tbody tr th {\n        vertical-align: top;\n    }\n\n    .dataframe thead th {\n        text-align: right;\n    }\n</style>\n<table border=\"1\" class=\"dataframe\">\n  <thead>\n    <tr style=\"text-align: right;\">\n      <th></th>\n      <th>Name</th>\n      <th>Class</th>\n      <th>Score</th>\n    </tr>\n  </thead>\n  <tbody>\n    <tr>\n      <th>school2</th>\n      <td>Jack</td>\n      <td>Chemistry</td>\n      <td>82</td>\n    </tr>\n  </tbody>\n</table>\n</div>"
     },
     "execution_count": 22,
     "metadata": {},
     "output_type": "execute_result"
    }
   ],
   "source": [
    "df.drop('school1')"
   ],
   "metadata": {
    "collapsed": false,
    "ExecuteTime": {
     "end_time": "2023-08-19T01:40:04.981387200Z",
     "start_time": "2023-08-19T01:40:04.942321800Z"
    }
   },
   "id": "bf649a3a6a26691f"
  },
  {
   "cell_type": "code",
   "execution_count": 23,
   "outputs": [
    {
     "data": {
      "text/plain": "          Name      Class  Score\nschool1  Alice    Physics     85\nschool2   Jack  Chemistry     82\nschool1  Helen    Biology     90",
      "text/html": "<div>\n<style scoped>\n    .dataframe tbody tr th:only-of-type {\n        vertical-align: middle;\n    }\n\n    .dataframe tbody tr th {\n        vertical-align: top;\n    }\n\n    .dataframe thead th {\n        text-align: right;\n    }\n</style>\n<table border=\"1\" class=\"dataframe\">\n  <thead>\n    <tr style=\"text-align: right;\">\n      <th></th>\n      <th>Name</th>\n      <th>Class</th>\n      <th>Score</th>\n    </tr>\n  </thead>\n  <tbody>\n    <tr>\n      <th>school1</th>\n      <td>Alice</td>\n      <td>Physics</td>\n      <td>85</td>\n    </tr>\n    <tr>\n      <th>school2</th>\n      <td>Jack</td>\n      <td>Chemistry</td>\n      <td>82</td>\n    </tr>\n    <tr>\n      <th>school1</th>\n      <td>Helen</td>\n      <td>Biology</td>\n      <td>90</td>\n    </tr>\n  </tbody>\n</table>\n</div>"
     },
     "execution_count": 23,
     "metadata": {},
     "output_type": "execute_result"
    }
   ],
   "source": [
    "df"
   ],
   "metadata": {
    "collapsed": false,
    "ExecuteTime": {
     "end_time": "2023-08-19T01:40:24.355028800Z",
     "start_time": "2023-08-19T01:40:24.299967100Z"
    }
   },
   "id": "e608a09e83982e72"
  },
  {
   "cell_type": "code",
   "execution_count": 25,
   "outputs": [
    {
     "data": {
      "text/plain": "             Class  Score\nschool1    Physics     85\nschool2  Chemistry     82\nschool1    Biology     90",
      "text/html": "<div>\n<style scoped>\n    .dataframe tbody tr th:only-of-type {\n        vertical-align: middle;\n    }\n\n    .dataframe tbody tr th {\n        vertical-align: top;\n    }\n\n    .dataframe thead th {\n        text-align: right;\n    }\n</style>\n<table border=\"1\" class=\"dataframe\">\n  <thead>\n    <tr style=\"text-align: right;\">\n      <th></th>\n      <th>Class</th>\n      <th>Score</th>\n    </tr>\n  </thead>\n  <tbody>\n    <tr>\n      <th>school1</th>\n      <td>Physics</td>\n      <td>85</td>\n    </tr>\n    <tr>\n      <th>school2</th>\n      <td>Chemistry</td>\n      <td>82</td>\n    </tr>\n    <tr>\n      <th>school1</th>\n      <td>Biology</td>\n      <td>90</td>\n    </tr>\n  </tbody>\n</table>\n</div>"
     },
     "execution_count": 25,
     "metadata": {},
     "output_type": "execute_result"
    }
   ],
   "source": [
    "copy_df = df.copy()\n",
    "copy_df.drop(\"Name\", inplace=True, axis=1)\n",
    "copy_df"
   ],
   "metadata": {
    "collapsed": false,
    "ExecuteTime": {
     "end_time": "2023-08-19T01:41:44.879747800Z",
     "start_time": "2023-08-19T01:41:44.851994500Z"
    }
   },
   "id": "16e08b06b84cf7c2"
  },
  {
   "cell_type": "code",
   "execution_count": 26,
   "outputs": [
    {
     "data": {
      "text/plain": "         Score\nschool1     85\nschool2     82\nschool1     90",
      "text/html": "<div>\n<style scoped>\n    .dataframe tbody tr th:only-of-type {\n        vertical-align: middle;\n    }\n\n    .dataframe tbody tr th {\n        vertical-align: top;\n    }\n\n    .dataframe thead th {\n        text-align: right;\n    }\n</style>\n<table border=\"1\" class=\"dataframe\">\n  <thead>\n    <tr style=\"text-align: right;\">\n      <th></th>\n      <th>Score</th>\n    </tr>\n  </thead>\n  <tbody>\n    <tr>\n      <th>school1</th>\n      <td>85</td>\n    </tr>\n    <tr>\n      <th>school2</th>\n      <td>82</td>\n    </tr>\n    <tr>\n      <th>school1</th>\n      <td>90</td>\n    </tr>\n  </tbody>\n</table>\n</div>"
     },
     "execution_count": 26,
     "metadata": {},
     "output_type": "execute_result"
    }
   ],
   "source": [
    "del copy_df['Class']\n",
    "copy_df"
   ],
   "metadata": {
    "collapsed": false,
    "ExecuteTime": {
     "end_time": "2023-08-19T01:42:08.116861600Z",
     "start_time": "2023-08-19T01:42:08.069759100Z"
    }
   },
   "id": "7759b73ba55c71d9"
  },
  {
   "cell_type": "code",
   "execution_count": 27,
   "outputs": [
    {
     "data": {
      "text/plain": "         Score\nschool1     85\nschool2     82\nschool1     90",
      "text/html": "<div>\n<style scoped>\n    .dataframe tbody tr th:only-of-type {\n        vertical-align: middle;\n    }\n\n    .dataframe tbody tr th {\n        vertical-align: top;\n    }\n\n    .dataframe thead th {\n        text-align: right;\n    }\n</style>\n<table border=\"1\" class=\"dataframe\">\n  <thead>\n    <tr style=\"text-align: right;\">\n      <th></th>\n      <th>Score</th>\n    </tr>\n  </thead>\n  <tbody>\n    <tr>\n      <th>school1</th>\n      <td>85</td>\n    </tr>\n    <tr>\n      <th>school2</th>\n      <td>82</td>\n    </tr>\n    <tr>\n      <th>school1</th>\n      <td>90</td>\n    </tr>\n  </tbody>\n</table>\n</div>"
     },
     "execution_count": 27,
     "metadata": {},
     "output_type": "execute_result"
    }
   ],
   "source": [
    "copy_df"
   ],
   "metadata": {
    "collapsed": false,
    "ExecuteTime": {
     "end_time": "2023-08-19T01:42:26.584594500Z",
     "start_time": "2023-08-19T01:42:26.524655700Z"
    }
   },
   "id": "5072b76c29d5c319"
  },
  {
   "cell_type": "code",
   "execution_count": 28,
   "outputs": [
    {
     "data": {
      "text/plain": "          Name      Class  Score ClassRanking\nschool1  Alice    Physics     85         None\nschool2   Jack  Chemistry     82         None\nschool1  Helen    Biology     90         None",
      "text/html": "<div>\n<style scoped>\n    .dataframe tbody tr th:only-of-type {\n        vertical-align: middle;\n    }\n\n    .dataframe tbody tr th {\n        vertical-align: top;\n    }\n\n    .dataframe thead th {\n        text-align: right;\n    }\n</style>\n<table border=\"1\" class=\"dataframe\">\n  <thead>\n    <tr style=\"text-align: right;\">\n      <th></th>\n      <th>Name</th>\n      <th>Class</th>\n      <th>Score</th>\n      <th>ClassRanking</th>\n    </tr>\n  </thead>\n  <tbody>\n    <tr>\n      <th>school1</th>\n      <td>Alice</td>\n      <td>Physics</td>\n      <td>85</td>\n      <td>None</td>\n    </tr>\n    <tr>\n      <th>school2</th>\n      <td>Jack</td>\n      <td>Chemistry</td>\n      <td>82</td>\n      <td>None</td>\n    </tr>\n    <tr>\n      <th>school1</th>\n      <td>Helen</td>\n      <td>Biology</td>\n      <td>90</td>\n      <td>None</td>\n    </tr>\n  </tbody>\n</table>\n</div>"
     },
     "execution_count": 28,
     "metadata": {},
     "output_type": "execute_result"
    }
   ],
   "source": [
    "df['ClassRanking'] = None   \n",
    "df"
   ],
   "metadata": {
    "collapsed": false,
    "ExecuteTime": {
     "end_time": "2023-08-19T01:42:52.981475500Z",
     "start_time": "2023-08-19T01:42:52.934129800Z"
    }
   },
   "id": "1c2a5b7524872257"
  },
  {
   "cell_type": "markdown",
   "source": [],
   "metadata": {
    "collapsed": false
   },
   "id": "24b0521d8b1d6395"
  }
 ],
 "metadata": {
  "kernelspec": {
   "display_name": "Python 3",
   "language": "python",
   "name": "python3"
  },
  "language_info": {
   "codemirror_mode": {
    "name": "ipython",
    "version": 2
   },
   "file_extension": ".py",
   "mimetype": "text/x-python",
   "name": "python",
   "nbconvert_exporter": "python",
   "pygments_lexer": "ipython2",
   "version": "2.7.6"
  }
 },
 "nbformat": 4,
 "nbformat_minor": 5
}

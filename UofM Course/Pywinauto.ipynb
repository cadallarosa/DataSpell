{
 "cells": [
  {
   "cell_type": "code",
   "execution_count": null,
   "outputs": [],
   "source": [
    "from pywinauto import Application\n",
    "\n",
    "# Path to Chrome executable\n",
    "chrome_path = \"C:\\\\Program Files\\\\Google\\\\Chrome\\\\Application\\\\chrome.exe\"\n",
    "\n",
    "# Start Chrome\n",
    "app = Application().start(chrome_path)\n",
    "\n",
    "# Wait for Chrome to start\n",
    "main_window = app.window(title=\"New Tab - Google Chrome - Christopher\")\n",
    "main_window.wait('visible', timeout=60)\n",
    "\n",
    "# Find the address bar and focus on it\n",
    "address_bar = main_window.child_window(class_name=\"Chrome_OmniboxView\")\n",
    "address_bar.click_input()\n",
    "\n",
    "# Type the URL and press Enter\n",
    "address_bar.type_keys(\"https://www.google.com\", with_spaces=True)\n",
    "address_bar.type_keys(\"{ENTER}\")\n",
    "\n",
    "# Wait for the Google page to load\n",
    "app.window(title=\"Google\").wait('visible', timeout=30)\n",
    "\n",
    "# Search for accuweather.com\n",
    "search_box = app.window(title=\"Google\").child_window(class_name=\"gLFyf\")\n",
    "search_box.type_keys(\"accuweather.com\")\n",
    "search_box.type_keys(\"{ENTER}\")\n"
   ],
   "metadata": {
    "collapsed": false
   },
   "id": "3f97da60f513733d"
  },
  {
   "cell_type": "code",
   "execution_count": 39,
   "outputs": [
    {
     "ename": "KeyError",
     "evalue": "'Keywords \"process\" and \"app\" cannot be combined (ambiguous). Use one option at a time: Application object with keyword \"app\" or integer process ID with keyword \"process\".'",
     "output_type": "error",
     "traceback": [
      "\u001B[1;31m---------------------------------------------------------------------------\u001B[0m",
      "\u001B[1;31mKeyError\u001B[0m                                  Traceback (most recent call last)",
      "Cell \u001B[1;32mIn[39], line 14\u001B[0m\n\u001B[0;32m     11\u001B[0m time\u001B[38;5;241m.\u001B[39msleep(\u001B[38;5;241m2\u001B[39m)  \u001B[38;5;66;03m# Adjust the delay as needed\u001B[39;00m\n\u001B[0;32m     13\u001B[0m \u001B[38;5;66;03m# Find the Chrome window by its executable path\u001B[39;00m\n\u001B[1;32m---> 14\u001B[0m chrome_window \u001B[38;5;241m=\u001B[39m app\u001B[38;5;241m.\u001B[39mwindow(process\u001B[38;5;241m=\u001B[39mapp\u001B[38;5;241m.\u001B[39mprocess_info)\n\u001B[0;32m     16\u001B[0m \u001B[38;5;66;03m# Maximize the window (optional)\u001B[39;00m\n\u001B[0;32m     17\u001B[0m chrome_window\u001B[38;5;241m.\u001B[39mmaximize()\n",
      "File \u001B[1;32m~\\anaconda3\\envs\\UofM Course\\Lib\\site-packages\\pywinauto\\application.py:1231\u001B[0m, in \u001B[0;36mApplication.window\u001B[1;34m(self, **kwargs)\u001B[0m\n\u001B[0;32m   1228\u001B[0m \u001B[38;5;28;01melse\u001B[39;00m:\n\u001B[0;32m   1229\u001B[0m     \u001B[38;5;66;03m# add the restriction for this particular application\u001B[39;00m\n\u001B[0;32m   1230\u001B[0m     kwargs[\u001B[38;5;124m'\u001B[39m\u001B[38;5;124mapp\u001B[39m\u001B[38;5;124m'\u001B[39m] \u001B[38;5;241m=\u001B[39m \u001B[38;5;28mself\u001B[39m\n\u001B[1;32m-> 1231\u001B[0m     win_spec \u001B[38;5;241m=\u001B[39m WindowSpecification(kwargs, allow_magic_lookup\u001B[38;5;241m=\u001B[39m\u001B[38;5;28mself\u001B[39m\u001B[38;5;241m.\u001B[39mallow_magic_lookup)\n\u001B[0;32m   1233\u001B[0m \u001B[38;5;28;01mreturn\u001B[39;00m win_spec\n",
      "File \u001B[1;32m~\\anaconda3\\envs\\UofM Course\\Lib\\site-packages\\pywinauto\\application.py:155\u001B[0m, in \u001B[0;36mWindowSpecification.__init__\u001B[1;34m(self, search_criteria, allow_magic_lookup)\u001B[0m\n\u001B[0;32m    153\u001B[0m     search_criteria[\u001B[38;5;124m'\u001B[39m\u001B[38;5;124mbackend\u001B[39m\u001B[38;5;124m'\u001B[39m] \u001B[38;5;241m=\u001B[39m registry\u001B[38;5;241m.\u001B[39mactive_backend\u001B[38;5;241m.\u001B[39mname\n\u001B[0;32m    154\u001B[0m \u001B[38;5;28;01mif\u001B[39;00m \u001B[38;5;124m'\u001B[39m\u001B[38;5;124mprocess\u001B[39m\u001B[38;5;124m'\u001B[39m \u001B[38;5;129;01min\u001B[39;00m search_criteria \u001B[38;5;129;01mand\u001B[39;00m \u001B[38;5;124m'\u001B[39m\u001B[38;5;124mapp\u001B[39m\u001B[38;5;124m'\u001B[39m \u001B[38;5;129;01min\u001B[39;00m search_criteria:\n\u001B[1;32m--> 155\u001B[0m     \u001B[38;5;28;01mraise\u001B[39;00m \u001B[38;5;167;01mKeyError\u001B[39;00m(\u001B[38;5;124m'\u001B[39m\u001B[38;5;124mKeywords \u001B[39m\u001B[38;5;124m\"\u001B[39m\u001B[38;5;124mprocess\u001B[39m\u001B[38;5;124m\"\u001B[39m\u001B[38;5;124m and \u001B[39m\u001B[38;5;124m\"\u001B[39m\u001B[38;5;124mapp\u001B[39m\u001B[38;5;124m\"\u001B[39m\u001B[38;5;124m cannot be combined (ambiguous). \u001B[39m\u001B[38;5;124m'\u001B[39m \\\n\u001B[0;32m    156\u001B[0m         \u001B[38;5;124m'\u001B[39m\u001B[38;5;124mUse one option at a time: Application object with keyword \u001B[39m\u001B[38;5;124m\"\u001B[39m\u001B[38;5;124mapp\u001B[39m\u001B[38;5;124m\"\u001B[39m\u001B[38;5;124m or \u001B[39m\u001B[38;5;124m'\u001B[39m \\\n\u001B[0;32m    157\u001B[0m         \u001B[38;5;124m'\u001B[39m\u001B[38;5;124minteger process ID with keyword \u001B[39m\u001B[38;5;124m\"\u001B[39m\u001B[38;5;124mprocess\u001B[39m\u001B[38;5;124m\"\u001B[39m\u001B[38;5;124m.\u001B[39m\u001B[38;5;124m'\u001B[39m)\n\u001B[0;32m    158\u001B[0m \u001B[38;5;28mself\u001B[39m\u001B[38;5;241m.\u001B[39mapp \u001B[38;5;241m=\u001B[39m search_criteria\u001B[38;5;241m.\u001B[39mget(\u001B[38;5;124m'\u001B[39m\u001B[38;5;124mapp\u001B[39m\u001B[38;5;124m'\u001B[39m, \u001B[38;5;28;01mNone\u001B[39;00m)\n\u001B[0;32m    159\u001B[0m \u001B[38;5;28mself\u001B[39m\u001B[38;5;241m.\u001B[39mcriteria \u001B[38;5;241m=\u001B[39m [search_criteria, ]\n",
      "\u001B[1;31mKeyError\u001B[0m: 'Keywords \"process\" and \"app\" cannot be combined (ambiguous). Use one option at a time: Application object with keyword \"app\" or integer process ID with keyword \"process\".'"
     ]
    }
   ],
   "source": [
    "from pywinauto.application import Application\n",
    "import time\n",
    "\n",
    "# Path to Chrome executable\n",
    "chrome_path = \"C:\\\\Program Files\\\\Google\\\\Chrome\\\\Application\\\\chrome.exe\"\n",
    "\n",
    "# Start Chrome\n",
    "app = Application(backend=\"uia\").start(chrome_path)\n",
    "\n",
    "# Wait for Chrome to start\n",
    "time.sleep(2)  # Adjust the delay as needed\n",
    "\n",
    "# Find the Chrome window by its executable path\n",
    "chrome_window = app.window(process=app.process_info)\n",
    "\n",
    "# Maximize the window (optional)\n",
    "chrome_window.maximize()\n",
    "\n",
    "# Focus on the address bar and type the search query\n",
    "chrome_window.child_window(auto_id=\"mnb_6\", control_type=\"Edit\").type_keys(\"pywinauto tutorial\")\n",
    "\n",
    "# Simulate pressing Enter to perform the search\n",
    "chrome_window.child_window(auto_id=\"Search\", control_type=\"Button\").click()\n",
    "\n",
    "# Wait for the search results to load\n",
    "time.sleep(5)  # Adjust the delay as needed\n",
    "\n",
    "# Close Chrome\n",
    "app.kill()\n"
   ],
   "metadata": {
    "collapsed": false,
    "ExecuteTime": {
     "end_time": "2023-08-29T15:52:31.240606200Z",
     "start_time": "2023-08-29T15:52:29.098616800Z"
    }
   },
   "id": "b7dc07c3e19f5f43"
  },
  {
   "cell_type": "code",
   "execution_count": 54,
   "outputs": [
    {
     "ename": "AttributeError",
     "evalue": "'Win32Window' object has no attribute 'type_keys'",
     "output_type": "error",
     "traceback": [
      "\u001B[1;31m---------------------------------------------------------------------------\u001B[0m",
      "\u001B[1;31mAttributeError\u001B[0m                            Traceback (most recent call last)",
      "Cell \u001B[1;32mIn[54], line 21\u001B[0m\n\u001B[0;32m     18\u001B[0m chrome_window\u001B[38;5;241m.\u001B[39mmaximize()\n\u001B[0;32m     20\u001B[0m \u001B[38;5;66;03m# Focus on the address bar and type the search query\u001B[39;00m\n\u001B[1;32m---> 21\u001B[0m chrome_window\u001B[38;5;241m.\u001B[39mtype_keys(\u001B[38;5;124m\"\u001B[39m\u001B[38;5;124mpywinauto tutorial\u001B[39m\u001B[38;5;124m\"\u001B[39m)\n\u001B[0;32m     23\u001B[0m \u001B[38;5;66;03m# Simulate pressing Enter to perform the search\u001B[39;00m\n\u001B[0;32m     24\u001B[0m chrome_window\u001B[38;5;241m.\u001B[39mtype_keys(\u001B[38;5;124m\"\u001B[39m\u001B[38;5;132;01m{ENTER}\u001B[39;00m\u001B[38;5;124m\"\u001B[39m)\n",
      "\u001B[1;31mAttributeError\u001B[0m: 'Win32Window' object has no attribute 'type_keys'"
     ]
    }
   ],
   "source": [
    "from pywinauto.application import Application\n",
    "import time\n",
    "import pygetwindow as gw\n",
    "\n",
    "# Path to Chrome executable\n",
    "chrome_path = \"C:\\\\Program Files\\\\Google\\\\Chrome\\\\Application\\\\chrome.exe\"\n",
    "\n",
    "# Start Chrome\n",
    "app = Application(backend=\"uia\").start(chrome_path)\n",
    "\n",
    "# Wait for Chrome to start\n",
    "time.sleep(2)  # Adjust the delay as needed\n",
    "\n",
    "# Find the Chrome window by its title\n",
    "chrome_window = gw.getWindowsWithTitle(\"Google Chrome\")[0]\n",
    "\n",
    "# Maximize the window (optional)\n",
    "chrome_window.maximize()\n",
    "\n",
    "# Focus on the address bar and type the search query\n",
    "chrome_window.type_keys(\"pywinauto tutorial\")\n",
    "\n",
    "# Simulate pressing Enter to perform the search\n",
    "chrome_window.type_keys(\"{ENTER}\")\n",
    "\n",
    "# Wait for the search results to load\n",
    "time.sleep(5)  # Adjust the delay as needed\n",
    "\n",
    "# Close Chrome\n",
    "app.kill()\n"
   ],
   "metadata": {
    "collapsed": false,
    "ExecuteTime": {
     "end_time": "2023-08-30T00:11:35.856128100Z",
     "start_time": "2023-08-30T00:11:33.772153400Z"
    }
   },
   "id": "20fc9ae332d08354"
  },
  {
   "cell_type": "code",
   "execution_count": 60,
   "outputs": [],
   "source": [
    "from pywinauto.application import Application\n",
    "import time\n",
    "import pygetwindow as gw\n",
    "import pyautogui\n",
    "\n",
    "# Path to Chrome executable\n",
    "chrome_path = \"C:\\\\Program Files\\\\Google\\\\Chrome\\\\Application\\\\chrome.exe\"\n",
    "\n",
    "# Start Chrome\n",
    "app = Application(backend=\"uia\").start(chrome_path)\n",
    "\n",
    "# Wait for Chrome to start\n",
    "time.sleep(.5)  # Adjust the delay as needed\n",
    "\n",
    "# Find the Chrome window by its title\n",
    "chrome_window = gw.getWindowsWithTitle(\"Google Chrome\")[0]\n",
    "\n",
    "# Maximize the window (optional)\n",
    "chrome_window.maximize()\n",
    "time.sleep(.5)\n",
    "# Focus on the address bar\n",
    "chrome_window.activate()\n",
    "\n",
    "# Type the search query using pyautogui\n",
    "pyautogui.write(\"accuweather.com\")\n",
    "\n",
    "# Simulate pressing Enter to perform the search\n",
    "pyautogui.press(\"enter\")\n",
    "\n",
    "# Wait for the search results to load\n",
    "time.sleep(5)  # Adjus t the delay as needed\n",
    "\n",
    "# Close Chrome\n",
    "# app.kill()\n"
   ],
   "metadata": {
    "collapsed": false,
    "ExecuteTime": {
     "end_time": "2023-08-30T00:13:47.488720200Z",
     "start_time": "2023-08-30T00:13:41.055460200Z"
    }
   },
   "id": "1964943660870b9e"
  },
  {
   "cell_type": "code",
   "execution_count": null,
   "outputs": [],
   "source": [],
   "metadata": {
    "collapsed": false
   },
   "id": "7bcde1f863bfdf01"
  }
 ],
 "metadata": {
  "kernelspec": {
   "display_name": "Python 3",
   "language": "python",
   "name": "python3"
  },
  "language_info": {
   "codemirror_mode": {
    "name": "ipython",
    "version": 2
   },
   "file_extension": ".py",
   "mimetype": "text/x-python",
   "name": "python",
   "nbconvert_exporter": "python",
   "pygments_lexer": "ipython2",
   "version": "2.7.6"
  }
 },
 "nbformat": 4,
 "nbformat_minor": 5
}

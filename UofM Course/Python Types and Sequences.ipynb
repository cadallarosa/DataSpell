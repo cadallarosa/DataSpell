{
 "cells": [
  {
   "cell_type": "code",
   "execution_count": 1,
   "id": "initial_id",
   "metadata": {
    "collapsed": true,
    "ExecuteTime": {
     "end_time": "2023-08-17T17:18:49.523282200Z",
     "start_time": "2023-08-17T17:18:49.515410500Z"
    }
   },
   "outputs": [
    {
     "data": {
      "text/plain": "str"
     },
     "execution_count": 1,
     "metadata": {},
     "output_type": "execute_result"
    }
   ],
   "source": [
    "type('This is a string')"
   ]
  },
  {
   "cell_type": "code",
   "execution_count": 2,
   "outputs": [
    {
     "data": {
      "text/plain": "NoneType"
     },
     "execution_count": 2,
     "metadata": {},
     "output_type": "execute_result"
    }
   ],
   "source": [
    "type(None)"
   ],
   "metadata": {
    "collapsed": false,
    "ExecuteTime": {
     "end_time": "2023-08-17T17:18:56.804317900Z",
     "start_time": "2023-08-17T17:18:56.798230300Z"
    }
   },
   "id": "983c25299b502784"
  },
  {
   "cell_type": "code",
   "execution_count": 3,
   "outputs": [
    {
     "data": {
      "text/plain": "int"
     },
     "execution_count": 3,
     "metadata": {},
     "output_type": "execute_result"
    }
   ],
   "source": [
    "type(1)"
   ],
   "metadata": {
    "collapsed": false,
    "ExecuteTime": {
     "end_time": "2023-08-17T17:19:06.934874Z",
     "start_time": "2023-08-17T17:19:06.928685500Z"
    }
   },
   "id": "a7f6b3c2c4e17a2b"
  },
  {
   "cell_type": "code",
   "execution_count": 4,
   "outputs": [
    {
     "data": {
      "text/plain": "float"
     },
     "execution_count": 4,
     "metadata": {},
     "output_type": "execute_result"
    }
   ],
   "source": [
    "type(1.0)"
   ],
   "metadata": {
    "collapsed": false,
    "ExecuteTime": {
     "end_time": "2023-08-17T17:19:15.941074200Z",
     "start_time": "2023-08-17T17:19:15.844856500Z"
    }
   },
   "id": "1490fa2cd7f5752b"
  },
  {
   "cell_type": "code",
   "execution_count": 9,
   "outputs": [
    {
     "name": "stdout",
     "output_type": "stream",
     "text": [
      "<class 'tuple'>\n",
      "(1, 'a', 'b')\n"
     ]
    }
   ],
   "source": [
    "# Tuple Utilizes parentheisis and is immuatable\n",
    "x=(1,'a','b')\n",
    "print(type(x))\n",
    "print(x)"
   ],
   "metadata": {
    "collapsed": false,
    "ExecuteTime": {
     "end_time": "2023-08-17T17:22:41.341889600Z",
     "start_time": "2023-08-17T17:22:41.321622300Z"
    }
   },
   "id": "5c43a4c314fada69"
  },
  {
   "cell_type": "code",
   "execution_count": 10,
   "outputs": [
    {
     "data": {
      "text/plain": "list"
     },
     "execution_count": 10,
     "metadata": {},
     "output_type": "execute_result"
    }
   ],
   "source": [
    "# List uses square brackets\n",
    "x = [1,'a','b']\n",
    "type(x)"
   ],
   "metadata": {
    "collapsed": false,
    "ExecuteTime": {
     "end_time": "2023-08-17T17:23:47.114373800Z",
     "start_time": "2023-08-17T17:23:47.105770Z"
    }
   },
   "id": "5e73d620bcbe2ee8"
  },
  {
   "cell_type": "code",
   "execution_count": 11,
   "outputs": [
    {
     "name": "stdout",
     "output_type": "stream",
     "text": [
      "[1, 'a', 'b', 3.3]\n"
     ]
    }
   ],
   "source": [
    "x.append(3.3)\n",
    "print(x)"
   ],
   "metadata": {
    "collapsed": false,
    "ExecuteTime": {
     "end_time": "2023-08-17T17:24:15.303923100Z",
     "start_time": "2023-08-17T17:24:15.293801300Z"
    }
   },
   "id": "f54546780a2a1a1"
  },
  {
   "cell_type": "code",
   "execution_count": 13,
   "outputs": [
    {
     "name": "stdout",
     "output_type": "stream",
     "text": [
      "1\n",
      "a\n",
      "b\n",
      "3.3\n"
     ]
    }
   ],
   "source": [
    "for item in x:\n",
    "    print(item)"
   ],
   "metadata": {
    "collapsed": false,
    "ExecuteTime": {
     "end_time": "2023-08-17T17:24:44.073111900Z",
     "start_time": "2023-08-17T17:24:44.044143Z"
    }
   },
   "id": "aaa27708a303aed7"
  },
  {
   "cell_type": "code",
   "execution_count": 14,
   "outputs": [
    {
     "data": {
      "text/plain": "[1, 2, 3, 4]"
     },
     "execution_count": 14,
     "metadata": {},
     "output_type": "execute_result"
    }
   ],
   "source": [
    "[1,2]+[3,4]"
   ],
   "metadata": {
    "collapsed": false,
    "ExecuteTime": {
     "end_time": "2023-08-17T17:25:23.561767100Z",
     "start_time": "2023-08-17T17:25:23.553845100Z"
    }
   },
   "id": "dffb9d11a6d1098f"
  },
  {
   "cell_type": "code",
   "execution_count": 16,
   "outputs": [
    {
     "data": {
      "text/plain": "[1, 1, 1]"
     },
     "execution_count": 16,
     "metadata": {},
     "output_type": "execute_result"
    }
   ],
   "source": [
    "[1] * 3"
   ],
   "metadata": {
    "collapsed": false,
    "ExecuteTime": {
     "end_time": "2023-08-17T17:25:47.076898200Z",
     "start_time": "2023-08-17T17:25:47.060405900Z"
    }
   },
   "id": "60f2d72006d432c1"
  },
  {
   "cell_type": "code",
   "execution_count": 18,
   "outputs": [
    {
     "name": "stdout",
     "output_type": "stream",
     "text": [
      "Christopher\n"
     ]
    }
   ],
   "source": [
    "# Slice to get then name 'Christopher' from the string 'Dr. Christopher Brooks'\n",
    "x = 'Dr. Christopher Brooks'\n",
    "print(x[4:15])"
   ],
   "metadata": {
    "collapsed": false,
    "ExecuteTime": {
     "end_time": "2023-08-17T17:32:54.702301100Z",
     "start_time": "2023-08-17T17:32:54.697301600Z"
    }
   },
   "id": "d0859e0ce6da6124"
  },
  {
   "cell_type": "code",
   "execution_count": 21,
   "outputs": [
    {
     "name": "stdout",
     "output_type": "stream",
     "text": [
      "Christopher Brooks\n",
      "Christopher Christopher Christopher \n",
      "True\n"
     ]
    }
   ],
   "source": [
    "first_name = 'Christopher'\n",
    "last_name = 'Brooks'\n",
    "print(first_name + ' ' +last_name)\n",
    "print((first_name + ' ') * 3)   \n",
    "print('Chris' in first_name)"
   ],
   "metadata": {
    "collapsed": false,
    "ExecuteTime": {
     "end_time": "2023-08-17T17:38:07.236882200Z",
     "start_time": "2023-08-17T17:38:07.215696800Z"
    }
   },
   "id": "9f9f2120d1ad4853"
  },
  {
   "cell_type": "code",
   "execution_count": 23,
   "outputs": [
    {
     "name": "stdout",
     "output_type": "stream",
     "text": [
      "Christopher\n",
      "Anthony\n",
      "Dallarosa\n"
     ]
    }
   ],
   "source": [
    "first_name = 'Christopher Anthony Dallarosa'.split(' ')[0]\n",
    "last_name = 'Christopher Anthony Dallarosa'.split(' ')[-1]\n",
    "middle_name = 'Christopher Anthony Dallarosa'.split(' ')[1]\n",
    "print(first_name)\n",
    "print(middle_name)\n",
    "print(last_name)"
   ],
   "metadata": {
    "collapsed": false,
    "ExecuteTime": {
     "end_time": "2023-08-17T17:40:29.575846100Z",
     "start_time": "2023-08-17T17:40:29.557517500Z"
    }
   },
   "id": "93539f215d7058d9"
  },
  {
   "cell_type": "code",
   "execution_count": 24,
   "outputs": [
    {
     "ename": "TypeError",
     "evalue": "can only concatenate str (not \"int\") to str",
     "output_type": "error",
     "traceback": [
      "\u001B[1;31m---------------------------------------------------------------------------\u001B[0m",
      "\u001B[1;31mTypeError\u001B[0m                                 Traceback (most recent call last)",
      "Cell \u001B[1;32mIn[24], line 1\u001B[0m\n\u001B[1;32m----> 1\u001B[0m \u001B[38;5;124m'\u001B[39m\u001B[38;5;124mChris\u001B[39m\u001B[38;5;124m'\u001B[39m \u001B[38;5;241m+\u001B[39m \u001B[38;5;241m2\u001B[39m\n",
      "\u001B[1;31mTypeError\u001B[0m: can only concatenate str (not \"int\") to str"
     ]
    }
   ],
   "source": [
    " 'Chris' + 2"
   ],
   "metadata": {
    "collapsed": false,
    "ExecuteTime": {
     "end_time": "2023-08-17T17:41:30.780632100Z",
     "start_time": "2023-08-17T17:41:30.722499600Z"
    }
   },
   "id": "19f114559ac8b15d"
  },
  {
   "cell_type": "code",
   "execution_count": 25,
   "outputs": [
    {
     "data": {
      "text/plain": "'Chris2'"
     },
     "execution_count": 25,
     "metadata": {},
     "output_type": "execute_result"
    }
   ],
   "source": [
    "'Chris' + str(2)"
   ],
   "metadata": {
    "collapsed": false,
    "ExecuteTime": {
     "end_time": "2023-08-17T17:41:50.547097300Z",
     "start_time": "2023-08-17T17:41:50.536451400Z"
    }
   },
   "id": "27722593ea193627"
  },
  {
   "cell_type": "code",
   "execution_count": 26,
   "outputs": [
    {
     "data": {
      "text/plain": "1692294773.2177238"
     },
     "execution_count": 26,
     "metadata": {},
     "output_type": "execute_result"
    }
   ],
   "source": [
    "# Python dates and Times\n",
    "import datetime as dt\n",
    "import time as tm\n",
    "\n",
    "tm.time()"
   ],
   "metadata": {
    "collapsed": false,
    "ExecuteTime": {
     "end_time": "2023-08-17T17:52:53.259739600Z",
     "start_time": "2023-08-17T17:52:53.218722Z"
    }
   },
   "id": "f60efa16100ff146"
  },
  {
   "cell_type": "code",
   "execution_count": null,
   "outputs": [],
   "source": [
    "dtnow = dt.datetime."
   ],
   "metadata": {
    "collapsed": false
   },
   "id": "d6203578c690490c"
  }
 ],
 "metadata": {
  "kernelspec": {
   "display_name": "Python 3",
   "language": "python",
   "name": "python3"
  },
  "language_info": {
   "codemirror_mode": {
    "name": "ipython",
    "version": 2
   },
   "file_extension": ".py",
   "mimetype": "text/x-python",
   "name": "python",
   "nbconvert_exporter": "python",
   "pygments_lexer": "ipython2",
   "version": "2.7.6"
  }
 },
 "nbformat": 4,
 "nbformat_minor": 5
}

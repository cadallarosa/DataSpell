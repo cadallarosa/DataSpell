{
 "cells": [
  {
   "cell_type": "code",
   "execution_count": 50,
   "id": "initial_id",
   "metadata": {
    "collapsed": true,
    "ExecuteTime": {
     "end_time": "2023-08-14T20:20:38.584949200Z",
     "start_time": "2023-08-14T20:20:38.357196100Z"
    }
   },
   "outputs": [],
   "source": [
    "import numpy as np\n",
    "import pandas as pd"
   ]
  },
  {
   "cell_type": "code",
   "execution_count": 51,
   "outputs": [],
   "source": [
    "rainfall = pd.read_csv('seattle-weather.csv')"
   ],
   "metadata": {
    "collapsed": false,
    "ExecuteTime": {
     "end_time": "2023-08-14T20:20:38.713815300Z",
     "start_time": "2023-08-14T20:20:38.362189800Z"
    }
   },
   "id": "3f8fd99fa58dd090"
  },
  {
   "cell_type": "code",
   "execution_count": 52,
   "outputs": [
    {
     "data": {
      "text/plain": "         date  precipitation  temp_max  temp_min  wind  weather\n0  2012/01/01            0.0      12.8       5.0   4.7  drizzle\n1  2012/01/02           10.9      10.6       2.8   4.5     rain\n2  2012/01/03            0.8      11.7       7.2   2.3     rain\n3  2012/01/04           20.3      12.2       5.6   4.7     rain\n4  2012/01/05            1.3       8.9       2.8   6.1     rain",
      "text/html": "<div>\n<style scoped>\n    .dataframe tbody tr th:only-of-type {\n        vertical-align: middle;\n    }\n\n    .dataframe tbody tr th {\n        vertical-align: top;\n    }\n\n    .dataframe thead th {\n        text-align: right;\n    }\n</style>\n<table border=\"1\" class=\"dataframe\">\n  <thead>\n    <tr style=\"text-align: right;\">\n      <th></th>\n      <th>date</th>\n      <th>precipitation</th>\n      <th>temp_max</th>\n      <th>temp_min</th>\n      <th>wind</th>\n      <th>weather</th>\n    </tr>\n  </thead>\n  <tbody>\n    <tr>\n      <th>0</th>\n      <td>2012/01/01</td>\n      <td>0.0</td>\n      <td>12.8</td>\n      <td>5.0</td>\n      <td>4.7</td>\n      <td>drizzle</td>\n    </tr>\n    <tr>\n      <th>1</th>\n      <td>2012/01/02</td>\n      <td>10.9</td>\n      <td>10.6</td>\n      <td>2.8</td>\n      <td>4.5</td>\n      <td>rain</td>\n    </tr>\n    <tr>\n      <th>2</th>\n      <td>2012/01/03</td>\n      <td>0.8</td>\n      <td>11.7</td>\n      <td>7.2</td>\n      <td>2.3</td>\n      <td>rain</td>\n    </tr>\n    <tr>\n      <th>3</th>\n      <td>2012/01/04</td>\n      <td>20.3</td>\n      <td>12.2</td>\n      <td>5.6</td>\n      <td>4.7</td>\n      <td>rain</td>\n    </tr>\n    <tr>\n      <th>4</th>\n      <td>2012/01/05</td>\n      <td>1.3</td>\n      <td>8.9</td>\n      <td>2.8</td>\n      <td>6.1</td>\n      <td>rain</td>\n    </tr>\n  </tbody>\n</table>\n</div>"
     },
     "execution_count": 52,
     "metadata": {},
     "output_type": "execute_result"
    }
   ],
   "source": [
    "rainfall.head()"
   ],
   "metadata": {
    "collapsed": false,
    "ExecuteTime": {
     "end_time": "2023-08-14T20:20:38.722806300Z",
     "start_time": "2023-08-14T20:20:38.391598700Z"
    }
   },
   "id": "563f469e5fa6ddcb"
  },
  {
   "cell_type": "code",
   "execution_count": 53,
   "outputs": [
    {
     "data": {
      "text/plain": "            date  precipitation  temp_max  temp_min  wind weather\n1456  2015/12/27            8.6       4.4       1.7   2.9     fog\n1457  2015/12/28            1.5       5.0       1.7   1.3     fog\n1458  2015/12/29            0.0       7.2       0.6   2.6     fog\n1459  2015/12/30            0.0       5.6      -1.0   3.4     sun\n1460  2015/12/31            0.0       5.6      -2.1   3.5     sun",
      "text/html": "<div>\n<style scoped>\n    .dataframe tbody tr th:only-of-type {\n        vertical-align: middle;\n    }\n\n    .dataframe tbody tr th {\n        vertical-align: top;\n    }\n\n    .dataframe thead th {\n        text-align: right;\n    }\n</style>\n<table border=\"1\" class=\"dataframe\">\n  <thead>\n    <tr style=\"text-align: right;\">\n      <th></th>\n      <th>date</th>\n      <th>precipitation</th>\n      <th>temp_max</th>\n      <th>temp_min</th>\n      <th>wind</th>\n      <th>weather</th>\n    </tr>\n  </thead>\n  <tbody>\n    <tr>\n      <th>1456</th>\n      <td>2015/12/27</td>\n      <td>8.6</td>\n      <td>4.4</td>\n      <td>1.7</td>\n      <td>2.9</td>\n      <td>fog</td>\n    </tr>\n    <tr>\n      <th>1457</th>\n      <td>2015/12/28</td>\n      <td>1.5</td>\n      <td>5.0</td>\n      <td>1.7</td>\n      <td>1.3</td>\n      <td>fog</td>\n    </tr>\n    <tr>\n      <th>1458</th>\n      <td>2015/12/29</td>\n      <td>0.0</td>\n      <td>7.2</td>\n      <td>0.6</td>\n      <td>2.6</td>\n      <td>fog</td>\n    </tr>\n    <tr>\n      <th>1459</th>\n      <td>2015/12/30</td>\n      <td>0.0</td>\n      <td>5.6</td>\n      <td>-1.0</td>\n      <td>3.4</td>\n      <td>sun</td>\n    </tr>\n    <tr>\n      <th>1460</th>\n      <td>2015/12/31</td>\n      <td>0.0</td>\n      <td>5.6</td>\n      <td>-2.1</td>\n      <td>3.5</td>\n      <td>sun</td>\n    </tr>\n  </tbody>\n</table>\n</div>"
     },
     "execution_count": 53,
     "metadata": {},
     "output_type": "execute_result"
    }
   ],
   "source": [
    "rainfall.tail()"
   ],
   "metadata": {
    "collapsed": false,
    "ExecuteTime": {
     "end_time": "2023-08-14T20:20:38.722806300Z",
     "start_time": "2023-08-14T20:20:38.422018500Z"
    }
   },
   "id": "c956cdbd475f15d8"
  },
  {
   "cell_type": "code",
   "execution_count": 54,
   "outputs": [],
   "source": [
    "len(rainfall.precipitation)\n",
    "rainfall_mm = rainfall.precipitation"
   ],
   "metadata": {
    "collapsed": false,
    "ExecuteTime": {
     "end_time": "2023-08-14T20:20:38.723805700Z",
     "start_time": "2023-08-14T20:20:38.444486800Z"
    }
   },
   "id": "b01420a2862e3b95"
  },
  {
   "cell_type": "code",
   "execution_count": 55,
   "outputs": [
    {
     "data": {
      "text/plain": "4.002739726027397"
     },
     "execution_count": 55,
     "metadata": {},
     "output_type": "execute_result"
    }
   ],
   "source": [
    "number_years = len(rainfall) / 365\n",
    "number_years"
   ],
   "metadata": {
    "collapsed": false,
    "ExecuteTime": {
     "end_time": "2023-08-14T20:20:38.723805700Z",
     "start_time": "2023-08-14T20:20:38.467470300Z"
    }
   },
   "id": "6168a5bcfa00332c"
  },
  {
   "cell_type": "code",
   "execution_count": 56,
   "outputs": [
    {
     "data": {
      "text/plain": "date              object\nprecipitation    float64\ntemp_max         float64\ntemp_min         float64\nwind             float64\nweather           object\ndtype: object"
     },
     "execution_count": 56,
     "metadata": {},
     "output_type": "execute_result"
    }
   ],
   "source": [
    "rainfall.dtypes"
   ],
   "metadata": {
    "collapsed": false,
    "ExecuteTime": {
     "end_time": "2023-08-14T20:20:38.724805Z",
     "start_time": "2023-08-14T20:20:38.482470700Z"
    }
   },
   "id": "42e08c42397e3940"
  },
  {
   "cell_type": "code",
   "execution_count": 57,
   "outputs": [],
   "source": [
    "%matplotlib inline\n",
    "import matplotlib.pyplot as plt\n",
    "import seaborn; seaborn.set()   #set plot styles"
   ],
   "metadata": {
    "collapsed": false,
    "ExecuteTime": {
     "end_time": "2023-08-14T20:20:38.724805Z",
     "start_time": "2023-08-14T20:20:38.505059700Z"
    }
   },
   "id": "9fc4eb7ca2728f43"
  },
  {
   "cell_type": "code",
   "execution_count": 58,
   "outputs": [
    {
     "data": {
      "text/plain": "<Figure size 640x480 with 1 Axes>",
      "image/png": "[encoded data removed]"
     },
     "metadata": {},
     "output_type": "display_data"
    }
   ],
   "source": [
    "plt.hist(rainfall.precipitation, 40);"
   ],
   "metadata": {
    "collapsed": false,
    "ExecuteTime": {
     "end_time": "2023-08-14T20:20:39.199865600Z",
     "start_time": "2023-08-14T20:20:38.550982400Z"
    }
   },
   "id": "d2a40dea92c0dff9"
  },
  {
   "cell_type": "code",
   "execution_count": 59,
   "outputs": [],
   "source": [
    "x = np.array([1,2,3,4,5])"
   ],
   "metadata": {
    "collapsed": false,
    "ExecuteTime": {
     "end_time": "2023-08-14T20:20:39.199865600Z",
     "start_time": "2023-08-14T20:20:39.183055900Z"
    }
   },
   "id": "d57846801866b8c6"
  },
  {
   "cell_type": "code",
   "execution_count": 60,
   "outputs": [
    {
     "data": {
      "text/plain": "array([ True,  True, False, False, False])"
     },
     "execution_count": 60,
     "metadata": {},
     "output_type": "execute_result"
    }
   ],
   "source": [
    "x < 3 #less than"
   ],
   "metadata": {
    "collapsed": false,
    "ExecuteTime": {
     "end_time": "2023-08-14T20:20:39.269452Z",
     "start_time": "2023-08-14T20:20:39.192881700Z"
    }
   },
   "id": "73f798fc318131c9"
  },
  {
   "cell_type": "code",
   "execution_count": 61,
   "outputs": [
    {
     "data": {
      "text/plain": "array([False, False, False,  True,  True])"
     },
     "execution_count": 61,
     "metadata": {},
     "output_type": "execute_result"
    }
   ],
   "source": [
    "x >3"
   ],
   "metadata": {
    "collapsed": false,
    "ExecuteTime": {
     "end_time": "2023-08-14T20:20:39.270451400Z",
     "start_time": "2023-08-14T20:20:39.211320600Z"
    }
   },
   "id": "84169a6c106cafa4"
  },
  {
   "cell_type": "code",
   "execution_count": 62,
   "outputs": [
    {
     "data": {
      "text/plain": "array([ True,  True,  True, False, False])"
     },
     "execution_count": 62,
     "metadata": {},
     "output_type": "execute_result"
    }
   ],
   "source": [
    "x <= 3"
   ],
   "metadata": {
    "collapsed": false,
    "ExecuteTime": {
     "end_time": "2023-08-14T20:20:39.270451400Z",
     "start_time": "2023-08-14T20:20:39.230361900Z"
    }
   },
   "id": "3446cb4108666910"
  },
  {
   "cell_type": "code",
   "execution_count": 63,
   "outputs": [
    {
     "data": {
      "text/plain": "array([False, False,  True,  True,  True])"
     },
     "execution_count": 63,
     "metadata": {},
     "output_type": "execute_result"
    }
   ],
   "source": [
    "x >= 3"
   ],
   "metadata": {
    "collapsed": false,
    "ExecuteTime": {
     "end_time": "2023-08-14T20:20:39.306015300Z",
     "start_time": "2023-08-14T20:20:39.258463Z"
    }
   },
   "id": "2136787db76225b0"
  },
  {
   "cell_type": "code",
   "execution_count": 64,
   "outputs": [
    {
     "data": {
      "text/plain": "array([ True,  True, False,  True,  True])"
     },
     "execution_count": 64,
     "metadata": {},
     "output_type": "execute_result"
    }
   ],
   "source": [
    "x != 3"
   ],
   "metadata": {
    "collapsed": false,
    "ExecuteTime": {
     "end_time": "2023-08-14T20:20:39.361892700Z",
     "start_time": "2023-08-14T20:20:39.294725Z"
    }
   },
   "id": "869081643d400249"
  },
  {
   "cell_type": "code",
   "execution_count": 65,
   "outputs": [
    {
     "data": {
      "text/plain": "array([False, False,  True, False, False])"
     },
     "execution_count": 65,
     "metadata": {},
     "output_type": "execute_result"
    }
   ],
   "source": [
    "x == 3"
   ],
   "metadata": {
    "collapsed": false,
    "ExecuteTime": {
     "end_time": "2023-08-14T20:20:39.395203200Z",
     "start_time": "2023-08-14T20:20:39.332701900Z"
    }
   },
   "id": "69b17dffdd7d2155"
  },
  {
   "cell_type": "code",
   "execution_count": 66,
   "outputs": [
    {
     "data": {
      "text/plain": "array([[9, 4, 0, 3],\n       [8, 6, 3, 1],\n       [3, 7, 4, 0]], dtype=int64)"
     },
     "execution_count": 66,
     "metadata": {},
     "output_type": "execute_result"
    }
   ],
   "source": [
    "rng = np.random.default_rng(seed=1701)  \n",
    "x = rng.integers(10, size=(3,4))\n",
    "x"
   ],
   "metadata": {
    "collapsed": false,
    "ExecuteTime": {
     "end_time": "2023-08-14T20:20:39.396202100Z",
     "start_time": "2023-08-14T20:20:39.365889500Z"
    }
   },
   "id": "a1775c847929f9f3"
  },
  {
   "cell_type": "code",
   "execution_count": 67,
   "outputs": [
    {
     "data": {
      "text/plain": "array([[False,  True,  True,  True],\n       [False, False,  True,  True],\n       [ True, False,  True,  True]])"
     },
     "execution_count": 67,
     "metadata": {},
     "output_type": "execute_result"
    }
   ],
   "source": [
    "x < 6"
   ],
   "metadata": {
    "collapsed": false,
    "ExecuteTime": {
     "end_time": "2023-08-14T20:20:39.450899100Z",
     "start_time": "2023-08-14T20:20:39.380570300Z"
    }
   },
   "id": "440e571c2e561963"
  },
  {
   "cell_type": "code",
   "execution_count": 68,
   "outputs": [
    {
     "name": "stdout",
     "output_type": "stream",
     "text": [
      "[[9 4 0 3]\n",
      " [8 6 3 1]\n",
      " [3 7 4 0]]\n"
     ]
    }
   ],
   "source": [
    "print(x)"
   ],
   "metadata": {
    "collapsed": false,
    "ExecuteTime": {
     "end_time": "2023-08-14T20:20:39.486394100Z",
     "start_time": "2023-08-14T20:20:39.404169Z"
    }
   },
   "id": "4e3166ef26f9d7cd"
  },
  {
   "cell_type": "code",
   "execution_count": 69,
   "outputs": [
    {
     "data": {
      "text/plain": "8"
     },
     "execution_count": 69,
     "metadata": {},
     "output_type": "execute_result"
    }
   ],
   "source": [
    "# how many values less than 6?\n",
    "np.count_nonzero(x<6)"
   ],
   "metadata": {
    "collapsed": false,
    "ExecuteTime": {
     "end_time": "2023-08-14T20:20:39.555423200Z",
     "start_time": "2023-08-14T20:20:39.458887300Z"
    }
   },
   "id": "fc85a0db218c6623"
  },
  {
   "cell_type": "code",
   "execution_count": 70,
   "outputs": [
    {
     "data": {
      "text/plain": "8"
     },
     "execution_count": 70,
     "metadata": {},
     "output_type": "execute_result"
    }
   ],
   "source": [
    "np.sum(x<6)"
   ],
   "metadata": {
    "collapsed": false,
    "ExecuteTime": {
     "end_time": "2023-08-14T20:20:39.558420100Z",
     "start_time": "2023-08-14T20:20:39.488392400Z"
    }
   },
   "id": "c8eb3c365e573197"
  },
  {
   "cell_type": "code",
   "execution_count": 71,
   "outputs": [
    {
     "data": {
      "text/plain": "array([3, 2, 3])"
     },
     "execution_count": 71,
     "metadata": {},
     "output_type": "execute_result"
    }
   ],
   "source": [
    "# how many values less than 6 in each row\n",
    "np.sum(x < 6, axis=1)"
   ],
   "metadata": {
    "collapsed": false,
    "ExecuteTime": {
     "end_time": "2023-08-14T20:20:39.560418800Z",
     "start_time": "2023-08-14T20:20:39.509732800Z"
    }
   },
   "id": "393785017851625a"
  },
  {
   "cell_type": "code",
   "execution_count": 72,
   "outputs": [
    {
     "data": {
      "text/plain": "True"
     },
     "execution_count": 72,
     "metadata": {},
     "output_type": "execute_result"
    }
   ],
   "source": [
    "# are there any values that are greater than 8\n",
    "np.any(x>8)"
   ],
   "metadata": {
    "collapsed": false,
    "ExecuteTime": {
     "end_time": "2023-08-14T20:20:39.560418800Z",
     "start_time": "2023-08-14T20:20:39.529444400Z"
    }
   },
   "id": "935ae1caa6a41de2"
  },
  {
   "cell_type": "code",
   "execution_count": 73,
   "outputs": [
    {
     "data": {
      "text/plain": "False"
     },
     "execution_count": 73,
     "metadata": {},
     "output_type": "execute_result"
    }
   ],
   "source": [
    "# Are there any values that are less than 0?\n",
    "np.any(x<0)"
   ],
   "metadata": {
    "collapsed": false,
    "ExecuteTime": {
     "end_time": "2023-08-14T20:20:39.682399900Z",
     "start_time": "2023-08-14T20:20:39.559420500Z"
    }
   },
   "id": "dec46a66c1a1defd"
  },
  {
   "cell_type": "code",
   "execution_count": 74,
   "outputs": [
    {
     "data": {
      "text/plain": "True"
     },
     "execution_count": 74,
     "metadata": {},
     "output_type": "execute_result"
    }
   ],
   "source": [
    "# are all the values less than 10?\n",
    "np.all(x<10)"
   ],
   "metadata": {
    "collapsed": false,
    "ExecuteTime": {
     "end_time": "2023-08-14T20:20:39.683398800Z",
     "start_time": "2023-08-14T20:20:39.577401Z"
    }
   },
   "id": "b5badc83f6d0d962"
  },
  {
   "cell_type": "code",
   "execution_count": 75,
   "outputs": [
    {
     "data": {
      "text/plain": "False"
     },
     "execution_count": 75,
     "metadata": {},
     "output_type": "execute_result"
    }
   ],
   "source": [
    "# are all the values equal to 6?\n",
    "np.all(x==6)"
   ],
   "metadata": {
    "collapsed": false,
    "ExecuteTime": {
     "end_time": "2023-08-14T20:20:39.741344200Z",
     "start_time": "2023-08-14T20:20:39.598546Z"
    }
   },
   "id": "914413b64122b6f4"
  },
  {
   "cell_type": "code",
   "execution_count": 76,
   "outputs": [
    {
     "data": {
      "text/plain": "array([False, False,  True])"
     },
     "execution_count": 76,
     "metadata": {},
     "output_type": "execute_result"
    }
   ],
   "source": [
    "# are all values in each row less than 8?\n",
    "np.all(x<8,axis=1)"
   ],
   "metadata": {
    "collapsed": false,
    "ExecuteTime": {
     "end_time": "2023-08-14T20:20:39.743342200Z",
     "start_time": "2023-08-14T20:20:39.620462800Z"
    }
   },
   "id": "1c8759976989379f"
  },
  {
   "cell_type": "code",
   "execution_count": 78,
   "outputs": [
    {
     "data": {
      "text/plain": "93"
     },
     "execution_count": 78,
     "metadata": {},
     "output_type": "execute_result"
    }
   ],
   "source": [
    "np.sum((rainfall_mm > 10) & (rainfall_mm < 20))\n"
   ],
   "metadata": {
    "collapsed": false,
    "ExecuteTime": {
     "end_time": "2023-08-14T20:21:55.649474600Z",
     "start_time": "2023-08-14T20:21:55.612996200Z"
    }
   },
   "id": "e1d86f5d932c481b"
  },
  {
   "cell_type": "code",
   "execution_count": 91,
   "outputs": [
    {
     "name": "stdout",
     "output_type": "stream",
     "text": [
      "Number of days without rain:  838\n",
      "Number of days with rain:  623\n",
      "Days with more than 10mm:  144\n",
      "Rainy days with < 5 mm: 360\n"
     ]
    }
   ],
   "source": [
    "print(\"Number of days without rain: \", np.sum(rainfall_mm == 0))\n",
    "print(\"Number of days with rain: \", np.sum(rainfall_mm != 0))\n",
    "print(\"Days with more than 10mm: \", np.sum(rainfall_mm > 10))\n",
    "print(\"Rainy days with < 5 mm:\", np.sum((rainfall_mm > 0) & (rainfall_mm < 5)))"
   ],
   "metadata": {
    "collapsed": false,
    "ExecuteTime": {
     "end_time": "2023-08-14T20:29:55.422570800Z",
     "start_time": "2023-08-14T20:29:55.402083300Z"
    }
   },
   "id": "90186432842f0c34"
  },
  {
   "cell_type": "code",
   "execution_count": 87,
   "outputs": [
    {
     "data": {
      "text/plain": "1461"
     },
     "execution_count": 87,
     "metadata": {},
     "output_type": "execute_result"
    }
   ],
   "source": [
    "total_days = np.sum(rainfall_mm == 0) + np.sum(rainfall_mm != 0)\n",
    "total_days"
   ],
   "metadata": {
    "collapsed": false,
    "ExecuteTime": {
     "end_time": "2023-08-14T20:27:32.787644800Z",
     "start_time": "2023-08-14T20:27:32.772152600Z"
    }
   },
   "id": "26b78b971023e2ed"
  },
  {
   "cell_type": "code",
   "execution_count": 88,
   "outputs": [
    {
     "data": {
      "text/plain": "1461"
     },
     "execution_count": 88,
     "metadata": {},
     "output_type": "execute_result"
    }
   ],
   "source": [
    "len(rainfall.precipitation)"
   ],
   "metadata": {
    "collapsed": false,
    "ExecuteTime": {
     "end_time": "2023-08-14T20:27:33.304919700Z",
     "start_time": "2023-08-14T20:27:33.272058700Z"
    }
   },
   "id": "8b5f6a088c1b9ee8"
  },
  {
   "cell_type": "code",
   "execution_count": 92,
   "outputs": [],
   "source": [
    "# construct a mask of all summer days (June 21st is the 172nd day)\n"
   ],
   "metadata": {
    "collapsed": false,
    "ExecuteTime": {
     "end_time": "2023-08-14T20:36:31.798927Z",
     "start_time": "2023-08-14T20:36:31.755971100Z"
    }
   },
   "id": "14970b892f6bdfa8"
  },
  {
   "cell_type": "code",
   "execution_count": null,
   "outputs": [],
   "source": [],
   "metadata": {
    "collapsed": false
   },
   "id": "b7bf39c04097c9e0"
  }
 ],
 "metadata": {
  "kernelspec": {
   "display_name": "Python 3",
   "language": "python",
   "name": "python3"
  },
  "language_info": {
   "codemirror_mode": {
    "name": "ipython",
    "version": 2
   },
   "file_extension": ".py",
   "mimetype": "text/x-python",
   "name": "python",
   "nbconvert_exporter": "python",
   "pygments_lexer": "ipython2",
   "version": "2.7.6"
  }
 },
 "nbformat": 4,
 "nbformat_minor": 5
}
